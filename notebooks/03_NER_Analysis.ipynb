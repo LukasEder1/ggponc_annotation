{
 "cells": [
  {
   "cell_type": "code",
   "execution_count": 3,
   "id": "2dae8368-f5e8-4ea5-8836-3579b97302b0",
   "metadata": {},
   "outputs": [],
   "source": [
    "import sys\n",
    "sys.path.insert(0, '../util')\n",
    "sys.path.insert(1, '../experiments')\n",
    "\n",
    "import os\n",
    "os.environ[\"TOKENIZERS_PARALLELISM\"] = \"false\""
   ]
  },
  {
   "cell_type": "code",
   "execution_count": 4,
   "id": "f671255e-bc4d-4e49-888d-1063100cd603",
   "metadata": {},
   "outputs": [],
   "source": [
    "from pathlib import Path\n",
    "import re\n",
    "from convert_annotations import read_webanno, webanno_to_iob_df, join_and_resolve, EMPTY_REGEX, VALUE_REGEX\n",
    "import pandas as pd\n",
    "import transformers\n",
    "from transformers import AutoModelForTokenClassification, AutoTokenizer, Trainer, TrainingArguments, pipeline, DataCollatorForTokenClassification, EarlyStoppingCallback, trainer_utils\n",
    "from huggingface_utils import load_custom_dataset, LabelAligner, compute_metrics, eval_on_test_set\n",
    "from run_experiment import get_train_args"
   ]
  },
  {
   "cell_type": "markdown",
   "id": "509dddc7-1afb-4595-b066-b2af076b17a9",
   "metadata": {},
   "source": [
    "## Error Analysis"
   ]
  },
  {
   "cell_type": "code",
   "execution_count": 5,
   "id": "0dceef81-48ad-447c-808f-52a4973cd2e4",
   "metadata": {},
   "outputs": [],
   "source": [
    "import hydra\n",
    "from hydra import compose, initialize"
   ]
  },
  {
   "cell_type": "code",
   "execution_count": 6,
   "id": "8d194511-7042-4183-ba3a-4b8853bb888f",
   "metadata": {},
   "outputs": [],
   "source": [
    "def load_pipeline_and_data(setting):\n",
    "    cfg_file = f'{setting}.yaml'\n",
    "    model_checkpoint = f'../data/models/{setting}/'\n",
    "\n",
    "    hydra.core.global_hydra.GlobalHydra.instance().clear()\n",
    "    initialize(config_path=Path('..') / 'experiments')\n",
    "    config = compose(config_name=cfg_file, overrides=['cuda=0', 'link=false'])\n",
    "    \n",
    "    tokenizer = AutoTokenizer.from_pretrained(config['base_model_checkpoint'])\n",
    "    \n",
    "    dataset, tags = load_custom_dataset(train=config['train_dataset'], dev=config['dev_dataset'], test=config['test_dataset'], tag_strings=config['task'])\n",
    "    \n",
    "    assert isinstance(tokenizer, transformers.PreTrainedTokenizerFast)\n",
    "    \n",
    "    label_aligner = LabelAligner(tokenizer)\n",
    "    dataset = dataset.map(lambda e: label_aligner.tokenize_and_align_labels(e, config['label_all_tokens']), batched=True)\n",
    "    \n",
    "    training_args = get_train_args(cp_path='../ner_results', run_name='error_analysis', report_to=[], **config, resume_from_checkpoint=model_checkpoint)\n",
    "    \n",
    "    model = AutoModelForTokenClassification.from_pretrained(\n",
    "        model_checkpoint\n",
    "    )\n",
    "\n",
    "    data_collator = DataCollatorForTokenClassification(tokenizer)\n",
    "    tr = Trainer(\n",
    "        args=training_args,\n",
    "        model=model,\n",
    "        train_dataset=dataset[\"train\"],\n",
    "        eval_dataset=dataset[\"dev\"],\n",
    "        data_collator=data_collator,\n",
    "        tokenizer=tokenizer,\n",
    "        compute_metrics=compute_metrics(tags, True),\n",
    "    )\n",
    "    \n",
    "    return tr, model, dataset[\"test\"], tokenizer"
   ]
  },
  {
   "cell_type": "code",
   "execution_count": 9,
   "id": "cc6aa250-a2fb-4417-af3b-a8c93def2388",
   "metadata": {},
   "outputs": [
    {
     "name": "stderr",
     "output_type": "stream",
     "text": [
      "WARNING:datasets.builder:Using custom data configuration default-aa369a42bd5d02d6\n",
      "WARNING:datasets.builder:Reusing dataset json (/dhc/home/florian.borchert/.cache/huggingface/datasets/json/default-aa369a42bd5d02d6/0.0.0/d75ead8d5cfcbe67495df0f89bd262f0023257fbbbd94a730313295f3d756d50)\n"
     ]
    },
    {
     "data": {
      "application/vnd.jupyter.widget-view+json": {
       "model_id": "47e7e0031a6a4dd3873f3010997ed34a",
       "version_major": 2,
       "version_minor": 0
      },
      "text/plain": [
       "  0%|          | 0/3 [00:00<?, ?it/s]"
      ]
     },
     "metadata": {},
     "output_type": "display_data"
    },
    {
     "name": "stderr",
     "output_type": "stream",
     "text": [
      "WARNING:datasets.arrow_dataset:Loading cached processed dataset at /dhc/home/florian.borchert/.cache/huggingface/datasets/json/default-aa369a42bd5d02d6/0.0.0/d75ead8d5cfcbe67495df0f89bd262f0023257fbbbd94a730313295f3d756d50/cache-86b21d76916a7285.arrow\n",
      "WARNING:datasets.arrow_dataset:Loading cached processed dataset at /dhc/home/florian.borchert/.cache/huggingface/datasets/json/default-aa369a42bd5d02d6/0.0.0/d75ead8d5cfcbe67495df0f89bd262f0023257fbbbd94a730313295f3d756d50/cache-2b6984a87425f4cd.arrow\n",
      "WARNING:datasets.arrow_dataset:Loading cached processed dataset at /dhc/home/florian.borchert/.cache/huggingface/datasets/json/default-aa369a42bd5d02d6/0.0.0/d75ead8d5cfcbe67495df0f89bd262f0023257fbbbd94a730313295f3d756d50/cache-9ea906c9efcf2cc2.arrow\n",
      "WARNING:datasets.arrow_dataset:Loading cached processed dataset at /dhc/home/florian.borchert/.cache/huggingface/datasets/json/default-aa369a42bd5d02d6/0.0.0/d75ead8d5cfcbe67495df0f89bd262f0023257fbbbd94a730313295f3d756d50/cache-17c193210c4f488b.arrow\n",
      "WARNING:datasets.arrow_dataset:Loading cached processed dataset at /dhc/home/florian.borchert/.cache/huggingface/datasets/json/default-aa369a42bd5d02d6/0.0.0/d75ead8d5cfcbe67495df0f89bd262f0023257fbbbd94a730313295f3d756d50/cache-e422dab7fe85078b.arrow\n",
      "WARNING:datasets.arrow_dataset:Loading cached processed dataset at /dhc/home/florian.borchert/.cache/huggingface/datasets/json/default-aa369a42bd5d02d6/0.0.0/d75ead8d5cfcbe67495df0f89bd262f0023257fbbbd94a730313295f3d756d50/cache-eb50fdab135d13bb.arrow\n"
     ]
    },
    {
     "data": {
      "application/vnd.jupyter.widget-view+json": {
       "model_id": "aac1da33da0249aa8875379bf83a231e",
       "version_major": 2,
       "version_minor": 0
      },
      "text/plain": [
       "  0%|          | 0/24 [00:00<?, ?ba/s]"
      ]
     },
     "metadata": {},
     "output_type": "display_data"
    },
    {
     "data": {
      "application/vnd.jupyter.widget-view+json": {
       "model_id": "5e119f4e65994953a1a48e0974309718",
       "version_major": 2,
       "version_minor": 0
      },
      "text/plain": [
       "  0%|          | 0/5 [00:00<?, ?ba/s]"
      ]
     },
     "metadata": {},
     "output_type": "display_data"
    },
    {
     "data": {
      "application/vnd.jupyter.widget-view+json": {
       "model_id": "6c774329e2e24f01b4ae8e566eae8ea4",
       "version_major": 2,
       "version_minor": 0
      },
      "text/plain": [
       "  0%|          | 0/5 [00:00<?, ?ba/s]"
      ]
     },
     "metadata": {},
     "output_type": "display_data"
    },
    {
     "name": "stderr",
     "output_type": "stream",
     "text": [
      "INFO:run_experiment:error_analysis\n",
      "Using amp fp16 backend\n",
      "loading configuration file https://huggingface.co/deepset/gbert-base/resolve/main/config.json from cache at /dhc/home/florian.borchert/.cache/huggingface/transformers/0f9d6c73cd85ab98cecc6866492c84f23e72bbaf2240a24da0e5d5e3b8810707.080f0bd0794ab07ca509487675f6cb88cfbdc04fc142b21be92212223e82cb14\n",
      "Model config BertConfig {\n",
      "  \"architectures\": [\n",
      "    \"BertForMaskedLM\"\n",
      "  ],\n",
      "  \"attention_probs_dropout_prob\": 0.1,\n",
      "  \"classifier_dropout\": null,\n",
      "  \"hidden_act\": \"gelu\",\n",
      "  \"hidden_dropout_prob\": 0.1,\n",
      "  \"hidden_size\": 768,\n",
      "  \"initializer_range\": 0.02,\n",
      "  \"intermediate_size\": 3072,\n",
      "  \"layer_norm_eps\": 1e-12,\n",
      "  \"max_position_embeddings\": 512,\n",
      "  \"model_type\": \"bert\",\n",
      "  \"num_attention_heads\": 12,\n",
      "  \"num_hidden_layers\": 12,\n",
      "  \"pad_token_id\": 0,\n",
      "  \"position_embedding_type\": \"absolute\",\n",
      "  \"transformers_version\": \"4.12.2\",\n",
      "  \"type_vocab_size\": 2,\n",
      "  \"use_cache\": true,\n",
      "  \"vocab_size\": 31102\n",
      "}\n",
      "\n",
      "loading file https://huggingface.co/deepset/gbert-base/resolve/main/vocab.txt from cache at /dhc/home/florian.borchert/.cache/huggingface/transformers/8ea73f36ba0a7840155009d5895ebcf32d0e295b0fdb3f3da5b2037fdd43e64f.4d65bbd3b91f2762e9d2c779d48ab14052439d3fcc8c3d2fe78c7322a9ac8d64\n",
      "loading file https://huggingface.co/deepset/gbert-base/resolve/main/tokenizer.json from cache at None\n",
      "loading file https://huggingface.co/deepset/gbert-base/resolve/main/added_tokens.json from cache at None\n",
      "loading file https://huggingface.co/deepset/gbert-base/resolve/main/special_tokens_map.json from cache at None\n",
      "loading file https://huggingface.co/deepset/gbert-base/resolve/main/tokenizer_config.json from cache at /dhc/home/florian.borchert/.cache/huggingface/transformers/25eaa3f6fbca0d53a3bb60ceb2c51cda618ab0c2b76aee3c9b9f7ffc5bf13b5b.bd85f6a0d9c2848260fdda7056a557a7fa213a57b5ed27b530abd20572c0cbf4\n",
      "loading configuration file https://huggingface.co/deepset/gbert-base/resolve/main/config.json from cache at /dhc/home/florian.borchert/.cache/huggingface/transformers/0f9d6c73cd85ab98cecc6866492c84f23e72bbaf2240a24da0e5d5e3b8810707.080f0bd0794ab07ca509487675f6cb88cfbdc04fc142b21be92212223e82cb14\n",
      "Model config BertConfig {\n",
      "  \"architectures\": [\n",
      "    \"BertForMaskedLM\"\n",
      "  ],\n",
      "  \"attention_probs_dropout_prob\": 0.1,\n",
      "  \"classifier_dropout\": null,\n",
      "  \"hidden_act\": \"gelu\",\n",
      "  \"hidden_dropout_prob\": 0.1,\n",
      "  \"hidden_size\": 768,\n",
      "  \"initializer_range\": 0.02,\n",
      "  \"intermediate_size\": 3072,\n",
      "  \"layer_norm_eps\": 1e-12,\n",
      "  \"max_position_embeddings\": 512,\n",
      "  \"model_type\": \"bert\",\n",
      "  \"num_attention_heads\": 12,\n",
      "  \"num_hidden_layers\": 12,\n",
      "  \"pad_token_id\": 0,\n",
      "  \"position_embedding_type\": \"absolute\",\n",
      "  \"transformers_version\": \"4.12.2\",\n",
      "  \"type_vocab_size\": 2,\n",
      "  \"use_cache\": true,\n",
      "  \"vocab_size\": 31102\n",
      "}\n",
      "\n",
      "loading configuration file https://huggingface.co/deepset/gbert-base/resolve/main/config.json from cache at /dhc/home/florian.borchert/.cache/huggingface/transformers/0f9d6c73cd85ab98cecc6866492c84f23e72bbaf2240a24da0e5d5e3b8810707.080f0bd0794ab07ca509487675f6cb88cfbdc04fc142b21be92212223e82cb14\n",
      "Model config BertConfig {\n",
      "  \"architectures\": [\n",
      "    \"BertForMaskedLM\"\n",
      "  ],\n",
      "  \"attention_probs_dropout_prob\": 0.1,\n",
      "  \"classifier_dropout\": null,\n",
      "  \"hidden_act\": \"gelu\",\n",
      "  \"hidden_dropout_prob\": 0.1,\n",
      "  \"hidden_size\": 768,\n",
      "  \"initializer_range\": 0.02,\n",
      "  \"intermediate_size\": 3072,\n",
      "  \"layer_norm_eps\": 1e-12,\n",
      "  \"max_position_embeddings\": 512,\n",
      "  \"model_type\": \"bert\",\n",
      "  \"num_attention_heads\": 12,\n",
      "  \"num_hidden_layers\": 12,\n",
      "  \"pad_token_id\": 0,\n",
      "  \"position_embedding_type\": \"absolute\",\n",
      "  \"transformers_version\": \"4.12.2\",\n",
      "  \"type_vocab_size\": 2,\n",
      "  \"use_cache\": true,\n",
      "  \"vocab_size\": 31102\n",
      "}\n",
      "\n",
      "WARNING:datasets.builder:Using custom data configuration default-e752de27ac5fb655\n",
      "WARNING:datasets.builder:Reusing dataset json (/dhc/home/florian.borchert/.cache/huggingface/datasets/json/default-e752de27ac5fb655/0.0.0/d75ead8d5cfcbe67495df0f89bd262f0023257fbbbd94a730313295f3d756d50)\n"
     ]
    },
    {
     "data": {
      "application/vnd.jupyter.widget-view+json": {
       "model_id": "1ea35722a53f45a5967d2aa88b2183f0",
       "version_major": 2,
       "version_minor": 0
      },
      "text/plain": [
       "  0%|          | 0/3 [00:00<?, ?it/s]"
      ]
     },
     "metadata": {},
     "output_type": "display_data"
    },
    {
     "name": "stderr",
     "output_type": "stream",
     "text": [
      "WARNING:datasets.arrow_dataset:Loading cached processed dataset at /dhc/home/florian.borchert/.cache/huggingface/datasets/json/default-e752de27ac5fb655/0.0.0/d75ead8d5cfcbe67495df0f89bd262f0023257fbbbd94a730313295f3d756d50/cache-ce0c1de7648e19e4.arrow\n",
      "WARNING:datasets.arrow_dataset:Loading cached processed dataset at /dhc/home/florian.borchert/.cache/huggingface/datasets/json/default-e752de27ac5fb655/0.0.0/d75ead8d5cfcbe67495df0f89bd262f0023257fbbbd94a730313295f3d756d50/cache-8ce87686a8b4fd56.arrow\n",
      "WARNING:datasets.arrow_dataset:Loading cached processed dataset at /dhc/home/florian.borchert/.cache/huggingface/datasets/json/default-e752de27ac5fb655/0.0.0/d75ead8d5cfcbe67495df0f89bd262f0023257fbbbd94a730313295f3d756d50/cache-a9daf42c8a6766ab.arrow\n",
      "WARNING:datasets.arrow_dataset:Loading cached processed dataset at /dhc/home/florian.borchert/.cache/huggingface/datasets/json/default-e752de27ac5fb655/0.0.0/d75ead8d5cfcbe67495df0f89bd262f0023257fbbbd94a730313295f3d756d50/cache-4d50318a1ea9daa9.arrow\n",
      "WARNING:datasets.arrow_dataset:Loading cached processed dataset at /dhc/home/florian.borchert/.cache/huggingface/datasets/json/default-e752de27ac5fb655/0.0.0/d75ead8d5cfcbe67495df0f89bd262f0023257fbbbd94a730313295f3d756d50/cache-561f656fcd9f2842.arrow\n",
      "WARNING:datasets.arrow_dataset:Loading cached processed dataset at /dhc/home/florian.borchert/.cache/huggingface/datasets/json/default-e752de27ac5fb655/0.0.0/d75ead8d5cfcbe67495df0f89bd262f0023257fbbbd94a730313295f3d756d50/cache-7dc2d02a86f490c4.arrow\n"
     ]
    },
    {
     "data": {
      "application/vnd.jupyter.widget-view+json": {
       "model_id": "32a16f459d724f3e93d4f51a46063fa1",
       "version_major": 2,
       "version_minor": 0
      },
      "text/plain": [
       "  0%|          | 0/24 [00:00<?, ?ba/s]"
      ]
     },
     "metadata": {},
     "output_type": "display_data"
    },
    {
     "data": {
      "application/vnd.jupyter.widget-view+json": {
       "model_id": "bb1357dcb635463286fc3eabb13a9c9e",
       "version_major": 2,
       "version_minor": 0
      },
      "text/plain": [
       "  0%|          | 0/5 [00:00<?, ?ba/s]"
      ]
     },
     "metadata": {},
     "output_type": "display_data"
    },
    {
     "data": {
      "application/vnd.jupyter.widget-view+json": {
       "model_id": "cbd06889a7f14b9083e2c3f3cbb70807",
       "version_major": 2,
       "version_minor": 0
      },
      "text/plain": [
       "  0%|          | 0/5 [00:00<?, ?ba/s]"
      ]
     },
     "metadata": {},
     "output_type": "display_data"
    },
    {
     "name": "stderr",
     "output_type": "stream",
     "text": [
      "INFO:run_experiment:error_analysis\n",
      "PyTorch: setting up devices\n",
      "loading configuration file ../data/models/04_ggponc_fine_long/config.json\n",
      "Model config BertConfig {\n",
      "  \"_name_or_path\": \"deepset/gbert-base\",\n",
      "  \"architectures\": [\n",
      "    \"BertForTokenClassification\"\n",
      "  ],\n",
      "  \"attention_probs_dropout_prob\": 0.1,\n",
      "  \"classifier_dropout\": null,\n",
      "  \"hidden_act\": \"gelu\",\n",
      "  \"hidden_dropout_prob\": 0.1,\n",
      "  \"hidden_size\": 768,\n",
      "  \"id2label\": {\n",
      "    \"0\": \"O\",\n",
      "    \"1\": \"B-Other_Finding\",\n",
      "    \"2\": \"I-Other_Finding\",\n",
      "    \"3\": \"B-Diagnosis_or_Pathology\",\n",
      "    \"4\": \"I-Diagnosis_or_Pathology\",\n",
      "    \"5\": \"B-Therapeutic\",\n",
      "    \"6\": \"I-Therapeutic\",\n",
      "    \"7\": \"B-Diagnostic\",\n",
      "    \"8\": \"I-Diagnostic\",\n",
      "    \"9\": \"B-Nutrient_or_Body_Substance\",\n",
      "    \"10\": \"I-Nutrient_or_Body_Substance\",\n",
      "    \"11\": \"B-External_Substance\",\n",
      "    \"12\": \"I-External_Substance\",\n",
      "    \"13\": \"B-Clinical_Drug\",\n",
      "    \"14\": \"I-Clinical_Drug\"\n",
      "  },\n",
      "  \"initializer_range\": 0.02,\n",
      "  \"intermediate_size\": 3072,\n",
      "  \"label2id\": {\n",
      "    \"LABEL_0\": 0,\n",
      "    \"LABEL_1\": 1,\n",
      "    \"LABEL_10\": 10,\n",
      "    \"LABEL_11\": 11,\n",
      "    \"LABEL_12\": 12,\n",
      "    \"LABEL_13\": 13,\n",
      "    \"LABEL_14\": 14,\n",
      "    \"LABEL_2\": 2,\n",
      "    \"LABEL_3\": 3,\n",
      "    \"LABEL_4\": 4,\n",
      "    \"LABEL_5\": 5,\n",
      "    \"LABEL_6\": 6,\n",
      "    \"LABEL_7\": 7,\n",
      "    \"LABEL_8\": 8,\n",
      "    \"LABEL_9\": 9\n",
      "  },\n",
      "  \"layer_norm_eps\": 1e-12,\n",
      "  \"max_position_embeddings\": 512,\n",
      "  \"model_type\": \"bert\",\n",
      "  \"num_attention_heads\": 12,\n",
      "  \"num_hidden_layers\": 12,\n",
      "  \"pad_token_id\": 0,\n",
      "  \"position_embedding_type\": \"absolute\",\n",
      "  \"torch_dtype\": \"float32\",\n",
      "  \"transformers_version\": \"4.12.2\",\n",
      "  \"type_vocab_size\": 2,\n",
      "  \"use_cache\": true,\n",
      "  \"vocab_size\": 31102\n",
      "}\n",
      "\n",
      "loading weights file ../data/models/04_ggponc_fine_long/pytorch_model.bin\n",
      "All model checkpoint weights were used when initializing BertForTokenClassification.\n",
      "\n",
      "All the weights of BertForTokenClassification were initialized from the model checkpoint at ../data/models/04_ggponc_fine_long/.\n",
      "If your task is similar to the task the model of the checkpoint was trained on, you can already use BertForTokenClassification for predictions without further training.\n",
      "Using amp fp16 backend\n"
     ]
    }
   ],
   "source": [
    "tr_short, model_short, test_ds_short, tokenizer = load_pipeline_and_data('02_ggponc_fine_short')\n",
    "tr_long, model_long, test_ds_long, _ = load_pipeline_and_data('04_ggponc_fine_long')"
   ]
  },
  {
   "cell_type": "code",
   "execution_count": 10,
   "id": "6d4d3b71-313b-4409-a6f4-8607fc25b121",
   "metadata": {},
   "outputs": [],
   "source": [
    "from transformers.pipelines.token_classification import AggregationStrategy\n",
    "pipe_short = pipeline(\"ner\", model_short, tokenizer=tokenizer, device=0, aggregation_strategy=AggregationStrategy.FIRST)\n",
    "pipe_long = pipeline(\"ner\", model_long, tokenizer=tokenizer, device=0, aggregation_strategy=AggregationStrategy.FIRST)"
   ]
  },
  {
   "cell_type": "code",
   "execution_count": 11,
   "id": "4793d55e-bd7a-4f1c-922a-8a4bb8a76678",
   "metadata": {},
   "outputs": [],
   "source": [
    "wiki_sentence = \"\"\"\"Cetuximab ist ein monoklonaler Antikörper, der gegen den epidermalen Wachstumsfaktorrezeptor (EGFR) gerichtet ist und \n",
    "dient zur Therapie des fortgeschrittenen kolorektalen Karzinoms zusammen mit Irinotecan oder in Kombination mit FOLFOX bzw. \n",
    "allein nach Versagen einer Behandlung mit Oxaliplatin und Irinotecan.\"\"\""
   ]
  },
  {
   "cell_type": "code",
   "execution_count": 12,
   "id": "a69c68fa-79da-47c9-87fd-7fe32de706cc",
   "metadata": {},
   "outputs": [
    {
     "data": {
      "text/plain": [
       "[{'entity_group': 'Clinical_Drug',\n",
       "  'score': 0.96303827,\n",
       "  'word': 'Cetuximab',\n",
       "  'start': 1,\n",
       "  'end': 10},\n",
       " {'entity_group': 'Clinical_Drug',\n",
       "  'score': 0.9632393,\n",
       "  'word': 'Antikörper',\n",
       "  'start': 32,\n",
       "  'end': 42},\n",
       " {'entity_group': 'Nutrient_or_Body_Substance',\n",
       "  'score': 0.9633988,\n",
       "  'word': 'Wachstumsfaktorrezeptor',\n",
       "  'start': 70,\n",
       "  'end': 93},\n",
       " {'entity_group': 'Nutrient_or_Body_Substance',\n",
       "  'score': 0.964254,\n",
       "  'word': 'EGFR',\n",
       "  'start': 95,\n",
       "  'end': 99},\n",
       " {'entity_group': 'Therapeutic',\n",
       "  'score': 0.9626832,\n",
       "  'word': 'Therapie',\n",
       "  'start': 130,\n",
       "  'end': 138},\n",
       " {'entity_group': 'Diagnosis_or_Pathology',\n",
       "  'score': 0.9633034,\n",
       "  'word': 'Karzinoms',\n",
       "  'start': 174,\n",
       "  'end': 183},\n",
       " {'entity_group': 'Clinical_Drug',\n",
       "  'score': 0.96274924,\n",
       "  'word': 'Irinotecan',\n",
       "  'start': 197,\n",
       "  'end': 207},\n",
       " {'entity_group': 'Therapeutic',\n",
       "  'score': 0.96200514,\n",
       "  'word': 'FOLFOX',\n",
       "  'start': 232,\n",
       "  'end': 238},\n",
       " {'entity_group': 'Other_Finding',\n",
       "  'score': 0.66180867,\n",
       "  'word': 'Versagen',\n",
       "  'start': 257,\n",
       "  'end': 265},\n",
       " {'entity_group': 'Therapeutic',\n",
       "  'score': 0.9621116,\n",
       "  'word': 'Behandlung',\n",
       "  'start': 272,\n",
       "  'end': 282},\n",
       " {'entity_group': 'Clinical_Drug',\n",
       "  'score': 0.9631051,\n",
       "  'word': 'Oxaliplatin',\n",
       "  'start': 287,\n",
       "  'end': 298},\n",
       " {'entity_group': 'Clinical_Drug',\n",
       "  'score': 0.9630242,\n",
       "  'word': 'Irinotecan',\n",
       "  'start': 303,\n",
       "  'end': 313}]"
      ]
     },
     "execution_count": 12,
     "metadata": {},
     "output_type": "execute_result"
    }
   ],
   "source": [
    "pipe_short(wiki_sentence)"
   ]
  },
  {
   "cell_type": "code",
   "execution_count": 13,
   "id": "4b63d634-fa8c-4b50-b6fd-6456e48f4cc1",
   "metadata": {},
   "outputs": [
    {
     "data": {
      "text/plain": [
       "[{'entity_group': 'Clinical_Drug',\n",
       "  'score': 0.9999979,\n",
       "  'word': 'Cetuximab',\n",
       "  'start': 1,\n",
       "  'end': 10},\n",
       " {'entity_group': 'Clinical_Drug',\n",
       "  'score': 0.99999464,\n",
       "  'word': 'monoklonaler Antikörper',\n",
       "  'start': 19,\n",
       "  'end': 42},\n",
       " {'entity_group': 'Nutrient_or_Body_Substance',\n",
       "  'score': 0.9999898,\n",
       "  'word': 'epidermalen Wachstumsfaktorrezeptor',\n",
       "  'start': 58,\n",
       "  'end': 93},\n",
       " {'entity_group': 'Nutrient_or_Body_Substance',\n",
       "  'score': 0.99998355,\n",
       "  'word': 'EGFR',\n",
       "  'start': 95,\n",
       "  'end': 99},\n",
       " {'entity_group': 'Therapeutic',\n",
       "  'score': 0.9999932,\n",
       "  'word': 'Therapie des fortgeschrittenen kolorektalen Karzinoms',\n",
       "  'start': 130,\n",
       "  'end': 183},\n",
       " {'entity_group': 'Clinical_Drug',\n",
       "  'score': 0.99996597,\n",
       "  'word': 'Irinotecan',\n",
       "  'start': 197,\n",
       "  'end': 207},\n",
       " {'entity_group': 'Therapeutic',\n",
       "  'score': 0.99939084,\n",
       "  'word': 'FOLFOX',\n",
       "  'start': 232,\n",
       "  'end': 238},\n",
       " {'entity_group': 'Other_Finding',\n",
       "  'score': 0.9010091,\n",
       "  'word': 'Versagen einer Behandlung mit Oxaliplatin und Irinotecan',\n",
       "  'start': 257,\n",
       "  'end': 313}]"
      ]
     },
     "execution_count": 13,
     "metadata": {},
     "output_type": "execute_result"
    }
   ],
   "source": [
    "pipe_long(wiki_sentence)"
   ]
  },
  {
   "cell_type": "code",
   "execution_count": 14,
   "id": "0702ad5e-b156-41b4-9942-3aa92af15fae",
   "metadata": {},
   "outputs": [
    {
     "name": "stderr",
     "output_type": "stream",
     "text": [
      "The following columns in the test set  don't have a corresponding argument in `BertForTokenClassification.forward` and have been ignored: offset_mapping, tags, _tags, tokens, fname, special_tokens_mask, sentence_id.\n",
      "***** Running Prediction *****\n",
      "  Num examples = 4826\n",
      "  Batch size = 32\n"
     ]
    },
    {
     "data": {
      "text/html": [
       "\n",
       "    <div>\n",
       "      \n",
       "      <progress value='167' max='151' style='width:300px; height:20px; vertical-align: middle;'></progress>\n",
       "      [151/151 26:27]\n",
       "    </div>\n",
       "    "
      ],
      "text/plain": [
       "<IPython.core.display.HTML object>"
      ]
     },
     "metadata": {},
     "output_type": "display_data"
    },
    {
     "name": "stderr",
     "output_type": "stream",
     "text": [
      "4826it [00:02, 2186.19it/s]\n",
      "The following columns in the test set  don't have a corresponding argument in `BertForTokenClassification.forward` and have been ignored: offset_mapping, tags, _tags, tokens, fname, special_tokens_mask, sentence_id.\n",
      "***** Running Prediction *****\n",
      "  Num examples = 4826\n",
      "  Batch size = 32\n"
     ]
    },
    {
     "data": {
      "text/html": [
       "\n",
       "    <div>\n",
       "      \n",
       "      <progress value='167' max='151' style='width:300px; height:20px; vertical-align: middle;'></progress>\n",
       "      [151/151 26:18]\n",
       "    </div>\n",
       "    "
      ],
      "text/plain": [
       "<IPython.core.display.HTML object>"
      ]
     },
     "metadata": {},
     "output_type": "display_data"
    },
    {
     "name": "stderr",
     "output_type": "stream",
     "text": [
      "4826it [00:02, 2134.92it/s]\n"
     ]
    }
   ],
   "source": [
    "test_set_metrics_short = eval_on_test_set(test_ds_short, tr_short, tokenizer, \"test_short_full\")\n",
    "test_set_metrics_long = eval_on_test_set(test_ds_long, tr_long, tokenizer, \"test_long_full\")"
   ]
  },
  {
   "cell_type": "markdown",
   "id": "d4f8c39e-1e18-4d59-9430-b58c75f414f2",
   "metadata": {},
   "source": [
    "# Read coordination ellipses"
   ]
  },
  {
   "cell_type": "markdown",
   "id": "8747176f-2697-4f0b-b618-81d69556f739",
   "metadata": {},
   "source": [
    "Annotators were asked to annotate ellipses and their corresponding resolution using the `prefix` and `suffix` items as well as `fragment` relations for morpheme coordination (i.e., omission of subwords, in German commonly indicated by a Auslassungsstrich \"-\")"
   ]
  },
  {
   "cell_type": "markdown",
   "id": "c42d1c97-12b2-4f50-8884-fa5a84a6c260",
   "metadata": {},
   "source": [
    "### Read the data from WebAnno TSV files"
   ]
  },
  {
   "cell_type": "code",
   "execution_count": 27,
   "id": "311a434c-0e9a-47b8-a56b-3341b01eda00",
   "metadata": {},
   "outputs": [
    {
     "name": "stdout",
     "output_type": "stream",
     "text": [
      "CPU times: user 25.7 s, sys: 781 ms, total: 26.4 s\n",
      "Wall time: 28.9 s\n"
     ]
    }
   ],
   "source": [
    "%%time\n",
    "tsv_folder = '../data/annotations/webanno'\n",
    "\n",
    "webanno_df = read_webanno(Path(tsv_folder).glob('*.tsv'))"
   ]
  },
  {
   "cell_type": "code",
   "execution_count": 28,
   "id": "6c6f8441-cba4-4efb-80a6-67d812f1378e",
   "metadata": {},
   "outputs": [
    {
     "name": "stderr",
     "output_type": "stream",
     "text": [
      "  0%|          | 0/45031 [00:00<?, ?it/s]/dhc/home/florian.borchert/workspace/ggponc_annotation/notebooks/../util/convert_annotations.py:70: PerformanceWarning: indexing past lexsort depth may impact performance.\n",
      "  d = webanno_df.loc[(file, sentence_id)]\n",
      "  3%|▎         | 1192/45031 [00:19<10:17, 70.95it/s]ERROR:convert_annotations:01_magenkarzinom_0042.tsv, 1, ('Stuck expanding sections',)\n",
      " 12%|█▏        | 5399/45031 [01:25<11:03, 59.71it/s]WARNING:convert_annotations:Duplicate annotation: Procedure[28]|Procedure[29]\n",
      "WARNING:convert_annotations:Duplicate annotation: Therapeutic[28]|Diagnostic[29]\n",
      " 15%|█▌        | 6901/45031 [01:47<08:50, 71.86it/s]WARNING:convert_annotations:Duplicate annotation: Procedure[3]|Procedure[4]\n",
      "WARNING:convert_annotations:Duplicate annotation: Diagnostic[3]|Therapeutic[4]\n",
      " 16%|█▋        | 7375/45031 [01:54<09:08, 68.69it/s]ERROR:convert_annotations:05_zervixkarzinom_0006.tsv, 4, ('Stuck expanding sections',)\n",
      " 17%|█▋        | 7719/45031 [01:58<07:34, 82.12it/s]ERROR:convert_annotations:05_zervixkarzinom_0044.tsv, 5, ('Stuck expanding sections',)\n",
      " 17%|█▋        | 7847/45031 [02:00<09:16, 66.81it/s]ERROR:convert_annotations:05_zervixkarzinom_0063.tsv, 6, ('Stuck expanding sections',)\n",
      " 18%|█▊        | 7881/45031 [02:01<08:00, 77.38it/s]ERROR:convert_annotations:05_zervixkarzinom_0068.tsv, 3, ('Stuck expanding sections',)\n",
      " 18%|█▊        | 7931/45031 [02:02<10:34, 58.50it/s]ERROR:convert_annotations:05_zervixkarzinom_0076.tsv, 8, ('Stuck expanding sections',)\n",
      " 18%|█▊        | 8132/45031 [02:05<09:14, 66.53it/s]ERROR:convert_annotations:05_zervixkarzinom_0108.tsv, 20, ('Stuck expanding sections',)\n",
      " 18%|█▊        | 8201/45031 [02:06<08:41, 70.57it/s]ERROR:convert_annotations:05_zervixkarzinom_0112.tsv, 14, ('Stuck expanding sections',)\n",
      " 18%|█▊        | 8242/45031 [02:06<08:46, 69.82it/s]ERROR:convert_annotations:05_zervixkarzinom_0119.tsv, 3, ('Stuck expanding sections',)\n",
      " 18%|█▊        | 8258/45031 [02:07<08:54, 68.78it/s]ERROR:convert_annotations:05_zervixkarzinom_0122.tsv, 6, ('Stuck expanding sections',)\n",
      " 19%|█▊        | 8346/45031 [02:08<08:23, 72.93it/s]ERROR:convert_annotations:05_zervixkarzinom_0126.tsv, 6, ('Stuck expanding sections',)\n",
      " 19%|█▊        | 8368/45031 [02:08<09:58, 61.27it/s]ERROR:convert_annotations:05_zervixkarzinom_0132.tsv, 7, ('Stuck expanding sections',)\n",
      "ERROR:convert_annotations:05_zervixkarzinom_0132.tsv, 9, ('Stuck expanding sections',)\n",
      " 19%|█▉        | 8452/45031 [02:09<07:56, 76.81it/s]ERROR:convert_annotations:05_zervixkarzinom_0146.tsv, 9, ('Stuck expanding sections',)\n",
      " 19%|█▉        | 8530/45031 [02:11<09:02, 67.32it/s]ERROR:convert_annotations:05_zervixkarzinom_0153.tsv, 8, ('Stuck expanding sections',)\n",
      " 19%|█▉        | 8658/45031 [02:12<07:58, 75.94it/s]ERROR:convert_annotations:05_zervixkarzinom_0170.tsv, 15, ('Stuck expanding sections',)\n",
      " 19%|█▉        | 8729/45031 [02:14<09:15, 65.36it/s]ERROR:convert_annotations:05_zervixkarzinom_0175.tsv, 32, ('Stuck expanding sections',)\n",
      " 20%|█▉        | 8917/45031 [02:16<09:45, 61.68it/s]ERROR:convert_annotations:05_zervixkarzinom_0202.tsv, 1, ('Stuck expanding sections',)\n",
      " 20%|█▉        | 8970/45031 [02:17<10:15, 58.54it/s]ERROR:convert_annotations:05_zervixkarzinom_0212.tsv, 19, ('Stuck expanding sections',)\n",
      " 23%|██▎       | 10135/45031 [02:34<07:12, 80.63it/s]WARNING:convert_annotations:Duplicate annotation: Finding[1]|Finding[3]\n",
      "WARNING:convert_annotations:Duplicate annotation: Other Finding[1]|Other Finding[3]\n",
      " 43%|████▎     | 19556/45031 [04:46<06:10, 68.74it/s] WARNING:convert_annotations:Duplicate annotation: Procedure[181]|Procedure[182]\n",
      "WARNING:convert_annotations:Duplicate annotation: Diagnostic[181]|Therapeutic[182]\n",
      " 48%|████▊     | 21418/45031 [05:12<05:30, 71.34it/s]ERROR:convert_annotations:14_larynxkarzinom_0006.tsv, 28, ('Stuck expanding sections',)\n",
      " 48%|████▊     | 21433/45031 [05:12<06:24, 61.38it/s]ERROR:convert_annotations:14_larynxkarzinom_0008.tsv, 6, ('Stuck expanding sections',)\n",
      " 48%|████▊     | 21440/45031 [05:13<07:00, 56.09it/s]ERROR:convert_annotations:14_larynxkarzinom_0008.tsv, 12, ('Stuck expanding sections',)\n",
      "ERROR:convert_annotations:14_larynxkarzinom_0008.tsv, 13, ('Stuck expanding sections',)\n",
      " 48%|████▊     | 21732/45031 [05:17<06:01, 64.49it/s]ERROR:convert_annotations:14_larynxkarzinom_0037.tsv, 7, ('Stuck expanding sections',)\n",
      " 49%|████▊     | 21938/45031 [05:20<05:58, 64.46it/s]ERROR:convert_annotations:14_larynxkarzinom_0065.tsv, 1, ('*', '*')\n",
      " 49%|████▉     | 22004/45031 [05:21<06:36, 58.13it/s]ERROR:convert_annotations:14_larynxkarzinom_0079.tsv, 17, ('Stuck expanding sections',)\n",
      " 49%|████▉     | 22041/45031 [05:22<06:02, 63.36it/s]ERROR:convert_annotations:14_larynxkarzinom_0079.tsv, 53, ('Stuck expanding sections',)\n",
      " 49%|████▉     | 22121/45031 [05:23<05:52, 64.99it/s]ERROR:convert_annotations:14_larynxkarzinom_0096.tsv, 3, ('Stuck expanding sections',)\n",
      " 50%|█████     | 22542/45031 [05:30<05:19, 70.43it/s]ERROR:convert_annotations:14_larynxkarzinom_0126.tsv, 23, ('Stuck expanding sections',)\n",
      " 51%|█████▏    | 23180/45031 [05:37<05:44, 63.40it/s] WARNING:convert_annotations:Duplicate annotation: Procedure[5]|Procedure[6]\n",
      "WARNING:convert_annotations:Duplicate annotation: Diagnostic[5]|Therapeutic[6]\n",
      " 62%|██████▏   | 27978/45031 [06:51<04:40, 60.77it/s] WARNING:convert_annotations:Duplicate annotation: Procedure[1]|Procedure[2]\n",
      "WARNING:convert_annotations:Duplicate annotation: Diagnostic[1]|Therapeutic[2]\n",
      " 65%|██████▌   | 29408/45031 [07:13<03:19, 78.27it/s]ERROR:convert_annotations:20_harnblasenkarzinom_0025.tsv, 16, ('Stuck expanding sections',)\n",
      " 65%|██████▌   | 29485/45031 [07:14<02:47, 92.76it/s]ERROR:convert_annotations:20_harnblasenkarzinom_0028.tsv, 8, ('Stuck expanding sections',)\n",
      " 66%|██████▌   | 29543/45031 [07:14<03:08, 82.00it/s]ERROR:convert_annotations:20_harnblasenkarzinom_0038.tsv, 8, ('Stuck expanding sections',)\n",
      " 66%|██████▌   | 29625/45031 [07:15<03:44, 68.76it/s]ERROR:convert_annotations:20_harnblasenkarzinom_0049.tsv, 1, ('*', '*')\n",
      " 66%|██████▌   | 29766/45031 [07:17<03:03, 83.30it/s]ERROR:convert_annotations:20_harnblasenkarzinom_0075.tsv, 24, ('Stuck expanding sections',)\n",
      " 67%|██████▋   | 29946/45031 [07:20<03:07, 80.26it/s]ERROR:convert_annotations:20_harnblasenkarzinom_0086.tsv, 58, ('Stuck expanding sections',)\n",
      " 67%|██████▋   | 29999/45031 [07:20<03:10, 78.70it/s]ERROR:convert_annotations:20_harnblasenkarzinom_0088.tsv, 1, ('Stuck expanding sections',)\n",
      " 67%|██████▋   | 30146/45031 [07:22<02:59, 82.85it/s]ERROR:convert_annotations:20_harnblasenkarzinom_0119.tsv, 1, ('Stuck expanding sections',)\n",
      " 68%|██████▊   | 30462/45031 [07:27<03:19, 72.87it/s]ERROR:convert_annotations:20_harnblasenkarzinom_0150.tsv, 7, ('Stuck expanding sections',)\n",
      "ERROR:convert_annotations:20_harnblasenkarzinom_0150.tsv, 8, ('Stuck expanding sections',)\n",
      " 75%|███████▍  | 33693/45031 [08:12<02:40, 70.80it/s] WARNING:convert_annotations:Duplicate annotation: Substance[109]|Substance[110]\n",
      "WARNING:convert_annotations:Duplicate annotation: Substance[112]|Substance[113]\n",
      "WARNING:convert_annotations:Duplicate annotation: Clinical Drug[109]|Clinical Drug[110]\n",
      "WARNING:convert_annotations:Duplicate annotation: Clinical Drug[112]|Clinical Drug[113]\n",
      " 80%|███████▉  | 35894/45031 [08:42<02:05, 72.79it/s] WARNING:convert_annotations:Duplicate annotation: Procedure[1]|Procedure[2]\n",
      "WARNING:convert_annotations:Duplicate annotation: Therapeutic[1]|Diagnostic[2]\n",
      " 80%|████████  | 36080/45031 [08:46<02:15, 66.09it/s]WARNING:convert_annotations:Duplicate annotation: Procedure[39]|Procedure[40]\n",
      "WARNING:convert_annotations:Duplicate annotation: Diagnostic[39]|Therapeutic[40]\n",
      " 80%|████████  | 36148/45031 [08:47<02:30, 59.05it/s]WARNING:convert_annotations:Duplicate annotation: Procedure[1]|Procedure[2]\n",
      "WARNING:convert_annotations:Duplicate annotation: Diagnostic[1]|Therapeutic[2]\n",
      " 83%|████████▎ | 37152/45031 [09:02<01:58, 66.62it/s] WARNING:convert_annotations:Duplicate annotation: Specification[3]|Procedure[9]|Procedure[10]\n",
      "WARNING:convert_annotations:Duplicate annotation: *[3]|Therapeutic[9]|Diagnostic[10]\n",
      " 83%|████████▎ | 37159/45031 [09:02<02:05, 62.60it/s]WARNING:convert_annotations:Duplicate annotation: Procedure[25]|Procedure[26]\n",
      "WARNING:convert_annotations:Duplicate annotation: Therapeutic[25]|Diagnostic[26]\n",
      " 83%|████████▎ | 37174/45031 [09:02<02:00, 65.33it/s]WARNING:convert_annotations:Duplicate annotation: Specification[40]|Procedure[43]|Procedure[44]\n",
      "WARNING:convert_annotations:Duplicate annotation: *[40]|Therapeutic[43]|Diagnostic[44]\n",
      " 88%|████████▊ | 39491/45031 [09:35<01:10, 78.56it/s] ERROR:convert_annotations:28_komplementaermedizin_0067.tsv, 19, ('*[19]', '*[19]')\n",
      " 91%|█████████▏| 41099/45031 [09:57<00:42, 92.27it/s] ERROR:convert_annotations:28_komplementaermedizin_0107.tsv, 11, ('Stuck expanding sections',)\n",
      "ERROR:convert_annotations:28_komplementaermedizin_0107.tsv, 13, ('Stuck expanding sections',)\n",
      " 91%|█████████▏| 41185/45031 [09:58<00:52, 73.51it/s]ERROR:convert_annotations:28_komplementaermedizin_0108.tsv, 77, ('*[167]|Specification[168]', '*[167]')\n",
      " 92%|█████████▏| 41244/45031 [09:59<00:53, 70.56it/s]ERROR:convert_annotations:28_komplementaermedizin_0111.tsv, 1, ('Stuck expanding sections',)\n",
      " 92%|█████████▏| 41252/45031 [09:59<01:02, 60.27it/s]ERROR:convert_annotations:28_komplementaermedizin_0114.tsv, 2, ('Stuck expanding sections',)\n",
      " 92%|█████████▏| 41259/45031 [09:59<01:02, 60.34it/s]ERROR:convert_annotations:28_komplementaermedizin_0115.tsv, 9, ('Stuck expanding sections',)\n",
      " 92%|█████████▏| 41322/45031 [10:00<01:01, 60.27it/s]ERROR:convert_annotations:28_komplementaermedizin_0121.tsv, 1, ('Stuck expanding sections',)\n",
      " 92%|█████████▏| 41337/45031 [10:00<01:03, 58.36it/s]ERROR:convert_annotations:28_komplementaermedizin_0124.tsv, 1, ('Stuck expanding sections',)\n",
      " 92%|█████████▏| 41343/45031 [10:00<01:08, 53.66it/s]ERROR:convert_annotations:28_komplementaermedizin_0126.tsv, 7, ('Stuck expanding sections',)\n",
      " 92%|█████████▏| 41366/45031 [10:01<01:13, 49.54it/s]ERROR:convert_annotations:28_komplementaermedizin_0128.tsv, 8, ('*[26]', '*[26]')\n",
      " 92%|█████████▏| 41408/45031 [10:02<00:59, 60.89it/s]ERROR:convert_annotations:28_komplementaermedizin_0130.tsv, 4, ('Stuck expanding sections',)\n",
      "ERROR:convert_annotations:28_komplementaermedizin_0131.tsv, 2, ('Stuck expanding sections',)\n",
      " 92%|█████████▏| 41555/45031 [10:04<00:54, 63.83it/s]ERROR:convert_annotations:28_komplementaermedizin_0140.tsv, 2, ('Stuck expanding sections',)\n",
      " 92%|█████████▏| 41609/45031 [10:05<00:50, 67.24it/s]ERROR:convert_annotations:28_komplementaermedizin_0148.tsv, 16, ('Stuck expanding sections',)\n",
      " 93%|█████████▎| 41686/45031 [10:06<00:55, 60.51it/s]ERROR:convert_annotations:28_komplementaermedizin_0154.tsv, 2, ('Stuck expanding sections',)\n",
      " 93%|█████████▎| 41722/45031 [10:07<00:57, 57.98it/s]ERROR:convert_annotations:28_komplementaermedizin_0155.tsv, 31, ('*[78]', '*[78]')\n",
      "ERROR:convert_annotations:28_komplementaermedizin_0155.tsv, 32, ('*[86]|Specification[87]', '*[86]')\n",
      "ERROR:convert_annotations:28_komplementaermedizin_0155.tsv, 33, ('*[94]|Specification[95]', '*[94]')\n",
      " 93%|█████████▎| 41883/45031 [10:09<00:42, 73.30it/s]ERROR:convert_annotations:28_komplementaermedizin_0168.tsv, 3, ('Stuck expanding sections',)\n",
      " 98%|█████████▊| 43939/45031 [10:39<00:15, 72.67it/s]WARNING:convert_annotations:Duplicate annotation: Procedure[10]|Procedure[11]\n",
      "WARNING:convert_annotations:Duplicate annotation: Diagnostic[10]|Therapeutic[11]\n",
      " 98%|█████████▊| 44324/45031 [10:45<00:09, 73.08it/s]WARNING:convert_annotations:Duplicate annotation: Procedure[9]|Procedure[10]\n",
      "WARNING:convert_annotations:Duplicate annotation: Therapeutic[9]|Diagnostic[10]\n",
      "WARNING:convert_annotations:Duplicate annotation: Procedure[11]|Procedure[12]\n",
      "WARNING:convert_annotations:Duplicate annotation: Therapeutic[11]|Diagnostic[12]\n",
      "100%|██████████| 45031/45031 [10:56<00:00, 68.61it/s]\n"
     ]
    },
    {
     "name": "stdout",
     "output_type": "stream",
     "text": [
      "CPU times: user 11min 22s, sys: 4.77 s, total: 11min 27s\n",
      "Wall time: 11min 22s\n"
     ]
    }
   ],
   "source": [
    "%%time\n",
    "iob_df = webanno_to_iob_df(webanno_df, 'detail', True, debug=False, collect_errors=False, skip_errors=True, all_columns=True)\n",
    "iob_df['id'] = iob_df.entity_id.where(~iob_df.entity_id.isna(), iob_df.spec_id)"
   ]
  },
  {
   "cell_type": "code",
   "execution_count": 31,
   "id": "a25437f1-22d3-442b-8fc4-5746bbdf5722",
   "metadata": {},
   "outputs": [],
   "source": [
    "# Anything containing a prefix, suffix or fragment is potentially an elliptical construct\n",
    "ellipses = iob_df[~iob_df.prefix.str.match(EMPTY_REGEX) | ~iob_df.suffix.str.match(EMPTY_REGEX) | ~iob_df.fragment.str.match(EMPTY_REGEX) ].copy()"
   ]
  },
  {
   "cell_type": "markdown",
   "id": "88331b1f-30ee-49e5-9c18-ab58f60fbf56",
   "metadata": {},
   "source": [
    "### Resolve ellipses and connect fragment parts"
   ]
  },
  {
   "cell_type": "code",
   "execution_count": 32,
   "id": "5e9b3a28-3572-47e3-b35d-f31aecdda24d",
   "metadata": {},
   "outputs": [
    {
     "name": "stderr",
     "output_type": "stream",
     "text": [
      "<timed exec>:8: PerformanceWarning: indexing past lexsort depth may impact performance.\n"
     ]
    },
    {
     "name": "stdout",
     "output_type": "stream",
     "text": [
      "CPU times: user 15.6 s, sys: 51.5 ms, total: 15.6 s\n",
      "Wall time: 15.6 s\n"
     ]
    }
   ],
   "source": [
    "%%time\n",
    "results = []\n",
    "for _, r in ellipses.id.reset_index().drop_duplicates().iterrows():\n",
    "    has_fragment = False\n",
    "    idx = r.file, r.sentence_id\n",
    "    _id = r.id\n",
    "    sentence = ellipses.loc[idx]\n",
    "    span = sentence[sentence.id == _id]\n",
    "    full_sentence = iob_df.loc[idx]\n",
    "    full_span = full_sentence[full_sentence.id == _id]\n",
    "    for fragment in span.fragment: # Expand span to fragments\n",
    "        if fragment and not re.match(EMPTY_REGEX, fragment):\n",
    "            has_fragment = True\n",
    "            fragment = re.split('[|;]', fragment)[0]\n",
    "            m = re.match(VALUE_REGEX, fragment)\n",
    "            if not m:\n",
    "                print(span.fragment)\n",
    "            fragment_index = int(m.group(1).split('-')[1])\n",
    "            fragment_start = min(fragment_index, full_span.token_id.min())\n",
    "            fragment_end = max(fragment_index, full_span.token_id.max())\n",
    "            full_span = full_sentence[(full_sentence.token_id >= fragment_start) & (full_sentence.token_id <= fragment_end)]\n",
    "            expanded_context = full_sentence[full_sentence.id.isin(full_span.id.dropna().unique())].token_id\n",
    "            fragment_start = min(fragment_start, expanded_context.min())\n",
    "            fragment_end = max(fragment_end, expanded_context.max())\n",
    "            full_span = full_sentence[(full_sentence.token_id >= fragment_start) & (full_sentence.token_id <= fragment_end)]\n",
    "    fragment, resolution, missing_prefix, missing_suffix = join_and_resolve(full_span)\n",
    "    results.append({\n",
    "        'file' : idx[0],\n",
    "        'sentence_id' : idx[1],\n",
    "        'full_sentence' : list(full_sentence.token),\n",
    "        'span_index_start': full_span.token_id.min() - 1,\n",
    "        'span_index_end' : full_span.token_id.max() - 1,\n",
    "        'full_span' : fragment,\n",
    "        'resolution' : resolution,\n",
    "        'fragment' : has_fragment,\n",
    "        'missing_prefix' : missing_prefix,\n",
    "        'missing_suffix' : missing_suffix,\n",
    "    })\n",
    "results = pd.DataFrame(results)"
   ]
  },
  {
   "cell_type": "markdown",
   "id": "099021d3-dd91-4ba3-8e33-52f972ec0993",
   "metadata": {},
   "source": [
    "### Statistics\n"
   ]
  },
  {
   "cell_type": "code",
   "execution_count": 79,
   "id": "1c1f8912-942e-4796-9ec1-5e9bd0f68874",
   "metadata": {},
   "outputs": [
    {
     "data": {
      "text/plain": [
       "(2619, 44972, 0.058236235880103175)"
      ]
     },
     "execution_count": 79,
     "metadata": {},
     "output_type": "execute_result"
    }
   ],
   "source": [
    "ellipses_sentence_count = len(results[['file', 'sentence_id']].drop_duplicates())\n",
    "sentence_count = len(iob_df.index.drop_duplicates())\n",
    "ellipses_sentence_count, sentence_count, ellipses_sentence_count / sentence_count"
   ]
  },
  {
   "cell_type": "code",
   "execution_count": 71,
   "id": "150c6800-6363-4376-b758-1c051c1b82cf",
   "metadata": {},
   "outputs": [
    {
     "name": "stdout",
     "output_type": "stream",
     "text": [
      "Ellipses 2929\n",
      "Forward ellipses 1066 447\n",
      "Backward ellipses 1663 1534\n",
      "Complex ellipses 181 131\n"
     ]
    }
   ],
   "source": [
    "print('Ellipses', len(results))\n",
    "print('Forward ellipses', len(results[results.missing_prefix & ~results.missing_suffix]), len(results[results.fragment & results.missing_prefix & ~results.missing_suffix]))\n",
    "print('Backward ellipses', len(results[~results.missing_prefix & results.missing_suffix]), len(results[results.fragment & ~results.missing_prefix & results.missing_suffix]))\n",
    "print('Complex ellipses', len(results[results.missing_prefix & results.missing_suffix]), len(results[results.fragment & results.missing_prefix & results.missing_suffix]))"
   ]
  },
  {
   "cell_type": "markdown",
   "id": "6b97695e-4371-4566-b344-241513a14c1a",
   "metadata": {},
   "source": [
    "### Browsing random examples and their resolution"
   ]
  },
  {
   "cell_type": "code",
   "execution_count": 33,
   "id": "ecd2ea55-5250-4ede-aae1-fb1ce9af540a",
   "metadata": {},
   "outputs": [],
   "source": [
    "import random\n",
    "\n",
    "def show_random(df):\n",
    "    i = random.randint(0, len(df))\n",
    "    item = df.iloc[i]    \n",
    "    assert len(item.full_span) == len(item.resolution)\n",
    "    spans = []\n",
    "    solutions = []\n",
    "    marker = []\n",
    "    for span, res in zip(item.full_span, item.resolution):\n",
    "        if span == res:\n",
    "            marker.append(' ' * len(span))\n",
    "        else:\n",
    "            marker.append('^' * len(res))\n",
    "        start_index = res.find(span)\n",
    "        spans.append(span.rjust(start_index + len(span)).ljust(len(res) - start_index))\n",
    "        solutions.append(res)\n",
    "    print(' '.join(spans))\n",
    "    print(' '.join(solutions))\n",
    "    print(' '.join(marker))\n",
    "    print(item.file, item.sentence_id, 'fragment:', item.fragment)\n",
    "    print('...........')\n",
    "    print('')"
   ]
  },
  {
   "cell_type": "markdown",
   "id": "317feabe-bce8-4ed5-8eec-4cc6b8e58048",
   "metadata": {},
   "source": [
    "Examples with fragment attribute (typically elliptical compounds)"
   ]
  },
  {
   "cell_type": "code",
   "execution_count": 35,
   "id": "731d926e-bfcb-4bf2-8bca-8cf4f078b252",
   "metadata": {},
   "outputs": [
    {
     "name": "stdout",
     "output_type": "stream",
     "text": [
      "Diagnose         - und Therapieoptionen\n",
      "Diagnoseoptionen - und Therapieoptionen\n",
      "^^^^^^^^^^^^^^^^                       \n",
      "09_mammakarzinom_0000.tsv 19 fragment: True\n",
      "...........\n",
      "\n",
      "Darmkrebs-Vorsorge / -           Früherkennung\n",
      "Darmkrebs-Vorsorge / - Darmkrebs-Früherkennung\n",
      "                       ^^^^^^^^^^^^^^^^^^^^^^^\n",
      "02_kolorektales-karzinom_0031.tsv 2 fragment: True\n",
      "...........\n",
      "\n",
      "hereditary breast                ovarian cancer syndrome\n",
      "hereditary breastcancer syndrome ovarian cancer syndrome\n",
      "           ^^^^^^^^^^^^^^^^^^^^^                        \n",
      "16_maligne-ovarialtumoren_0030.tsv 3 fragment: True\n",
      "...........\n",
      "\n",
      "adjuvanten Chemo         - oder Radiotherapie\n",
      "adjuvanten Chemotherapie - oder Radiotherapie\n",
      "           ^^^^^^^^^^^^^                     \n",
      "13_oesophaguskarzinom_0099.tsv 9 fragment: True\n",
      "...........\n",
      "\n",
      "1                  - , 3                  - und 5 - Jahres-Überleben\n",
      "1-Jahres-Überleben - , 3-Jahres-Überleben - und 5 - Jahres-Überleben\n",
      "^^^^^^^^^^^^^^^^^^     ^^^^^^^^^^^^^^^^^^                           \n",
      "12_nierenzellkarzinom_0229.tsv 6 fragment: True\n",
      "...........\n",
      "\n",
      "invasiver Tumorresiduen in Mamma und    Lymphknoten\n",
      "invasiver Tumorresiduen in Mamma und in Lymphknoten\n",
      "                                     ^^^^^^^^^^^^^^\n",
      "09_mammakarzinom_0206.tsv 2 fragment: True\n",
      "...........\n",
      "\n",
      "Lymph         - , Blutgefäß         - sowie Perineuralscheideninvasion\n",
      "Lymphinvasion - , Blutgefäßinvasion - sowie Perineuralscheideninvasion\n",
      "^^^^^^^^^^^^^     ^^^^^^^^^^^^^^^^^                                   \n",
      "05_zervixkarzinom_0079.tsv 18 fragment: True\n",
      "...........\n",
      "\n",
      "Behandlungs      - und Versorgungskette\n",
      "Behandlungskette - und Versorgungskette\n",
      "^^^^^^^^^^^^^^^^                       \n",
      "04_praevention-zervixkarzinom_0276.tsv 2 fragment: True\n",
      "...........\n",
      "\n",
      "histologisch                oder zytologisch nachgewiesenen Lymphknotenmetastasen\n",
      "histologisch nachgewiesenen oder zytologisch nachgewiesenen Lymphknotenmetastasen\n",
      "^^^^^^^^^^^^^^^^^^^^^^^^^^^                                                      \n",
      "23_peniskarzinom_0108.tsv 1 fragment: True\n",
      "...........\n",
      "\n",
      "Zweit         - oder Drittkarzinome\n",
      "Zweitkarzinom - oder Drittkarzinome\n",
      "^^^^^^^^^^^^^                      \n",
      "02_kolorektales-karzinom_0124.tsv 24 fragment: True\n",
      "...........\n",
      "\n"
     ]
    }
   ],
   "source": [
    "for _ in range(0, 10):\n",
    "    show_random(results[results.fragment])"
   ]
  },
  {
   "cell_type": "markdown",
   "id": "6d7dade1-0d4c-4621-9bc8-9642ecc96cfd",
   "metadata": {},
   "source": [
    "Examples without fragment attribute (often omitted prepositions)"
   ]
  },
  {
   "cell_type": "code",
   "execution_count": 37,
   "id": "58ca6070-b6c7-4b43-8b63-980d7f9e382c",
   "metadata": {},
   "outputs": [
    {
     "name": "stdout",
     "output_type": "stream",
     "text": [
      "hoher Konsum von rotem Fleisch ( Rind , Kalb , Schwein und Lamm ) und     verarbeitetem Fleisch\n",
      "hoher Konsum von rotem Fleisch ( Rind , Kalb , Schwein und Lamm ) und von verarbeitetem Fleisch\n",
      "                                                                      ^^^^^^^^^^^^^^^^^        \n",
      "02_kolorektales-karzinom_0012.tsv 1 fragment: False\n",
      "...........\n",
      "\n",
      "erhöhtes Risiko für ein lokales oder lokoregionäres Rezidiv ( 3 - 24% ) , Fernmetastasen ( 25% ) oder     einen metachronen Zweittumor\n",
      "erhöhtes Risiko für ein lokales oder lokoregionäres Rezidiv ( 3 - 24% ) , Fernmetastasen ( 25% ) oder für einen metachronen Zweittumor\n",
      "                                                                                                      ^^^^^^^^^                       \n",
      "02_kolorektales-karzinom_0496.tsv 2 fragment: False\n",
      "...........\n",
      "\n",
      "alkoholisch           oder HBV bedingter Leberzirrhose\n",
      "alkoholisch bedingter oder HBV bedingter Leberzirrhose\n",
      "^^^^^^^^^^^^^^^^^^^^^                                 \n",
      "11_hepatozellulaeres-karzinom-und-biliaere-karzinome_0130.tsv 21 fragment: False\n",
      "...........\n",
      "\n",
      "intra            - und extrahepatische Cholangiokarzinome\n",
      "intrahepatischen - und extrahepatische Cholangiokarzinome\n",
      "^^^^^^^^^^^^^^^^                                         \n",
      "11_hepatozellulaeres-karzinom-und-biliaere-karzinome_0179.tsv 18 fragment: False\n",
      "...........\n",
      "\n",
      "lokale Applikation von 12 x 2 Gy gegen     2 x 2 Gy\n",
      "lokale Applikation von 12 x 2 Gy gegen von 2 x 2 Gy\n",
      "                                       ^^^^^       \n",
      "19_follikulaeres-lymphom_0119.tsv 13 fragment: False\n",
      "...........\n",
      "\n",
      "Moderne MR-Scanner mit verbessertem Gradienten und     aktualisierter Software und Sequenzen\n",
      "Moderne MR-Scanner mit verbessertem Gradienten und mit aktualisierter Software und Sequenzen\n",
      "                                                   ^^^^^^^^^^^^^^^^^^                       \n",
      "24_analkarzinom_0165.tsv 11 fragment: False\n",
      "...........\n",
      "\n",
      "verminderten Aufnahme von rotem         und     verarbeitetem Fleisch\n",
      "verminderten Aufnahme von rotem Fleisch und von verarbeitetem Fleisch\n",
      "                          ^^^^^^^^^^^^^     ^^^^^^^^^^^^^^^^^        \n",
      "02_kolorektales-karzinom_0006.tsv 2 fragment: False\n",
      "...........\n",
      "\n",
      "mögliche Überweisung in eine Klinik oder    ein Hospiz\n",
      "mögliche Überweisung in eine Klinik oder in ein Hospiz\n",
      "                                         ^^^^^^       \n",
      "22_prostatakarzinom_0314.tsv 29 fragment: False\n",
      "...........\n",
      "\n",
      "Abschätzung der individuellen Prognose unter Berücksichtigung des AFP-Wertes und                        der bildmorphologischen Kriterien vor bzw . unter lokoregionärer Therapie\n",
      "Abschätzung der individuellen Prognose unter Berücksichtigung des AFP-Wertes und unter Berücksichtigung der bildmorphologischen Kriterien vor bzw . unter lokoregionärer Therapie\n",
      "                                                                                 ^^^^^^^^^^^^^^^^^^^^^^^^^^                                                                      \n",
      "11_hepatozellulaeres-karzinom-und-biliaere-karzinome_0071.tsv 13 fragment: False\n",
      "...........\n",
      "\n",
      "Lokalrezidivraten nach 5        und      10 Jahren\n",
      "Lokalrezidivraten nach 5 Jahren und nach 10 Jahren\n",
      "                       ^^^^^^^^     ^^^^^^^       \n",
      "29_adulte-weichgewebesarkome_0105.tsv 24 fragment: False\n",
      "...........\n",
      "\n"
     ]
    }
   ],
   "source": [
    "for _ in range(0, 10):\n",
    "    show_random(results[~results.fragment])"
   ]
  },
  {
   "cell_type": "markdown",
   "id": "7b3d091b-8ee2-48da-8beb-96ba39b172e0",
   "metadata": {},
   "source": [
    "### Evaluation of NER models on these instances"
   ]
  },
  {
   "cell_type": "code",
   "execution_count": 38,
   "id": "399f7b28-2293-4775-aba0-06216477b681",
   "metadata": {},
   "outputs": [],
   "source": [
    "idx = set(results.set_index(['file', 'sentence_id']).index.unique().values)\n",
    "idx_frag = set(results[results.fragment].set_index(['file', 'sentence_id']).index.unique().values)"
   ]
  },
  {
   "cell_type": "code",
   "execution_count": 39,
   "id": "5ecc9574-2f2b-4fd6-ada2-073ac98d15d3",
   "metadata": {},
   "outputs": [
    {
     "data": {
      "application/vnd.jupyter.widget-view+json": {
       "model_id": "e13d4c578bbb46768f76dbc689ca262c",
       "version_major": 2,
       "version_minor": 0
      },
      "text/plain": [
       "  0%|          | 0/5 [00:00<?, ?ba/s]"
      ]
     },
     "metadata": {},
     "output_type": "display_data"
    },
    {
     "data": {
      "application/vnd.jupyter.widget-view+json": {
       "model_id": "25a2d013fb9e4b96a114e74f01563a43",
       "version_major": 2,
       "version_minor": 0
      },
      "text/plain": [
       "  0%|          | 0/5 [00:00<?, ?ba/s]"
      ]
     },
     "metadata": {},
     "output_type": "display_data"
    },
    {
     "data": {
      "application/vnd.jupyter.widget-view+json": {
       "model_id": "7942ddb7f5b04643965a787a2021286e",
       "version_major": 2,
       "version_minor": 0
      },
      "text/plain": [
       "  0%|          | 0/5 [00:00<?, ?ba/s]"
      ]
     },
     "metadata": {},
     "output_type": "display_data"
    },
    {
     "data": {
      "application/vnd.jupyter.widget-view+json": {
       "model_id": "4d7ce0f989754b39bceb3c9478b8c999",
       "version_major": 2,
       "version_minor": 0
      },
      "text/plain": [
       "  0%|          | 0/5 [00:00<?, ?ba/s]"
      ]
     },
     "metadata": {},
     "output_type": "display_data"
    }
   ],
   "source": [
    "test_ds_short_ellipsis = test_ds_short.filter(lambda item: (item['fname'], item['sentence_id']) in idx)\n",
    "test_ds_short_fragment = test_ds_short.filter(lambda item: (item['fname'], item['sentence_id']) in idx_frag)\n",
    "test_ds_long_ellipsis = test_ds_long.filter(lambda item: (item['fname'], item['sentence_id']) in idx)\n",
    "test_ds_long_fragment = test_ds_long.filter(lambda item: (item['fname'], item['sentence_id']) in idx_frag)"
   ]
  },
  {
   "cell_type": "code",
   "execution_count": 40,
   "id": "71f539c2-3b0e-4505-b4cf-a29d468898e9",
   "metadata": {},
   "outputs": [
    {
     "name": "stderr",
     "output_type": "stream",
     "text": [
      "The following columns in the test set  don't have a corresponding argument in `BertForTokenClassification.forward` and have been ignored: offset_mapping, tags, _tags, tokens, fname, special_tokens_mask, sentence_id.\n",
      "***** Running Prediction *****\n",
      "  Num examples = 282\n",
      "  Batch size = 32\n",
      "282it [00:00, 1625.78it/s]\n",
      "The following columns in the test set  don't have a corresponding argument in `BertForTokenClassification.forward` and have been ignored: offset_mapping, tags, _tags, tokens, fname, special_tokens_mask, sentence_id.\n",
      "***** Running Prediction *****\n",
      "  Num examples = 193\n",
      "  Batch size = 32\n",
      "193it [00:00, 1645.90it/s]\n",
      "The following columns in the test set  don't have a corresponding argument in `BertForTokenClassification.forward` and have been ignored: offset_mapping, tags, _tags, tokens, fname, special_tokens_mask, sentence_id.\n",
      "***** Running Prediction *****\n",
      "  Num examples = 282\n",
      "  Batch size = 32\n",
      "282it [00:00, 1579.54it/s]\n",
      "The following columns in the test set  don't have a corresponding argument in `BertForTokenClassification.forward` and have been ignored: offset_mapping, tags, _tags, tokens, fname, special_tokens_mask, sentence_id.\n",
      "***** Running Prediction *****\n",
      "  Num examples = 193\n",
      "  Batch size = 32\n",
      "193it [00:00, 1593.29it/s]\n"
     ]
    }
   ],
   "source": [
    "test_set_metrics_short_ellipses = eval_on_test_set(test_ds_short_ellipsis, tr_short, tokenizer, \"test_short_ellipsis\")\n",
    "test_set_metrics_short_fragment = eval_on_test_set(test_ds_short_fragment, tr_short, tokenizer, \"test_short_fragment\")\n",
    "test_set_metrics_long_ellipses = eval_on_test_set(test_ds_long_ellipsis, tr_long, tokenizer, \"test_long_ellipsis\")\n",
    "test_set_metrics_long_fragment = eval_on_test_set(test_ds_long_fragment, tr_long, tokenizer, \"test_long_fragment\")"
   ]
  },
  {
   "cell_type": "code",
   "execution_count": 41,
   "id": "bcf25bc8-0a4f-4a6a-992e-6824832a696c",
   "metadata": {},
   "outputs": [],
   "source": [
    "error_cols = ['false_negative', 'false_positive', 'labeling_error', 'boundary_error', 'label_boundary_error']"
   ]
  },
  {
   "cell_type": "code",
   "execution_count": 42,
   "id": "8c8246cb-704d-4554-adbd-1f8fd2df0e7c",
   "metadata": {},
   "outputs": [],
   "source": [
    "def get_dataframe(metrics):\n",
    "    count = 0\n",
    "    for k, v in metrics.items():\n",
    "        if '_number' in k:\n",
    "            count += v\n",
    "    data = {}\n",
    "    key = None\n",
    "    for k_long, v in metrics.items():\n",
    "        subset, k = tuple(k_long.split('/'))\n",
    "        assert not key or key == subset\n",
    "        key = subset\n",
    "        if k in error_cols + ['true_positive']:\n",
    "            data[f\"{k}_abs\"] = v\n",
    "            data[f\"{k}\"] = v / count\n",
    "        if k == 'overall_f1':\n",
    "            data[k] = v\n",
    "    data['subset'] = subset\n",
    "    return pd.DataFrame([data]).set_index('subset')"
   ]
  },
  {
   "cell_type": "code",
   "execution_count": 43,
   "id": "7ff694ae-a5dd-4710-9af8-ba688c975c04",
   "metadata": {},
   "outputs": [],
   "source": [
    "stats = pd.concat([\n",
    "    get_dataframe(test_set_metrics_short),\n",
    "    get_dataframe(test_set_metrics_short_ellipses),\n",
    "    get_dataframe(test_set_metrics_short_fragment),\n",
    "    get_dataframe(test_set_metrics_long),\n",
    "    get_dataframe(test_set_metrics_long_ellipses),\n",
    "    get_dataframe(test_set_metrics_long_fragment),\n",
    "])"
   ]
  },
  {
   "cell_type": "code",
   "execution_count": 44,
   "id": "2e200e64-ee5a-41a5-a1f6-73fba8085650",
   "metadata": {},
   "outputs": [],
   "source": [
    "import matplotlib\n",
    "from matplotlib import pyplot as plt\n",
    "from matplotlib import cm"
   ]
  },
  {
   "cell_type": "code",
   "execution_count": 45,
   "id": "c0eee753-1263-4e04-8649-1b0777850931",
   "metadata": {},
   "outputs": [],
   "source": [
    "matplotlib.rcParams.update({'font.size': 16})"
   ]
  },
  {
   "cell_type": "code",
   "execution_count": 46,
   "id": "f73ec690-dd09-4ca9-a176-b2641d3eb346",
   "metadata": {},
   "outputs": [
    {
     "data": {
      "image/png": "[encoded data removed]",
      "text/plain": [
       "<Figure size 864x180 with 1 Axes>"
      ]
     },
     "metadata": {
      "needs_background": "light"
     },
     "output_type": "display_data"
    }
   ],
   "source": [
    "ax = plt.figure(figsize=(12,2.5)).add_subplot(111)\n",
    "\n",
    "stats[error_cols].T.rename(\n",
    "    {\n",
    "        'false_negative' : 'False\\nNegatives',\n",
    "        'false_positive' : 'False\\nPositives',\n",
    "        'labeling_error' : 'Labeling\\nErrors',\n",
    "        'boundary_error' : 'Boundary\\nErrors',\n",
    "        'label_boundary_error' : 'Label Boundary\\nErrors',\n",
    "    }).rename({\n",
    "        'test_short_full' : 'Short spans (test set)',\n",
    "        'test_short_ellipsis' : 'Short spans (ellipses)',\n",
    "        'test_short_fragment' : 'Short spans (fragments)',\n",
    "        'test_long_full' : 'Long spans (test set)',\n",
    "        'test_long_ellipsis' : 'Long spans (ellipses)',\n",
    "        'test_long_fragment' : 'Long spans (fragments)'\n",
    "    }, axis=1\n",
    "    ).plot.bar(rot=0, ax=ax\n",
    ")\n",
    "\n",
    "ax.grid(axis='y')\n",
    "\n",
    "c1, c2, c3 = '#19439c', '#7a8e82', '#ffc67a'\n",
    "\n",
    "bars = ax.patches\n",
    "hatches = [None] * 15 + ['////'] * 15\n",
    "colors = ([c1] * 5 + [c2] * 5 + [c3] * 5) * 3\n",
    "\n",
    "for bar, hatch, color in zip(bars, hatches, colors):\n",
    "    if not hatch:\n",
    "        bar.set_color(color)\n",
    "    else:\n",
    "        bar.set_color('white')\n",
    "    bar.set_edgecolor(color)\n",
    "    bar.set_hatch(hatch)\n",
    "\n",
    "    \n",
    "ax.set_ylabel('Errors / mention')\n",
    "    \n",
    "plt.legend(bbox_to_anchor=(1.0, 1.05))\n",
    "\n",
    "plt.savefig('error_analysis.png', dpi=600, bbox_inches=\"tight\")\n",
    "\n",
    "plt.show()"
   ]
  },
  {
   "cell_type": "markdown",
   "id": "8631d688-e920-4bc4-b1eb-896a021c3aa3",
   "metadata": {},
   "source": [
    "### Manual inspection"
   ]
  },
  {
   "cell_type": "code",
   "execution_count": 83,
   "id": "f5f1e5c5-ade3-4e5c-911f-fa129119491c",
   "metadata": {},
   "outputs": [
    {
     "data": {
      "text/plain": [
       "[{'entity_group': 'Diagnosis_or_Pathology',\n",
       "  'score': 0.99999344,\n",
       "  'word': 'platinresistentem und / oder - refraktärem Ovarialkarzinomrezidiv',\n",
       "  'start': 0,\n",
       "  'end': 62}]"
      ]
     },
     "execution_count": 83,
     "metadata": {},
     "output_type": "execute_result"
    }
   ],
   "source": [
    "pipe_long('platinresistentem und/oder -refraktärem Ovarialkarzinomrezidiv')"
   ]
  },
  {
   "cell_type": "code",
   "execution_count": 86,
   "id": "5f21f4df-252c-4338-ba4f-7447a33e519b",
   "metadata": {},
   "outputs": [
    {
     "data": {
      "text/plain": [
       "[{'entity_group': 'Therapeutic',\n",
       "  'score': 0.9937671,\n",
       "  'word': 'Krebs',\n",
       "  'start': 0,\n",
       "  'end': 5},\n",
       " {'entity_group': 'Therapeutic',\n",
       "  'score': 0.9870125,\n",
       "  'word': 'Vorsorge',\n",
       "  'start': 6,\n",
       "  'end': 14},\n",
       " {'entity_group': 'Diagnostic',\n",
       "  'score': 0.9999946,\n",
       "  'word': 'Früherkennung',\n",
       "  'start': 18,\n",
       "  'end': 31}]"
      ]
     },
     "execution_count": 86,
     "metadata": {},
     "output_type": "execute_result"
    }
   ],
   "source": [
    "pipe_long('Krebs-Vorsorge / -Früherkennung')"
   ]
  },
  {
   "cell_type": "code",
   "execution_count": 89,
   "id": "011f79ed-6fad-42b4-ba11-6eac1f0ba1b7",
   "metadata": {},
   "outputs": [
    {
     "data": {
      "text/plain": [
       "[{'entity_group': 'Diagnosis_or_Pathology',\n",
       "  'score': 0.99999386,\n",
       "  'word': 'HPV31, 33, 45 und 51',\n",
       "  'start': 0,\n",
       "  'end': 20}]"
      ]
     },
     "execution_count": 89,
     "metadata": {},
     "output_type": "execute_result"
    }
   ],
   "source": [
    "pipe_long('HPV31, 33, 45 und 51')"
   ]
  },
  {
   "cell_type": "code",
   "execution_count": 90,
   "id": "4a5d7566-2c77-4a5c-b806-a33d4304e9fa",
   "metadata": {},
   "outputs": [
    {
     "data": {
      "text/plain": [
       "[{'entity_group': 'Therapeutic',\n",
       "  'score': 0.9999935,\n",
       "  'word': 'Chemo',\n",
       "  'start': 0,\n",
       "  'end': 5},\n",
       " {'entity_group': 'Therapeutic',\n",
       "  'score': 0.99998856,\n",
       "  'word': 'Strahlentherapie',\n",
       "  'start': 11,\n",
       "  'end': 27}]"
      ]
     },
     "execution_count": 90,
     "metadata": {},
     "output_type": "execute_result"
    }
   ],
   "source": [
    "pipe_long('Chemo- und Strahlentherapie')"
   ]
  },
  {
   "cell_type": "code",
   "execution_count": 91,
   "id": "fad41fdd-3056-4712-bc75-f2c275c0346c",
   "metadata": {},
   "outputs": [
    {
     "data": {
      "text/plain": [
       "[{'entity_group': 'Clinical_Drug',\n",
       "  'score': 0.99998844,\n",
       "  'word': 'BRAF',\n",
       "  'start': 0,\n",
       "  'end': 4},\n",
       " {'entity_group': 'Clinical_Drug',\n",
       "  'score': 0.999976,\n",
       "  'word': 'MEK - Inhibitor',\n",
       "  'start': 10,\n",
       "  'end': 23}]"
      ]
     },
     "execution_count": 91,
     "metadata": {},
     "output_type": "execute_result"
    }
   ],
   "source": [
    "pipe_long('BRAF- und MEK-Inhibitor')"
   ]
  },
  {
   "cell_type": "code",
   "execution_count": 92,
   "id": "d262d767-440d-4c2a-8250-971a83d2f60f",
   "metadata": {},
   "outputs": [
    {
     "data": {
      "text/plain": [
       "[{'entity_group': 'Therapeutic',\n",
       "  'score': 0.9999915,\n",
       "  'word': 'zielgerichtete',\n",
       "  'start': 0,\n",
       "  'end': 14},\n",
       " {'entity_group': 'Therapeutic',\n",
       "  'score': 0.99735475,\n",
       "  'word': 'Immuntherapien',\n",
       "  'start': 19,\n",
       "  'end': 33}]"
      ]
     },
     "execution_count": 92,
     "metadata": {},
     "output_type": "execute_result"
    }
   ],
   "source": [
    "pipe_long('zielgerichtete und Immuntherapien')"
   ]
  },
  {
   "cell_type": "code",
   "execution_count": 93,
   "id": "1e5476e7-b7e6-41ab-859c-507ff42f6899",
   "metadata": {},
   "outputs": [
    {
     "data": {
      "text/plain": [
       "[{'entity_group': 'Therapeutic',\n",
       "  'score': 0.9999955,\n",
       "  'word': 'neo - / adjuvante Therapie',\n",
       "  'start': 0,\n",
       "  'end': 25}]"
      ]
     },
     "execution_count": 93,
     "metadata": {},
     "output_type": "execute_result"
    }
   ],
   "source": [
    "pipe_long('neo- / adjuvante Therapie')"
   ]
  },
  {
   "cell_type": "code",
   "execution_count": 94,
   "id": "6d2ac817-4f39-453c-8c7e-6b8a4d5f2b79",
   "metadata": {},
   "outputs": [
    {
     "name": "stderr",
     "output_type": "stream",
     "text": [
      "/dhc/home/florian.borchert/conda3/envs/ggponc/lib/python3.9/site-packages/transformers/pipelines/base.py:908: UserWarning: You seem to be using the pipelines sequentially on GPU. In order to maximize efficiency please use a dataset\n",
      "  warnings.warn(\n"
     ]
    },
    {
     "data": {
      "text/plain": [
       "[{'entity_group': 'Diagnosis_or_Pathology',\n",
       "  'score': 0.9999859,\n",
       "  'word': 'HPV - 16',\n",
       "  'start': 0,\n",
       "  'end': 6},\n",
       " {'entity_group': 'Diagnosis_or_Pathology',\n",
       "  'score': 0.8065756,\n",
       "  'word': '-',\n",
       "  'start': 17,\n",
       "  'end': 18},\n",
       " {'entity_group': 'Diagnosis_or_Pathology',\n",
       "  'score': 0.8767609,\n",
       "  'word': '18 - Positivität',\n",
       "  'start': 18,\n",
       "  'end': 32}]"
      ]
     },
     "execution_count": 94,
     "metadata": {},
     "output_type": "execute_result"
    }
   ],
   "source": [
    "pipe_long('HPV-16- und/oder -18-Positivität')"
   ]
  },
  {
   "cell_type": "code",
   "execution_count": 96,
   "id": "ff03c406-a1ea-46b1-8794-796fea38b7c9",
   "metadata": {},
   "outputs": [
    {
     "data": {
      "text/plain": [
       "[{'entity_group': 'Diagnosis_or_Pathology',\n",
       "  'score': 0.99999005,\n",
       "  'word': 'BRCA1',\n",
       "  'start': 0,\n",
       "  'end': 5},\n",
       " {'entity_group': 'Diagnosis_or_Pathology',\n",
       "  'score': 0.9998572,\n",
       "  'word': '2 - Mutation',\n",
       "  'start': 6,\n",
       "  'end': 16}]"
      ]
     },
     "execution_count": 96,
     "metadata": {},
     "output_type": "execute_result"
    }
   ],
   "source": [
    "pipe_long('BRCA1/2-Mutation')"
   ]
  },
  {
   "cell_type": "code",
   "execution_count": 99,
   "id": "2b5df579-0528-47ab-8a28-ff8bbda96ddf",
   "metadata": {},
   "outputs": [
    {
     "data": {
      "text/plain": [
       "[{'entity_group': 'Clinical_Drug',\n",
       "  'score': 0.99999684,\n",
       "  'word': '5 - Alpha - Reduktase - Typ - I - und II - Hemmer',\n",
       "  'start': 0,\n",
       "  'end': 38}]"
      ]
     },
     "execution_count": 99,
     "metadata": {},
     "output_type": "execute_result"
    }
   ],
   "source": [
    "pipe_long('5-Alpha-Reduktase-Typ-I- und II-Hemmer')"
   ]
  },
  {
   "cell_type": "code",
   "execution_count": 101,
   "id": "d8816cfd-0eba-4e3e-bcb0-6e1e467ebf1f",
   "metadata": {},
   "outputs": [
    {
     "name": "stderr",
     "output_type": "stream",
     "text": [
      "/dhc/home/florian.borchert/conda3/envs/ggponc/lib/python3.9/site-packages/transformers/pipelines/base.py:908: UserWarning: You seem to be using the pipelines sequentially on GPU. In order to maximize efficiency please use a dataset\n",
      "  warnings.warn(\n"
     ]
    },
    {
     "data": {
      "text/plain": [
       "[{'entity_group': 'Therapeutic',\n",
       "  'score': 0.9999825,\n",
       "  'word': 'Zweitlinien',\n",
       "  'start': 0,\n",
       "  'end': 11},\n",
       " {'entity_group': 'Therapeutic',\n",
       "  'score': 0.99999595,\n",
       "  'word': 'Drittliniensystem',\n",
       "  'start': 18,\n",
       "  'end': 35},\n",
       " {'entity_group': 'Therapeutic',\n",
       "  'score': 0.9999942,\n",
       "  'word': 'chemotherapie',\n",
       "  'start': 43,\n",
       "  'end': 56}]"
      ]
     },
     "execution_count": 101,
     "metadata": {},
     "output_type": "execute_result"
    }
   ],
   "source": [
    "pipe_long('Zweitlinien- oder Drittliniensystem- bzw. -chemotherapie')"
   ]
  },
  {
   "cell_type": "code",
   "execution_count": null,
   "id": "2fe4c512-322b-4c10-a2b4-be6db49b1c36",
   "metadata": {},
   "outputs": [],
   "source": []
  }
 ],
 "metadata": {
  "kernelspec": {
   "display_name": "Python 3 (ipykernel)",
   "language": "python",
   "name": "python3"
  },
  "language_info": {
   "codemirror_mode": {
    "name": "ipython",
    "version": 3
   },
   "file_extension": ".py",
   "mimetype": "text/x-python",
   "name": "python",
   "nbconvert_exporter": "python",
   "pygments_lexer": "ipython3",
   "version": "3.9.7"
  }
 },
 "nbformat": 4,
 "nbformat_minor": 5
}
