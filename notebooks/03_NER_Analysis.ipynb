{
 "cells": [
  {
   "cell_type": "code",
   "execution_count": 1,
   "id": "2dae8368-f5e8-4ea5-8836-3579b97302b0",
   "metadata": {},
   "outputs": [],
   "source": [
    "import sys\n",
    "sys.path.append('../util')\n",
    "sys.path.append('../experiments')\n",
    "\n",
    "import os\n",
    "# Disable weights and biases (if installed)\n",
    "os.environ[\"WANDB_DISABLED\"] = \"true\"\n",
    "os.environ[\"TOKENIZERS_PARALLELISM\"] = \"false\"\n",
    "os.environ[\"CUDA_DEVICE_ORDER\"] = \"PCI_BUS_ID\"\n",
    "os.environ[\"CUDA_VISIBLE_DEVICES\"] = \"0\""
   ]
  },
  {
   "cell_type": "code",
   "execution_count": 2,
   "id": "f671255e-bc4d-4e49-888d-1063100cd603",
   "metadata": {},
   "outputs": [],
   "source": [
    "from pathlib import Path\n",
    "import re\n",
    "import logging\n",
    "from convert_annotations import read_webanno, webanno_to_iob_df, join_and_resolve, EMPTY_REGEX, VALUE_REGEX, log\n",
    "import pandas as pd\n",
    "import transformers, datasets\n",
    "from transformers import AutoModelForTokenClassification, AutoTokenizer, Trainer, TrainingArguments, pipeline, DataCollatorForTokenClassification, EarlyStoppingCallback, trainer_utils\n",
    "from huggingface_utils import load_custom_dataset, LabelAligner, compute_metrics, eval_on_test_set\n",
    "from run_experiment import get_train_args\n",
    "import hydra\n",
    "from hydra import compose, initialize\n",
    "\n",
    "datasets.logging.set_verbosity_error()\n",
    "transformers.logging.disable_default_handler()\n",
    "log.setLevel(logging.ERROR)"
   ]
  },
  {
   "cell_type": "markdown",
   "id": "509dddc7-1afb-4595-b066-b2af076b17a9",
   "metadata": {},
   "source": [
    "## Error Analysis"
   ]
  },
  {
   "cell_type": "markdown",
   "id": "7a9b2675-bc7d-4a70-8ecc-3fd8311a5bd4",
   "metadata": {},
   "source": [
    "### Load the best model for the span length / granularity settings and the corresponding dataset"
   ]
  },
  {
   "cell_type": "code",
   "execution_count": 3,
   "id": "8d194511-7042-4183-ba3a-4b8853bb888f",
   "metadata": {},
   "outputs": [],
   "source": [
    "def load_pipeline_and_data(setting):\n",
    "    cfg_file = f'{setting}.yaml'\n",
    "    model_checkpoint = f'../data/models/huggingface/{setting}/'\n",
    "\n",
    "    hydra.core.global_hydra.GlobalHydra.instance().clear()\n",
    "    initialize(config_path=Path('..') / 'experiments')\n",
    "    config = compose(config_name=cfg_file, overrides=['cuda=0', 'link=false'])\n",
    "    \n",
    "    tokenizer = AutoTokenizer.from_pretrained(config['base_model_checkpoint'])\n",
    "    \n",
    "    dataset, tags = load_custom_dataset(train=config['train_dataset'], dev=config['dev_dataset'], test=config['test_dataset'], tag_strings=config['task'])\n",
    "    \n",
    "    assert isinstance(tokenizer, transformers.PreTrainedTokenizerFast)\n",
    "    \n",
    "    label_aligner = LabelAligner(tokenizer)\n",
    "    dataset = dataset.map(lambda e: label_aligner.tokenize_and_align_labels(e, config['label_all_tokens']), batched=True)\n",
    "    \n",
    "    training_args = get_train_args(cp_path='../ner_results', run_name='error_analysis', report_to=[], **config, resume_from_checkpoint=model_checkpoint)\n",
    "    \n",
    "    model = AutoModelForTokenClassification.from_pretrained(\n",
    "        model_checkpoint\n",
    "    )\n",
    "\n",
    "    data_collator = DataCollatorForTokenClassification(tokenizer)\n",
    "    tr = Trainer(\n",
    "        args=training_args,\n",
    "        model=model,\n",
    "        train_dataset=dataset[\"train\"],\n",
    "        eval_dataset=dataset[\"dev\"],\n",
    "        data_collator=data_collator,\n",
    "        tokenizer=tokenizer,\n",
    "        compute_metrics=compute_metrics(tags, True),\n",
    "    )\n",
    "    \n",
    "    return tr, model, dataset[\"test\"], tokenizer"
   ]
  },
  {
   "cell_type": "code",
   "execution_count": 4,
   "id": "cc6aa250-a2fb-4417-af3b-a8c93def2388",
   "metadata": {},
   "outputs": [
    {
     "data": {
      "application/vnd.jupyter.widget-view+json": {
       "model_id": "b5ba9ae94465486a9132bfa8718d43f1",
       "version_major": 2,
       "version_minor": 0
      },
      "text/plain": [
       "  0%|          | 0/3 [00:00<?, ?it/s]"
      ]
     },
     "metadata": {},
     "output_type": "display_data"
    },
    {
     "data": {
      "application/vnd.jupyter.widget-view+json": {
       "model_id": "2d04683c42ba4770ae70db367520e109",
       "version_major": 2,
       "version_minor": 0
      },
      "text/plain": [
       "  0%|          | 0/60 [00:00<?, ?ba/s]"
      ]
     },
     "metadata": {},
     "output_type": "display_data"
    },
    {
     "data": {
      "application/vnd.jupyter.widget-view+json": {
       "model_id": "9424075d76284ce9ae5175eda7514d46",
       "version_major": 2,
       "version_minor": 0
      },
      "text/plain": [
       "  0%|          | 0/13 [00:00<?, ?ba/s]"
      ]
     },
     "metadata": {},
     "output_type": "display_data"
    },
    {
     "data": {
      "application/vnd.jupyter.widget-view+json": {
       "model_id": "49a94cb37ed34109ad3209e61d9c6cd3",
       "version_major": 2,
       "version_minor": 0
      },
      "text/plain": [
       "  0%|          | 0/14 [00:00<?, ?ba/s]"
      ]
     },
     "metadata": {},
     "output_type": "display_data"
    },
    {
     "name": "stderr",
     "output_type": "stream",
     "text": [
      "INFO:run_experiment:error_analysis\n"
     ]
    },
    {
     "data": {
      "application/vnd.jupyter.widget-view+json": {
       "model_id": "a39af924e4d64ae1a8fb483817ec56ce",
       "version_major": 2,
       "version_minor": 0
      },
      "text/plain": [
       "  0%|          | 0/3 [00:00<?, ?it/s]"
      ]
     },
     "metadata": {},
     "output_type": "display_data"
    },
    {
     "data": {
      "application/vnd.jupyter.widget-view+json": {
       "model_id": "2cba07b05b3f4e62b753c448919f96ec",
       "version_major": 2,
       "version_minor": 0
      },
      "text/plain": [
       "  0%|          | 0/60 [00:00<?, ?ba/s]"
      ]
     },
     "metadata": {},
     "output_type": "display_data"
    },
    {
     "data": {
      "application/vnd.jupyter.widget-view+json": {
       "model_id": "97402d1cc37b4cb08869a22a547af78d",
       "version_major": 2,
       "version_minor": 0
      },
      "text/plain": [
       "  0%|          | 0/13 [00:00<?, ?ba/s]"
      ]
     },
     "metadata": {},
     "output_type": "display_data"
    },
    {
     "data": {
      "application/vnd.jupyter.widget-view+json": {
       "model_id": "7ee79c9ea1974bd684dbe882b65be8e5",
       "version_major": 2,
       "version_minor": 0
      },
      "text/plain": [
       "  0%|          | 0/14 [00:00<?, ?ba/s]"
      ]
     },
     "metadata": {},
     "output_type": "display_data"
    },
    {
     "name": "stderr",
     "output_type": "stream",
     "text": [
      "INFO:run_experiment:error_analysis\n"
     ]
    }
   ],
   "source": [
    "tr_short, model_short, test_ds_short, tokenizer = load_pipeline_and_data('02_ggponc_fine_short')\n",
    "tr_long, model_long, test_ds_long, _ = load_pipeline_and_data('04_ggponc_fine_long')"
   ]
  },
  {
   "cell_type": "code",
   "execution_count": 5,
   "id": "8d02f4c1-86b7-466d-a108-05416429c016",
   "metadata": {},
   "outputs": [
    {
     "data": {
      "text/plain": [
       "Dataset({\n",
       "    features: ['_tags', 'attention_mask', 'fname', 'input_ids', 'labels', 'offset_mapping', 'sentence_id', 'special_tokens_mask', 'tags', 'token_type_ids', 'tokens'],\n",
       "    num_rows: 13714\n",
       "})"
      ]
     },
     "execution_count": 5,
     "metadata": {},
     "output_type": "execute_result"
    }
   ],
   "source": [
    "test_ds_short"
   ]
  },
  {
   "cell_type": "code",
   "execution_count": 6,
   "id": "6d4d3b71-313b-4409-a6f4-8607fc25b121",
   "metadata": {},
   "outputs": [],
   "source": [
    "from transformers.pipelines.token_classification import AggregationStrategy\n",
    "pipe_short = pipeline(\"ner\", model_short, tokenizer=tokenizer, device=0, aggregation_strategy=AggregationStrategy.FIRST)\n",
    "pipe_long = pipeline(\"ner\", model_long, tokenizer=tokenizer, device=0, aggregation_strategy=AggregationStrategy.FIRST)"
   ]
  },
  {
   "cell_type": "markdown",
   "id": "c2daaee6-b02c-4751-a279-9b49bf104567",
   "metadata": {},
   "source": [
    "### Look at predictions on a few example sentences"
   ]
  },
  {
   "cell_type": "code",
   "execution_count": 7,
   "id": "4793d55e-bd7a-4f1c-922a-8a4bb8a76678",
   "metadata": {},
   "outputs": [],
   "source": [
    "wiki_sentence = \"\"\"\"Cetuximab ist ein monoklonaler Antikörper, der gegen den epidermalen Wachstumsfaktorrezeptor (EGFR) gerichtet ist und \n",
    "dient zur Therapie des fortgeschrittenen kolorektalen Karzinoms zusammen mit Irinotecan oder in Kombination mit FOLFOX bzw. \n",
    "allein nach Versagen einer Behandlung mit Oxaliplatin und Irinotecan.\"\"\""
   ]
  },
  {
   "cell_type": "code",
   "execution_count": 8,
   "id": "a69c68fa-79da-47c9-87fd-7fe32de706cc",
   "metadata": {},
   "outputs": [
    {
     "data": {
      "text/plain": [
       "[{'entity_group': 'Clinical_Drug',\n",
       "  'score': 0.962233,\n",
       "  'word': 'Cetuximab',\n",
       "  'start': 1,\n",
       "  'end': 10},\n",
       " {'entity_group': 'Clinical_Drug',\n",
       "  'score': 0.9626528,\n",
       "  'word': 'Antikörper',\n",
       "  'start': 32,\n",
       "  'end': 42},\n",
       " {'entity_group': 'Nutrient_or_Body_Substance',\n",
       "  'score': 0.9637979,\n",
       "  'word': 'Wachstumsfaktorrezeptor',\n",
       "  'start': 70,\n",
       "  'end': 93},\n",
       " {'entity_group': 'Nutrient_or_Body_Substance',\n",
       "  'score': 0.9641919,\n",
       "  'word': 'EGFR',\n",
       "  'start': 95,\n",
       "  'end': 99},\n",
       " {'entity_group': 'Therapeutic',\n",
       "  'score': 0.9628338,\n",
       "  'word': 'Therapie',\n",
       "  'start': 130,\n",
       "  'end': 138},\n",
       " {'entity_group': 'Diagnosis_or_Pathology',\n",
       "  'score': 0.9629651,\n",
       "  'word': 'Karzinoms',\n",
       "  'start': 174,\n",
       "  'end': 183},\n",
       " {'entity_group': 'Clinical_Drug',\n",
       "  'score': 0.9623752,\n",
       "  'word': 'Irinotecan',\n",
       "  'start': 197,\n",
       "  'end': 207},\n",
       " {'entity_group': 'Therapeutic',\n",
       "  'score': 0.9629323,\n",
       "  'word': 'FOLFOX',\n",
       "  'start': 232,\n",
       "  'end': 238},\n",
       " {'entity_group': 'Diagnosis_or_Pathology',\n",
       "  'score': 0.96274424,\n",
       "  'word': 'Versagen',\n",
       "  'start': 257,\n",
       "  'end': 265},\n",
       " {'entity_group': 'Therapeutic',\n",
       "  'score': 0.9627209,\n",
       "  'word': 'Behandlung',\n",
       "  'start': 272,\n",
       "  'end': 282},\n",
       " {'entity_group': 'Clinical_Drug',\n",
       "  'score': 0.96242136,\n",
       "  'word': 'Oxaliplatin',\n",
       "  'start': 287,\n",
       "  'end': 298},\n",
       " {'entity_group': 'Clinical_Drug',\n",
       "  'score': 0.96254873,\n",
       "  'word': 'Irinotecan',\n",
       "  'start': 303,\n",
       "  'end': 313}]"
      ]
     },
     "execution_count": 8,
     "metadata": {},
     "output_type": "execute_result"
    }
   ],
   "source": [
    "pipe_short(wiki_sentence)"
   ]
  },
  {
   "cell_type": "code",
   "execution_count": 9,
   "id": "4b63d634-fa8c-4b50-b6fd-6456e48f4cc1",
   "metadata": {},
   "outputs": [
    {
     "data": {
      "text/plain": [
       "[{'entity_group': 'Clinical_Drug',\n",
       "  'score': 0.92421424,\n",
       "  'word': 'Cetuximab',\n",
       "  'start': 1,\n",
       "  'end': 10},\n",
       " {'entity_group': 'Clinical_Drug',\n",
       "  'score': 0.9235098,\n",
       "  'word': 'monoklonaler Antikörper',\n",
       "  'start': 19,\n",
       "  'end': 42},\n",
       " {'entity_group': 'Nutrient_or_Body_Substance',\n",
       "  'score': 0.92463005,\n",
       "  'word': 'epidermalen Wachstumsfaktorrezeptor',\n",
       "  'start': 58,\n",
       "  'end': 93},\n",
       " {'entity_group': 'Nutrient_or_Body_Substance',\n",
       "  'score': 0.9239702,\n",
       "  'word': 'EGFR',\n",
       "  'start': 95,\n",
       "  'end': 99},\n",
       " {'entity_group': 'Therapeutic',\n",
       "  'score': 0.92163867,\n",
       "  'word': 'Therapie des fortgeschrittenen kolorektalen Karzinoms',\n",
       "  'start': 130,\n",
       "  'end': 183},\n",
       " {'entity_group': 'Clinical_Drug',\n",
       "  'score': 0.9246952,\n",
       "  'word': 'Irinotecan',\n",
       "  'start': 197,\n",
       "  'end': 207},\n",
       " {'entity_group': 'Therapeutic',\n",
       "  'score': 0.9218072,\n",
       "  'word': 'FOLFOX',\n",
       "  'start': 232,\n",
       "  'end': 238},\n",
       " {'entity_group': 'Diagnosis_or_Pathology',\n",
       "  'score': 0.9211978,\n",
       "  'word': 'Versagen einer Behandlung mit Oxaliplatin und Irinotecan',\n",
       "  'start': 257,\n",
       "  'end': 313}]"
      ]
     },
     "execution_count": 9,
     "metadata": {},
     "output_type": "execute_result"
    }
   ],
   "source": [
    "pipe_long(wiki_sentence)"
   ]
  },
  {
   "cell_type": "code",
   "execution_count": 10,
   "id": "1899a7b2-27e8-4762-ba6c-bef50adc5822",
   "metadata": {},
   "outputs": [],
   "source": [
    "guideline_sentence = \"\"\"Als Alternative empfiehlt die ASCCP bei zytologischem Verdacht auf CIN 1/2 die sofortige Kolposkopie.\"\"\""
   ]
  },
  {
   "cell_type": "code",
   "execution_count": 11,
   "id": "37dc1a0c-5c61-49a2-93d8-caf59e88b4a0",
   "metadata": {},
   "outputs": [
    {
     "data": {
      "text/plain": [
       "[{'entity_group': 'Other_Finding',\n",
       "  'score': 0.96294,\n",
       "  'word': 'Verdacht',\n",
       "  'start': 54,\n",
       "  'end': 62},\n",
       " {'entity_group': 'Diagnosis_or_Pathology',\n",
       "  'score': 0.96257114,\n",
       "  'word': 'CIN',\n",
       "  'start': 67,\n",
       "  'end': 70},\n",
       " {'entity_group': 'Diagnostic',\n",
       "  'score': 0.9636781,\n",
       "  'word': 'Kolposkopie',\n",
       "  'start': 89,\n",
       "  'end': 100}]"
      ]
     },
     "execution_count": 11,
     "metadata": {},
     "output_type": "execute_result"
    }
   ],
   "source": [
    "pipe_short(guideline_sentence)"
   ]
  },
  {
   "cell_type": "code",
   "execution_count": 12,
   "id": "3551790f-039f-488b-bea3-b519af737f2c",
   "metadata": {},
   "outputs": [
    {
     "data": {
      "text/plain": [
       "[{'entity_group': 'Other_Finding',\n",
       "  'score': 0.9217645,\n",
       "  'word': 'zytologischem Verdacht auf CIN 1 / 2',\n",
       "  'start': 40,\n",
       "  'end': 74},\n",
       " {'entity_group': 'Diagnostic',\n",
       "  'score': 0.9219378,\n",
       "  'word': 'sofortige Kolposkopie',\n",
       "  'start': 79,\n",
       "  'end': 100}]"
      ]
     },
     "execution_count": 12,
     "metadata": {},
     "output_type": "execute_result"
    }
   ],
   "source": [
    "pipe_long(guideline_sentence)"
   ]
  },
  {
   "cell_type": "code",
   "execution_count": 13,
   "id": "e9fd6f45-5ce2-4831-a65c-2dd7f565a12c",
   "metadata": {},
   "outputs": [],
   "source": [
    "clinical_note_sentence  = \"\"\"Antibiose fortsetzen (s. o.), Abstrich erfragen, ggf. Umstellung der Antibiose. Thromboseprophylaxe bis zur sicheren Mobilität.\"\"\""
   ]
  },
  {
   "cell_type": "code",
   "execution_count": 14,
   "id": "c99df041-2840-45dc-a4b9-9bbafa68a3e3",
   "metadata": {},
   "outputs": [
    {
     "data": {
      "text/plain": [
       "[{'entity_group': 'Therapeutic',\n",
       "  'score': 0.96311814,\n",
       "  'word': 'Antibiose',\n",
       "  'start': 0,\n",
       "  'end': 9},\n",
       " {'entity_group': 'Therapeutic',\n",
       "  'score': 0.96376956,\n",
       "  'word': 'Umstellung',\n",
       "  'start': 54,\n",
       "  'end': 64},\n",
       " {'entity_group': 'Therapeutic',\n",
       "  'score': 0.96073705,\n",
       "  'word': 'Antibiose',\n",
       "  'start': 69,\n",
       "  'end': 78},\n",
       " {'entity_group': 'Therapeutic',\n",
       "  'score': 0.9622617,\n",
       "  'word': 'Thromboseprophylaxe',\n",
       "  'start': 80,\n",
       "  'end': 99},\n",
       " {'entity_group': 'Other_Finding',\n",
       "  'score': 0.96310234,\n",
       "  'word': 'Mobilität',\n",
       "  'start': 117,\n",
       "  'end': 126}]"
      ]
     },
     "execution_count": 14,
     "metadata": {},
     "output_type": "execute_result"
    }
   ],
   "source": [
    "pipe_short(clinical_note_sentence)"
   ]
  },
  {
   "cell_type": "code",
   "execution_count": 15,
   "id": "8b7ded95-551d-4e62-949d-70328291d475",
   "metadata": {},
   "outputs": [
    {
     "data": {
      "text/plain": [
       "[{'entity_group': 'Therapeutic',\n",
       "  'score': 0.92327774,\n",
       "  'word': 'Antibiose',\n",
       "  'start': 0,\n",
       "  'end': 9},\n",
       " {'entity_group': 'Diagnostic',\n",
       "  'score': 0.9229312,\n",
       "  'word': 'Abstrich',\n",
       "  'start': 30,\n",
       "  'end': 38},\n",
       " {'entity_group': 'Therapeutic',\n",
       "  'score': 0.9218672,\n",
       "  'word': 'Umstellung der Antibiose',\n",
       "  'start': 54,\n",
       "  'end': 78},\n",
       " {'entity_group': 'Therapeutic',\n",
       "  'score': 0.9218916,\n",
       "  'word': 'Thromboseprophylaxe',\n",
       "  'start': 80,\n",
       "  'end': 99},\n",
       " {'entity_group': 'Other_Finding',\n",
       "  'score': 0.9219573,\n",
       "  'word': 'sicheren Mobilität',\n",
       "  'start': 108,\n",
       "  'end': 126}]"
      ]
     },
     "execution_count": 15,
     "metadata": {},
     "output_type": "execute_result"
    }
   ],
   "source": [
    "pipe_long(clinical_note_sentence)"
   ]
  },
  {
   "cell_type": "markdown",
   "id": "756d4da8-8d90-4a00-83e5-055bf343befb",
   "metadata": {},
   "source": [
    "#### Get metrics and error analysis on test set"
   ]
  },
  {
   "cell_type": "code",
   "execution_count": 16,
   "id": "0702ad5e-b156-41b4-9942-3aa92af15fae",
   "metadata": {},
   "outputs": [
    {
     "data": {
      "text/html": [
       "\n",
       "    <div>\n",
       "      \n",
       "      <progress value='470' max='429' style='width:300px; height:20px; vertical-align: middle;'></progress>\n",
       "      [429/429 14:21:08]\n",
       "    </div>\n",
       "    "
      ],
      "text/plain": [
       "<IPython.core.display.HTML object>"
      ]
     },
     "metadata": {},
     "output_type": "display_data"
    },
    {
     "name": "stderr",
     "output_type": "stream",
     "text": [
      "13714it [00:05, 2527.05it/s]\n"
     ]
    },
    {
     "data": {
      "text/html": [
       "\n",
       "    <div>\n",
       "      \n",
       "      <progress value='470' max='429' style='width:300px; height:20px; vertical-align: middle;'></progress>\n",
       "      [429/429 14:20:49]\n",
       "    </div>\n",
       "    "
      ],
      "text/plain": [
       "<IPython.core.display.HTML object>"
      ]
     },
     "metadata": {},
     "output_type": "display_data"
    },
    {
     "name": "stderr",
     "output_type": "stream",
     "text": [
      "13714it [00:05, 2489.98it/s]\n"
     ]
    }
   ],
   "source": [
    "test_set_metrics_short = eval_on_test_set(test_ds_short, tr_short, tokenizer, \"test_short_full\")\n",
    "test_set_metrics_long = eval_on_test_set(test_ds_long, tr_long, tokenizer, \"test_long_full\")"
   ]
  },
  {
   "cell_type": "code",
   "execution_count": 17,
   "id": "56f6c53e-2686-4f74-a5ce-ee2b2c77764a",
   "metadata": {},
   "outputs": [
    {
     "data": {
      "text/plain": [
       "{'test_long_full/boundary_error': 2684,\n",
       " 'test_long_full/false_negative': 1695,\n",
       " 'test_long_full/false_positive': 1849,\n",
       " 'test_long_full/label_boundary_error': 1830,\n",
       " 'test_long_full/labeling_error': 1521,\n",
       " 'test_long_full/true_positive': 22894,\n",
       " 'test_long_full/loss': 0.476093053817749,\n",
       " 'test_long_full/Clinical_Drug_precision': 0.707409155261916,\n",
       " 'test_long_full/Clinical_Drug_recall': 0.7555443548387096,\n",
       " 'test_long_full/Clinical_Drug_f1': 0.7306848647331221,\n",
       " 'test_long_full/Clinical_Drug_number': 1984,\n",
       " 'test_long_full/Diagnosis_or_Pathology_precision': 0.7566739173422978,\n",
       " 'test_long_full/Diagnosis_or_Pathology_recall': 0.7842795654847304,\n",
       " 'test_long_full/Diagnosis_or_Pathology_f1': 0.7702294685990339,\n",
       " 'test_long_full/Diagnosis_or_Pathology_number': 9758,\n",
       " 'test_long_full/Diagnostic_precision': 0.6845344960246217,\n",
       " 'test_long_full/Diagnostic_recall': 0.7385168788046486,\n",
       " 'test_long_full/Diagnostic_f1': 0.7105017968853985,\n",
       " 'test_long_full/Diagnostic_number': 3614,\n",
       " 'test_long_full/External_Substance_precision': 0.45098039215686275,\n",
       " 'test_long_full/External_Substance_recall': 0.3357664233576642,\n",
       " 'test_long_full/External_Substance_f1': 0.38493723849372385,\n",
       " 'test_long_full/External_Substance_number': 137,\n",
       " 'test_long_full/Nutrient_or_Body_Substance_precision': 0.6070763500931099,\n",
       " 'test_long_full/Nutrient_or_Body_Substance_recall': 0.6379647749510763,\n",
       " 'test_long_full/Nutrient_or_Body_Substance_f1': 0.6221374045801527,\n",
       " 'test_long_full/Nutrient_or_Body_Substance_number': 511,\n",
       " 'test_long_full/Other_Finding_precision': 0.6374537379718727,\n",
       " 'test_long_full/Other_Finding_recall': 0.613740022805017,\n",
       " 'test_long_full/Other_Finding_f1': 0.6253721588846125,\n",
       " 'test_long_full/Other_Finding_number': 7016,\n",
       " 'test_long_full/Therapeutic_precision': 0.7562471078204535,\n",
       " 'test_long_full/Therapeutic_recall': 0.7631333177679197,\n",
       " 'test_long_full/Therapeutic_f1': 0.7596746077861708,\n",
       " 'test_long_full/Therapeutic_number': 8566,\n",
       " 'test_long_full/overall_precision': 0.716070873484613,\n",
       " 'test_long_full/overall_recall': 0.729310453998607,\n",
       " 'test_long_full/overall_f1': 0.7226300269778531,\n",
       " 'test_long_full/overall_accuracy': 0.9139037190323899,\n",
       " 'test_long_full/runtime': 16.1672,\n",
       " 'test_long_full/samples_per_second': 848.259,\n",
       " 'test_long_full/steps_per_second': 26.535}"
      ]
     },
     "execution_count": 17,
     "metadata": {},
     "output_type": "execute_result"
    }
   ],
   "source": [
    "test_set_metrics_long"
   ]
  },
  {
   "cell_type": "markdown",
   "id": "d4f8c39e-1e18-4d59-9430-b58c75f414f2",
   "metadata": {},
   "source": [
    "# Coordination ellipses"
   ]
  },
  {
   "cell_type": "markdown",
   "id": "8747176f-2697-4f0b-b618-81d69556f739",
   "metadata": {},
   "source": [
    "Annotators were asked to annotate ellipses and their corresponding resolution using the `prefix` and `suffix` items as well as `fragment` relations for morpheme coordination (i.e., omission of subwords, in German commonly indicated by a Auslassungsstrich \"-\")"
   ]
  },
  {
   "cell_type": "code",
   "execution_count": 18,
   "id": "2fe7b432-c145-4632-8512-62e30e77e4df",
   "metadata": {},
   "outputs": [
    {
     "name": "stdout",
     "output_type": "stream",
     "text": [
      "10193\n"
     ]
    }
   ],
   "source": [
    "# Unzip webanno raw annotations\n",
    "!unzip -q -n -d ../data/annotations/webannoo ../data/annotations/webanno.zip\n",
    "!ls ../data/annotations/webanno | wc -l"
   ]
  },
  {
   "cell_type": "markdown",
   "id": "c42d1c97-12b2-4f50-8884-fa5a84a6c260",
   "metadata": {},
   "source": [
    "#### Read the raw data from WebAnno TSV files"
   ]
  },
  {
   "cell_type": "code",
   "execution_count": 19,
   "id": "311a434c-0e9a-47b8-a56b-3341b01eda00",
   "metadata": {},
   "outputs": [
    {
     "name": "stdout",
     "output_type": "stream",
     "text": [
      "CPU times: user 32.6 s, sys: 547 ms, total: 33.2 s\n",
      "Wall time: 33.2 s\n"
     ]
    }
   ],
   "source": [
    "%%time\n",
    "tsv_folder = '../data/annotations/webanno'\n",
    "\n",
    "webanno_df, _ = read_webanno(Path(tsv_folder).glob('*.tsv'))"
   ]
  },
  {
   "cell_type": "code",
   "execution_count": 20,
   "id": "6c6f8441-cba4-4efb-80a6-67d812f1378e",
   "metadata": {},
   "outputs": [
    {
     "name": "stderr",
     "output_type": "stream",
     "text": [
      "100%|█████████████████████████████████████████████████████████████████████████████| 85999/85999 [49:57<00:00, 28.69it/s]\n"
     ]
    },
    {
     "name": "stdout",
     "output_type": "stream",
     "text": [
      "CPU times: user 50min 10s, sys: 24.9 s, total: 50min 34s\n",
      "Wall time: 50min 27s\n"
     ]
    }
   ],
   "source": [
    "%%time\n",
    "\n",
    "import warnings\n",
    "\n",
    "with warnings.catch_warnings():\n",
    "    warnings.simplefilter(\"ignore\")\n",
    "    iob_df = webanno_to_iob_df(webanno_df, 'detail', True, debug=False, collect_errors=False, skip_errors=True, all_columns=True)\n",
    "    iob_df['id'] = iob_df.entity_id.where(~iob_df.entity_id.isna(), iob_df.spec_id)"
   ]
  },
  {
   "cell_type": "code",
   "execution_count": 23,
   "id": "a25437f1-22d3-442b-8fc4-5746bbdf5722",
   "metadata": {},
   "outputs": [],
   "source": [
    "# Anything containing a prefix, suffix or fragment is potentially an elliptical construct\n",
    "ellipses = iob_df[~iob_df.prefix.str.match(EMPTY_REGEX) | ~iob_df.suffix.str.match(EMPTY_REGEX) | ~iob_df.fragment.str.match(EMPTY_REGEX) ].copy()"
   ]
  },
  {
   "cell_type": "markdown",
   "id": "88331b1f-30ee-49e5-9c18-ab58f60fbf56",
   "metadata": {},
   "source": [
    "### Resolve ellipses and connect fragment parts"
   ]
  },
  {
   "cell_type": "code",
   "execution_count": 24,
   "id": "5e9b3a28-3572-47e3-b35d-f31aecdda24d",
   "metadata": {},
   "outputs": [
    {
     "name": "stderr",
     "output_type": "stream",
     "text": [
      "<timed exec>:6: PerformanceWarning: indexing past lexsort depth may impact performance.\n",
      "<timed exec>:8: PerformanceWarning: indexing past lexsort depth may impact performance.\n"
     ]
    },
    {
     "name": "stdout",
     "output_type": "stream",
     "text": [
      "CPU times: user 3min 47s, sys: 1.47 s, total: 3min 49s\n",
      "Wall time: 3min 49s\n"
     ]
    }
   ],
   "source": [
    "%%time\n",
    "results = []\n",
    "for _, r in ellipses.id.reset_index().drop_duplicates().iterrows():\n",
    "    has_fragment = False\n",
    "    idx = r.file, r.sentence_id\n",
    "    _id = r.id\n",
    "    sentence = ellipses.loc[idx]\n",
    "    span = sentence[sentence.id == _id]\n",
    "    full_sentence = iob_df.loc[idx]\n",
    "    full_span = full_sentence[full_sentence.id == _id]\n",
    "    for fragment in span.fragment: # Expand span to fragments\n",
    "        if fragment and not re.match(EMPTY_REGEX, fragment):\n",
    "            has_fragment = True\n",
    "            fragment = re.split('[|;]', fragment)[0]\n",
    "            m = re.match(VALUE_REGEX, fragment)\n",
    "            if not m:\n",
    "                print(span.fragment)\n",
    "            fragment_index = int(m.group(1).split('-')[1])\n",
    "            fragment_start = min(fragment_index, full_span.token_id.min())\n",
    "            fragment_end = max(fragment_index, full_span.token_id.max())\n",
    "            full_span = full_sentence[(full_sentence.token_id >= fragment_start) & (full_sentence.token_id <= fragment_end)]\n",
    "            expanded_context = full_sentence[full_sentence.id.isin(full_span.id.dropna().unique())].token_id\n",
    "            fragment_start = min(fragment_start, expanded_context.min())\n",
    "            fragment_end = max(fragment_end, expanded_context.max())\n",
    "            full_span = full_sentence[(full_sentence.token_id >= fragment_start) & (full_sentence.token_id <= fragment_end)]\n",
    "    fragment, resolution, missing_prefix, missing_suffix = join_and_resolve(full_span)\n",
    "    results.append({\n",
    "        'file' : idx[0],\n",
    "        'sentence_id' : idx[1],\n",
    "        'full_sentence' : list(full_sentence.token),\n",
    "        'span_index_start': full_span.token_id.min() - 1,\n",
    "        'span_index_end' : full_span.token_id.max() - 1,\n",
    "        'full_span' : fragment,\n",
    "        'resolution' : resolution,\n",
    "        'fragment' : has_fragment,\n",
    "        'missing_prefix' : missing_prefix,\n",
    "        'missing_suffix' : missing_suffix,\n",
    "    })\n",
    "results = pd.DataFrame(results)"
   ]
  },
  {
   "cell_type": "markdown",
   "id": "099021d3-dd91-4ba3-8e33-52f972ec0993",
   "metadata": {},
   "source": [
    "### Statistics"
   ]
  },
  {
   "cell_type": "code",
   "execution_count": 25,
   "id": "1761c4c0-59f0-4730-b243-e658c0eb239f",
   "metadata": {},
   "outputs": [
    {
     "data": {
      "text/plain": [
       "(4666, 85999, 0.05425644484238189)"
      ]
     },
     "execution_count": 25,
     "metadata": {},
     "output_type": "execute_result"
    }
   ],
   "source": [
    "ellipses_sentence_count = len(results[['file', 'sentence_id']].drop_duplicates())\n",
    "sentence_count = len(iob_df.index.drop_duplicates())\n",
    "ellipses_sentence_count, sentence_count, ellipses_sentence_count / sentence_count"
   ]
  },
  {
   "cell_type": "code",
   "execution_count": 27,
   "id": "dd38aa1d-5bc0-4d04-8a64-736baf89c501",
   "metadata": {},
   "outputs": [
    {
     "name": "stdout",
     "output_type": "stream",
     "text": [
      "Ellipses 5264\n",
      "Forward ellipses 1964 844\n",
      "Backward ellipses 2979 2739\n",
      "Complex ellipses 282 199\n"
     ]
    }
   ],
   "source": [
    "print('Ellipses', len(results))\n",
    "print('Forward ellipses', len(results[results.missing_prefix & ~results.missing_suffix]), len(results[results.fragment & results.missing_prefix & ~results.missing_suffix]))\n",
    "print('Backward ellipses', len(results[~results.missing_prefix & results.missing_suffix]), len(results[results.fragment & ~results.missing_prefix & results.missing_suffix]))\n",
    "print('Complex ellipses', len(results[results.missing_prefix & results.missing_suffix]), len(results[results.fragment & results.missing_prefix & results.missing_suffix]))"
   ]
  },
  {
   "cell_type": "markdown",
   "id": "6b97695e-4371-4566-b344-241513a14c1a",
   "metadata": {},
   "source": [
    "### Browsing random examples and their resolution"
   ]
  },
  {
   "cell_type": "code",
   "execution_count": 28,
   "id": "ecd2ea55-5250-4ede-aae1-fb1ce9af540a",
   "metadata": {},
   "outputs": [],
   "source": [
    "import random\n",
    "\n",
    "def show_random(df):\n",
    "    i = random.randint(0, len(df))\n",
    "    item = df.iloc[i]    \n",
    "    assert len(item.full_span) == len(item.resolution)\n",
    "    spans = []\n",
    "    solutions = []\n",
    "    marker = []\n",
    "    for span, res in zip(item.full_span, item.resolution):\n",
    "        if span == res:\n",
    "            marker.append(' ' * len(span))\n",
    "        else:\n",
    "            marker.append('^' * len(res))\n",
    "        start_index = res.find(span)\n",
    "        spans.append(span.rjust(start_index + len(span)).ljust(len(res) - start_index))\n",
    "        solutions.append(res)\n",
    "    print(' '.join(spans))\n",
    "    print(' '.join(solutions))\n",
    "    print(' '.join(marker))\n",
    "    print(item.file, item.sentence_id, 'fragment:', item.fragment)\n",
    "    print('...........')\n",
    "    print('')"
   ]
  },
  {
   "cell_type": "markdown",
   "id": "317feabe-bce8-4ed5-8eec-4cc6b8e58048",
   "metadata": {},
   "source": [
    "Examples with fragment attribute (typically elliptical compounds)"
   ]
  },
  {
   "cell_type": "code",
   "execution_count": 29,
   "id": "731d926e-bfcb-4bf2-8bca-8cf4f078b252",
   "metadata": {},
   "outputs": [
    {
     "name": "stdout",
     "output_type": "stream",
     "text": [
      "Unversehrtheit der Funktion und     Ästhetik im Kopf         - und    Gesichtsbereich\n",
      "Unversehrtheit der Funktion und der Ästhetik im Kopf-bereich - und im Gesichtsbereich\n",
      "                                ^^^^^^^^^^^^    ^^^^^^^^^^^^       ^^^^^^^^^^^^^^^^^^\n",
      "29_adulte-weichgewebesarkome_0124.tsv 9 fragment: True\n",
      "...........\n",
      "\n",
      "Behandlungs        - und Krankheitsverlauf\n",
      "Behandlungsverlauf - und Krankheitsverlauf\n",
      "^^^^^^^^^^^^^^^^^^                        \n",
      "26_palliativmedizin_0528.tsv 2 fragment: True\n",
      "...........\n",
      "\n",
      "ER           - / PgR-positiven Tumoren\n",
      "ER-positiven - / PgR-positiven Tumoren\n",
      "^^^^^^^^^^^^                          \n",
      "09_mammakarzinom_0199.tsv 21 fragment: True\n",
      "...........\n",
      "\n",
      "prä           - oder perioperativen Therapie\n",
      "präoperativen - oder perioperativen Therapie\n",
      "^^^^^^^^^^^^^                               \n",
      "13_oesophaguskarzinom_0114.tsv 3 fragment: True\n",
      "...........\n",
      "\n",
      "Selbsttötungsgedanken oder -                      pläne\n",
      "Selbsttötungsgedanken oder - Selbsttötungsgedankenpläne\n",
      "                             ^^^^^^^^^^^^^^^^^^^^^^^^^^\n",
      "26_palliativmedizin_0569.tsv 14 fragment: True\n",
      "...........\n",
      "\n",
      "Östrogen           - und Gestagenkomponente\n",
      "Östrogenkomponente - und Gestagenkomponente\n",
      "^^^^^^^^^^^^^^^^^^                         \n",
      "05_zervixkarzinom_0009.tsv 2 fragment: True\n",
      "...........\n",
      "\n",
      "Diarrhoe Grad 3 und      4\n",
      "Diarrhoe Grad 3 und Grad 4\n",
      "                    ^^^^^^\n",
      "27_supportive-therapie_0175.tsv 7 fragment: True\n",
      "...........\n",
      "\n",
      "Systemtherapie auf den Tumor in der Brust und    den Lymphknoten\n",
      "Systemtherapie auf den Tumor in der Brust und in den Lymphknoten\n",
      "                                              ^^^^^^            \n",
      "09_mammakarzinom_0155.tsv 37 fragment: True\n",
      "...........\n",
      "\n",
      "Wund          - und Narbenschmerzen\n",
      "Wundschmerzen - und Narbenschmerzen\n",
      "^^^^^^^^^^^^^                      \n",
      "25_psychoonkologie_0021.tsv 3 fragment: True\n",
      "...........\n",
      "\n",
      "Stadium II und         III\n",
      "Stadium II und Stadium III\n",
      "               ^^^^^^^^^^^\n",
      "02_kolorektales-karzinom_0327.tsv 3 fragment: True\n",
      "...........\n",
      "\n"
     ]
    }
   ],
   "source": [
    "for _ in range(0, 10):\n",
    "    show_random(results[results.fragment])"
   ]
  },
  {
   "cell_type": "markdown",
   "id": "6d7dade1-0d4c-4621-9bc8-9642ecc96cfd",
   "metadata": {},
   "source": [
    "Examples without fragment attribute (often omitted prepositions)"
   ]
  },
  {
   "cell_type": "code",
   "execution_count": 30,
   "id": "58ca6070-b6c7-4b43-8b63-980d7f9e382c",
   "metadata": {},
   "outputs": [
    {
     "name": "stdout",
     "output_type": "stream",
     "text": [
      "Stillen von Hunger und     Durst\n",
      "Stillen von Hunger und von Durst\n",
      "                       ^^^^^^^^^\n",
      "26_palliativmedizin_0648.tsv 14 fragment: False\n",
      "...........\n",
      "\n",
      "Abtragung durch einen Laser oder       ein Elektromesser in Lokalanästhesie\n",
      "Abtragung durch einen Laser oder durch ein Elektromesser in Lokalanästhesie\n",
      "                                 ^^^^^^^^^                                 \n",
      "14_larynxkarzinom_0129.tsv 70 fragment: False\n",
      "...........\n",
      "\n",
      "       C46 - C49\n",
      "ICD-10 C46 - C49\n",
      "^^^^^^^^^^      \n",
      "29_adulte-weichgewebesarkome_0003.tsv 5 fragment: False\n",
      "...........\n",
      "\n",
      "Auswirkungen von Reiki auf Angst , Depressivität ,     Psychische Belastung sowie Stimmungsschwankungen\n",
      "Auswirkungen von Reiki auf Angst , Depressivität , auf Psychische Belastung sowie Stimmungsschwankungen\n",
      "                                                   ^^^^^^^^^^^^^^                                      \n",
      "28_komplementaermedizin_0067.tsv 74 fragment: False\n",
      "...........\n",
      "\n",
      "Teilhabe am Arbeits      - und    gesellschaftlichen Leben\n",
      "Teilhabe am Arbeitsleben - und am gesellschaftlichen Leben\n",
      "            ^^^^^^^^^^^^       ^^^^^^^^^^^^^^^^^^^^^      \n",
      "25_psychoonkologie_0009.tsv 3 fragment: False\n",
      "...........\n",
      "\n",
      "Folgestörungen im somatischen         als auch    psychosozialen Bereich\n",
      "Folgestörungen im somatischen Bereich als auch im psychosozialen Bereich\n",
      "                  ^^^^^^^^^^^^^^^^^^^          ^^^^^^^^^^^^^^^^^        \n",
      "19_follikulaeres-lymphom_0286.tsv 1 fragment: False\n",
      "...........\n",
      "\n",
      "CT des Abdomens und     Beckens mit i . v . Kontrastmittel\n",
      "CT des Abdomens und des Beckens mit i . v . Kontrastmittel\n",
      "                    ^^^^^^^^^^^                           \n",
      "26_palliativmedizin_0403.tsv 5 fragment: False\n",
      "...........\n",
      "\n",
      "    Hoffnung\n",
      "von Hoffnung\n",
      "^^^^^^^^^^^^\n",
      "26_palliativmedizin_0586.tsv 20 fragment: False\n",
      "...........\n",
      "\n",
      "Rate an Blasenausgangsstenosen und    postoperativen Harnretentionen\n",
      "Rate an Blasenausgangsstenosen und an postoperativen Harnretentionen\n",
      "                                   ^^^^^^^^^^^^^^^^^                \n",
      "22_prostatakarzinom_0155.tsv 18 fragment: False\n",
      "...........\n",
      "\n",
      "Therapie der postoperativen Funktionsstörungen , insbesondere der Harninkontinenz und     erektilen Dysfunktion\n",
      "Therapie der postoperativen Funktionsstörungen , insbesondere der Harninkontinenz und der erektilen Dysfunktion\n",
      "                                                                                      ^^^^^^^^^^^^^            \n",
      "22_prostatakarzinom_0317.tsv 2 fragment: False\n",
      "...........\n",
      "\n"
     ]
    }
   ],
   "source": [
    "for _ in range(0, 10):\n",
    "    show_random(results[~results.fragment])"
   ]
  },
  {
   "cell_type": "markdown",
   "id": "7b3d091b-8ee2-48da-8beb-96ba39b172e0",
   "metadata": {},
   "source": [
    "### Evaluation of NER models on these instances"
   ]
  },
  {
   "cell_type": "code",
   "execution_count": 31,
   "id": "399f7b28-2293-4775-aba0-06216477b681",
   "metadata": {},
   "outputs": [],
   "source": [
    "idx = set(results.set_index(['file', 'sentence_id']).index.unique().values)\n",
    "idx_frag = set(results[results.fragment].set_index(['file', 'sentence_id']).index.unique().values)"
   ]
  },
  {
   "cell_type": "code",
   "execution_count": 32,
   "id": "5ecc9574-2f2b-4fd6-ada2-073ac98d15d3",
   "metadata": {},
   "outputs": [
    {
     "data": {
      "application/vnd.jupyter.widget-view+json": {
       "model_id": "54a71d7d41664657a5eb0cba1c24d6f9",
       "version_major": 2,
       "version_minor": 0
      },
      "text/plain": [
       "  0%|          | 0/14 [00:00<?, ?ba/s]"
      ]
     },
     "metadata": {},
     "output_type": "display_data"
    },
    {
     "data": {
      "application/vnd.jupyter.widget-view+json": {
       "model_id": "3c26104d946d4441a6e0aff1cfdac9d3",
       "version_major": 2,
       "version_minor": 0
      },
      "text/plain": [
       "  0%|          | 0/14 [00:00<?, ?ba/s]"
      ]
     },
     "metadata": {},
     "output_type": "display_data"
    },
    {
     "data": {
      "application/vnd.jupyter.widget-view+json": {
       "model_id": "0dbcdcce8ba64b079ae27c99725868c6",
       "version_major": 2,
       "version_minor": 0
      },
      "text/plain": [
       "  0%|          | 0/14 [00:00<?, ?ba/s]"
      ]
     },
     "metadata": {},
     "output_type": "display_data"
    },
    {
     "data": {
      "application/vnd.jupyter.widget-view+json": {
       "model_id": "b76a138ef0364d949c01ca3573504d5c",
       "version_major": 2,
       "version_minor": 0
      },
      "text/plain": [
       "  0%|          | 0/14 [00:00<?, ?ba/s]"
      ]
     },
     "metadata": {},
     "output_type": "display_data"
    }
   ],
   "source": [
    "test_ds_short_ellipsis = test_ds_short.filter(lambda item: (item['fname'], item['sentence_id']) in idx)\n",
    "test_ds_short_fragment = test_ds_short.filter(lambda item: (item['fname'], item['sentence_id']) in idx_frag)\n",
    "test_ds_long_ellipsis = test_ds_long.filter(lambda item: (item['fname'], item['sentence_id']) in idx)\n",
    "test_ds_long_fragment = test_ds_long.filter(lambda item: (item['fname'], item['sentence_id']) in idx_frag)"
   ]
  },
  {
   "cell_type": "code",
   "execution_count": 33,
   "id": "71f539c2-3b0e-4505-b4cf-a29d468898e9",
   "metadata": {},
   "outputs": [
    {
     "name": "stderr",
     "output_type": "stream",
     "text": [
      "740it [00:00, 1813.45it/s]\n",
      "542it [00:00, 1856.73it/s]\n",
      "740it [00:00, 1751.01it/s]\n",
      "542it [00:00, 1826.67it/s]\n"
     ]
    }
   ],
   "source": [
    "test_set_metrics_short_ellipses = eval_on_test_set(test_ds_short_ellipsis, tr_short, tokenizer, \"test_short_ellipsis\")\n",
    "test_set_metrics_short_fragment = eval_on_test_set(test_ds_short_fragment, tr_short, tokenizer, \"test_short_fragment\")\n",
    "test_set_metrics_long_ellipses = eval_on_test_set(test_ds_long_ellipsis, tr_long, tokenizer, \"test_long_ellipsis\")\n",
    "test_set_metrics_long_fragment = eval_on_test_set(test_ds_long_fragment, tr_long, tokenizer, \"test_long_fragment\")"
   ]
  },
  {
   "cell_type": "code",
   "execution_count": 34,
   "id": "bcf25bc8-0a4f-4a6a-992e-6824832a696c",
   "metadata": {},
   "outputs": [],
   "source": [
    "error_cols = ['false_negative', 'false_positive', 'labeling_error', 'boundary_error', 'label_boundary_error']"
   ]
  },
  {
   "cell_type": "code",
   "execution_count": 35,
   "id": "8c8246cb-704d-4554-adbd-1f8fd2df0e7c",
   "metadata": {},
   "outputs": [],
   "source": [
    "def get_dataframe(metrics):\n",
    "    count = 0\n",
    "    for k, v in metrics.items():\n",
    "        if '_number' in k:\n",
    "            count += v\n",
    "    data = {}\n",
    "    key = None\n",
    "    for k_long, v in metrics.items():\n",
    "        subset, k = tuple(k_long.split('/'))\n",
    "        assert not key or key == subset\n",
    "        key = subset\n",
    "        if k in error_cols + ['true_positive']:\n",
    "            data[f\"{k}_abs\"] = v\n",
    "            data[f\"{k}\"] = v / count\n",
    "        if k == 'overall_f1':\n",
    "            data[k] = v\n",
    "    data['subset'] = subset\n",
    "    return pd.DataFrame([data]).set_index('subset')"
   ]
  },
  {
   "cell_type": "code",
   "execution_count": 36,
   "id": "7ff694ae-a5dd-4710-9af8-ba688c975c04",
   "metadata": {},
   "outputs": [],
   "source": [
    "stats = pd.concat([\n",
    "    get_dataframe(test_set_metrics_short),\n",
    "    get_dataframe(test_set_metrics_short_ellipses),\n",
    "    get_dataframe(test_set_metrics_short_fragment),\n",
    "    get_dataframe(test_set_metrics_long),\n",
    "    get_dataframe(test_set_metrics_long_ellipses),\n",
    "    get_dataframe(test_set_metrics_long_fragment),\n",
    "])"
   ]
  },
  {
   "cell_type": "code",
   "execution_count": 37,
   "id": "2e200e64-ee5a-41a5-a1f6-73fba8085650",
   "metadata": {},
   "outputs": [],
   "source": [
    "import matplotlib\n",
    "from matplotlib import pyplot as plt\n",
    "from matplotlib import cm"
   ]
  },
  {
   "cell_type": "code",
   "execution_count": 38,
   "id": "c0eee753-1263-4e04-8649-1b0777850931",
   "metadata": {},
   "outputs": [],
   "source": [
    "matplotlib.rcParams.update({'font.size': 16})"
   ]
  },
  {
   "cell_type": "code",
   "execution_count": 39,
   "id": "f73ec690-dd09-4ca9-a176-b2641d3eb346",
   "metadata": {},
   "outputs": [
    {
     "data": {
      "image/png": "[encoded data removed]",
      "text/plain": [
       "<Figure size 864x180 with 1 Axes>"
      ]
     },
     "metadata": {
      "needs_background": "light"
     },
     "output_type": "display_data"
    }
   ],
   "source": [
    "ax = plt.figure(figsize=(12,2.5)).add_subplot(111)\n",
    "\n",
    "stats[error_cols].T.rename(\n",
    "    {\n",
    "        'false_negative' : 'False\\nNegatives',\n",
    "        'false_positive' : 'False\\nPositives',\n",
    "        'labeling_error' : 'Labeling\\nErrors',\n",
    "        'boundary_error' : 'Boundary\\nErrors',\n",
    "        'label_boundary_error' : 'Label Boundary\\nErrors',\n",
    "    }).rename({\n",
    "        'test_short_full' : 'Short spans (test set)',\n",
    "        'test_short_ellipsis' : 'Short spans (ellipses)',\n",
    "        'test_short_fragment' : 'Short spans (fragments)',\n",
    "        'test_long_full' : 'Long spans (test set)',\n",
    "        'test_long_ellipsis' : 'Long spans (ellipses)',\n",
    "        'test_long_fragment' : 'Long spans (fragments)'\n",
    "    }, axis=1\n",
    "    ).plot.bar(rot=0, ax=ax\n",
    ")\n",
    "\n",
    "ax.grid(axis='y')\n",
    "\n",
    "c1, c2, c3 = '#19439c', '#7a8e82', '#ffc67a'\n",
    "\n",
    "bars = ax.patches\n",
    "hatches = [None] * 15 + ['////'] * 15\n",
    "colors = ([c1] * 5 + [c2] * 5 + [c3] * 5) * 3\n",
    "\n",
    "for bar, hatch, color in zip(bars, hatches, colors):\n",
    "    if not hatch:\n",
    "        bar.set_color(color)\n",
    "    else:\n",
    "        bar.set_color('white')\n",
    "    bar.set_edgecolor(color)\n",
    "    bar.set_hatch(hatch)\n",
    "\n",
    "    \n",
    "ax.set_ylabel('Errors / mention')\n",
    "    \n",
    "plt.legend(bbox_to_anchor=(1.0, 1.05))\n",
    "\n",
    "plt.savefig('error_analysis.png', dpi=600, bbox_inches=\"tight\")\n",
    "\n",
    "plt.show()"
   ]
  },
  {
   "cell_type": "markdown",
   "id": "8631d688-e920-4bc4-b1eb-896a021c3aa3",
   "metadata": {},
   "source": [
    "### Manual inspection"
   ]
  },
  {
   "cell_type": "code",
   "execution_count": 40,
   "id": "5f21f4df-252c-4338-ba4f-7447a33e519b",
   "metadata": {},
   "outputs": [
    {
     "data": {
      "text/plain": [
       "[{'entity_group': 'Diagnostic',\n",
       "  'score': 0.896983,\n",
       "  'word': 'Krebs',\n",
       "  'start': 0,\n",
       "  'end': 5},\n",
       " {'entity_group': 'Diagnostic',\n",
       "  'score': 0.50938445,\n",
       "  'word': 'Vorsorge',\n",
       "  'start': 6,\n",
       "  'end': 14},\n",
       " {'entity_group': 'Diagnostic',\n",
       "  'score': 0.9128919,\n",
       "  'word': 'Früherkennung',\n",
       "  'start': 18,\n",
       "  'end': 31}]"
      ]
     },
     "execution_count": 40,
     "metadata": {},
     "output_type": "execute_result"
    }
   ],
   "source": [
    "pipe_long('Krebs-Vorsorge / -Früherkennung')"
   ]
  },
  {
   "cell_type": "code",
   "execution_count": 41,
   "id": "011f79ed-6fad-42b4-ba11-6eac1f0ba1b7",
   "metadata": {},
   "outputs": [
    {
     "data": {
      "text/plain": [
       "[{'entity_group': 'Diagnosis_or_Pathology',\n",
       "  'score': 0.92164946,\n",
       "  'word': 'HPV31, 33, 45 und 51',\n",
       "  'start': 0,\n",
       "  'end': 20}]"
      ]
     },
     "execution_count": 41,
     "metadata": {},
     "output_type": "execute_result"
    }
   ],
   "source": [
    "pipe_long('HPV31, 33, 45 und 51')"
   ]
  },
  {
   "cell_type": "code",
   "execution_count": 42,
   "id": "de70ed60-2450-4588-8a56-31a6f1f6b953",
   "metadata": {},
   "outputs": [
    {
     "data": {
      "text/plain": [
       "[{'entity_group': 'Nutrient_or_Body_Substance',\n",
       "  'score': 0.92097646,\n",
       "  'word': 'Vitamin C',\n",
       "  'start': 0,\n",
       "  'end': 9},\n",
       " {'entity_group': 'Nutrient_or_Body_Substance',\n",
       "  'score': 0.91745543,\n",
       "  'word': 'E',\n",
       "  'start': 11,\n",
       "  'end': 12},\n",
       " {'entity_group': 'Nutrient_or_Body_Substance',\n",
       "  'score': 0.8318585,\n",
       "  'word': 'A1',\n",
       "  'start': 17,\n",
       "  'end': 19}]"
      ]
     },
     "execution_count": 42,
     "metadata": {},
     "output_type": "execute_result"
    }
   ],
   "source": [
    "pipe_long('Vitamin C, E und A1')"
   ]
  },
  {
   "cell_type": "code",
   "execution_count": 43,
   "id": "4a5d7566-2c77-4a5c-b806-a33d4304e9fa",
   "metadata": {},
   "outputs": [
    {
     "data": {
      "text/plain": [
       "[{'entity_group': 'Therapeutic',\n",
       "  'score': 0.9219,\n",
       "  'word': 'Chemo',\n",
       "  'start': 0,\n",
       "  'end': 5},\n",
       " {'entity_group': 'Therapeutic',\n",
       "  'score': 0.9225101,\n",
       "  'word': 'Strahlentherapie',\n",
       "  'start': 11,\n",
       "  'end': 27}]"
      ]
     },
     "execution_count": 43,
     "metadata": {},
     "output_type": "execute_result"
    }
   ],
   "source": [
    "pipe_long('Chemo- und Strahlentherapie')"
   ]
  },
  {
   "cell_type": "code",
   "execution_count": 44,
   "id": "fad41fdd-3056-4712-bc75-f2c275c0346c",
   "metadata": {},
   "outputs": [
    {
     "data": {
      "text/plain": [
       "[{'entity_group': 'Clinical_Drug',\n",
       "  'score': 0.92278975,\n",
       "  'word': 'BRAF',\n",
       "  'start': 0,\n",
       "  'end': 4},\n",
       " {'entity_group': 'Clinical_Drug',\n",
       "  'score': 0.92444754,\n",
       "  'word': 'MEK - Inhibitor',\n",
       "  'start': 10,\n",
       "  'end': 23}]"
      ]
     },
     "execution_count": 44,
     "metadata": {},
     "output_type": "execute_result"
    }
   ],
   "source": [
    "pipe_long('BRAF- und MEK-Inhibitor')"
   ]
  },
  {
   "cell_type": "code",
   "execution_count": 45,
   "id": "d262d767-440d-4c2a-8250-971a83d2f60f",
   "metadata": {},
   "outputs": [
    {
     "data": {
      "text/plain": [
       "[{'entity_group': 'Therapeutic',\n",
       "  'score': 0.6532479,\n",
       "  'word': 'zielgerichtete',\n",
       "  'start': 0,\n",
       "  'end': 14},\n",
       " {'entity_group': 'Therapeutic',\n",
       "  'score': 0.91695094,\n",
       "  'word': 'Immuntherapien',\n",
       "  'start': 19,\n",
       "  'end': 33}]"
      ]
     },
     "execution_count": 45,
     "metadata": {},
     "output_type": "execute_result"
    }
   ],
   "source": [
    "pipe_long('zielgerichtete und Immuntherapien')"
   ]
  },
  {
   "cell_type": "code",
   "execution_count": 46,
   "id": "6d2ac817-4f39-453c-8c7e-6b8a4d5f2b79",
   "metadata": {},
   "outputs": [
    {
     "data": {
      "text/plain": [
       "[{'entity_group': 'Diagnosis_or_Pathology',\n",
       "  'score': 0.918407,\n",
       "  'word': 'HPV - 16',\n",
       "  'start': 0,\n",
       "  'end': 6},\n",
       " {'entity_group': 'Diagnosis_or_Pathology',\n",
       "  'score': 0.9107298,\n",
       "  'word': '18 - Positivität',\n",
       "  'start': 18,\n",
       "  'end': 32}]"
      ]
     },
     "execution_count": 46,
     "metadata": {},
     "output_type": "execute_result"
    }
   ],
   "source": [
    "pipe_long('HPV-16- und/oder -18-Positivität')"
   ]
  },
  {
   "cell_type": "code",
   "execution_count": 47,
   "id": "ff03c406-a1ea-46b1-8794-796fea38b7c9",
   "metadata": {},
   "outputs": [
    {
     "name": "stderr",
     "output_type": "stream",
     "text": [
      "/home/Florian.Borchert/miniconda3/envs/ggponc/lib/python3.8/site-packages/transformers/pipelines/base.py:908: UserWarning: You seem to be using the pipelines sequentially on GPU. In order to maximize efficiency please use a dataset\n",
      "  warnings.warn(\n"
     ]
    },
    {
     "data": {
      "text/plain": [
       "[{'entity_group': 'Diagnosis_or_Pathology',\n",
       "  'score': 0.92019343,\n",
       "  'word': 'BRCA1',\n",
       "  'start': 0,\n",
       "  'end': 5},\n",
       " {'entity_group': 'Diagnosis_or_Pathology',\n",
       "  'score': 0.8651293,\n",
       "  'word': '2 - Mutation',\n",
       "  'start': 6,\n",
       "  'end': 16}]"
      ]
     },
     "execution_count": 47,
     "metadata": {},
     "output_type": "execute_result"
    }
   ],
   "source": [
    "pipe_long('BRCA1/2-Mutation')"
   ]
  },
  {
   "cell_type": "code",
   "execution_count": 48,
   "id": "d8816cfd-0eba-4e3e-bcb0-6e1e467ebf1f",
   "metadata": {},
   "outputs": [
    {
     "data": {
      "text/plain": [
       "[{'entity_group': 'Therapeutic',\n",
       "  'score': 0.92089695,\n",
       "  'word': 'Zweitlinien',\n",
       "  'start': 0,\n",
       "  'end': 11},\n",
       " {'entity_group': 'Therapeutic',\n",
       "  'score': 0.9220769,\n",
       "  'word': 'Drittliniensystem',\n",
       "  'start': 18,\n",
       "  'end': 35},\n",
       " {'entity_group': 'Therapeutic',\n",
       "  'score': 0.92307276,\n",
       "  'word': 'chemotherapie',\n",
       "  'start': 43,\n",
       "  'end': 56}]"
      ]
     },
     "execution_count": 48,
     "metadata": {},
     "output_type": "execute_result"
    }
   ],
   "source": [
    "pipe_long('Zweitlinien- oder Drittliniensystem- bzw. -chemotherapie')"
   ]
  },
  {
   "cell_type": "code",
   "execution_count": null,
   "id": "50569302-5387-4f8a-8763-08a21936e32a",
   "metadata": {},
   "outputs": [],
   "source": []
  }
 ],
 "metadata": {
  "kernelspec": {
   "display_name": "Python [conda env:ggponc]",
   "language": "python",
   "name": "conda-env-ggponc-py"
  },
  "language_info": {
   "codemirror_mode": {
    "name": "ipython",
    "version": 3
   },
   "file_extension": ".py",
   "mimetype": "text/x-python",
   "name": "python",
   "nbconvert_exporter": "python",
   "pygments_lexer": "ipython3",
   "version": "3.8.0"
  }
 },
 "nbformat": 4,
 "nbformat_minor": 5
}
