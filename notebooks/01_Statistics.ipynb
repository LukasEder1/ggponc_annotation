{
 "cells": [
  {
   "cell_type": "code",
   "execution_count": 1,
   "id": "13d752d3-f3d0-49e3-b75a-e9453b095e0e",
   "metadata": {},
   "outputs": [],
   "source": [
    "import sys\n",
    "sys.path.insert(0, '../util/')\n",
    "sys.path.insert(1, '../experiments/')"
   ]
  },
  {
   "cell_type": "code",
   "execution_count": 2,
   "id": "c39a2c05-c1e3-4329-8b1f-fd147cbf7285",
   "metadata": {},
   "outputs": [],
   "source": [
    "import pandas as pd\n",
    "from pathlib import Path\n",
    "import spacy\n",
    "import re\n",
    "from collections import defaultdict\n",
    "from huggingface_utils import load_custom_dataset\n",
    "from convert_annotations import entity_values\n",
    "from stats_util import sort_fn, sort_order"
   ]
  },
  {
   "cell_type": "markdown",
   "id": "a6b22384-204f-4d70-bf11-b2205b368830",
   "metadata": {},
   "source": [
    "# Corpus Statistics"
   ]
  },
  {
   "cell_type": "code",
   "execution_count": 3,
   "id": "7d5d3a97-66ed-4976-a2fd-521c8ea33aa3",
   "metadata": {},
   "outputs": [],
   "source": [
    "translations = pd.read_csv('../data/guideline_translations.csv').set_index('german_name')"
   ]
  },
  {
   "cell_type": "code",
   "execution_count": 4,
   "id": "ad36134f-057a-48bd-8cb8-4c8c6cf2c1bb",
   "metadata": {},
   "outputs": [],
   "source": [
    "def translator_fn(name):\n",
    "    if name == 'Sum':\n",
    "        return name\n",
    "    return translations.loc[name].english_name"
   ]
  },
  {
   "cell_type": "code",
   "execution_count": 5,
   "id": "1a801902-f33b-4781-8f9f-cce2ef756730",
   "metadata": {},
   "outputs": [
    {
     "data": {
      "text/html": [
       "<div>\n",
       "<style scoped>\n",
       "    .dataframe tbody tr th:only-of-type {\n",
       "        vertical-align: middle;\n",
       "    }\n",
       "\n",
       "    .dataframe tbody tr th {\n",
       "        vertical-align: top;\n",
       "    }\n",
       "\n",
       "    .dataframe thead th {\n",
       "        text-align: right;\n",
       "    }\n",
       "</style>\n",
       "<table border=\"1\" class=\"dataframe\">\n",
       "  <thead>\n",
       "    <tr style=\"text-align: right;\">\n",
       "      <th></th>\n",
       "      <th>name</th>\n",
       "      <th>num_docs</th>\n",
       "      <th>num_recommendations</th>\n",
       "      <th>num_sentences</th>\n",
       "      <th>num_tokens</th>\n",
       "      <th>num_types</th>\n",
       "      <th>num_litref</th>\n",
       "    </tr>\n",
       "  </thead>\n",
       "  <tbody>\n",
       "    <tr>\n",
       "      <th>0</th>\n",
       "      <td>Pancreatic cancer</td>\n",
       "      <td>292</td>\n",
       "      <td>158</td>\n",
       "      <td>854</td>\n",
       "      <td>18901</td>\n",
       "      <td>3602</td>\n",
       "      <td>1154</td>\n",
       "    </tr>\n",
       "    <tr>\n",
       "      <th>1</th>\n",
       "      <td>Penis cancer</td>\n",
       "      <td>167</td>\n",
       "      <td>94</td>\n",
       "      <td>960</td>\n",
       "      <td>20915</td>\n",
       "      <td>4542</td>\n",
       "      <td>561</td>\n",
       "    </tr>\n",
       "    <tr>\n",
       "      <th>2</th>\n",
       "      <td>Psycho-oncology</td>\n",
       "      <td>121</td>\n",
       "      <td>47</td>\n",
       "      <td>778</td>\n",
       "      <td>21909</td>\n",
       "      <td>4113</td>\n",
       "      <td>835</td>\n",
       "    </tr>\n",
       "    <tr>\n",
       "      <th>3</th>\n",
       "      <td>Oral cavity cancer</td>\n",
       "      <td>132</td>\n",
       "      <td>96</td>\n",
       "      <td>763</td>\n",
       "      <td>22256</td>\n",
       "      <td>3947</td>\n",
       "      <td>1172</td>\n",
       "    </tr>\n",
       "    <tr>\n",
       "      <th>4</th>\n",
       "      <td>Malignant ovarian tumors</td>\n",
       "      <td>195</td>\n",
       "      <td>97</td>\n",
       "      <td>1103</td>\n",
       "      <td>27432</td>\n",
       "      <td>5139</td>\n",
       "      <td>1035</td>\n",
       "    </tr>\n",
       "    <tr>\n",
       "      <th>5</th>\n",
       "      <td>Anal cancer</td>\n",
       "      <td>216</td>\n",
       "      <td>93</td>\n",
       "      <td>1248</td>\n",
       "      <td>34429</td>\n",
       "      <td>5246</td>\n",
       "      <td>724</td>\n",
       "    </tr>\n",
       "    <tr>\n",
       "      <th>6</th>\n",
       "      <td>Chronic lymphocytic leukemia</td>\n",
       "      <td>285</td>\n",
       "      <td>138</td>\n",
       "      <td>1417</td>\n",
       "      <td>36811</td>\n",
       "      <td>5680</td>\n",
       "      <td>726</td>\n",
       "    </tr>\n",
       "    <tr>\n",
       "      <th>7</th>\n",
       "      <td>Laryngeal cancer</td>\n",
       "      <td>189</td>\n",
       "      <td>118</td>\n",
       "      <td>1526</td>\n",
       "      <td>37374</td>\n",
       "      <td>6812</td>\n",
       "      <td>681</td>\n",
       "    </tr>\n",
       "    <tr>\n",
       "      <th>8</th>\n",
       "      <td>Follicular lymphoma</td>\n",
       "      <td>296</td>\n",
       "      <td>149</td>\n",
       "      <td>1537</td>\n",
       "      <td>38206</td>\n",
       "      <td>6344</td>\n",
       "      <td>761</td>\n",
       "    </tr>\n",
       "    <tr>\n",
       "      <th>9</th>\n",
       "      <td>Oesophageal cancer</td>\n",
       "      <td>172</td>\n",
       "      <td>91</td>\n",
       "      <td>1530</td>\n",
       "      <td>38574</td>\n",
       "      <td>6615</td>\n",
       "      <td>1026</td>\n",
       "    </tr>\n",
       "    <tr>\n",
       "      <th>10</th>\n",
       "      <td>Hodgkin lymphoma</td>\n",
       "      <td>253</td>\n",
       "      <td>168</td>\n",
       "      <td>1710</td>\n",
       "      <td>38899</td>\n",
       "      <td>5886</td>\n",
       "      <td>976</td>\n",
       "    </tr>\n",
       "    <tr>\n",
       "      <th>11</th>\n",
       "      <td>Hepatocellular and biliary cancer</td>\n",
       "      <td>263</td>\n",
       "      <td>146</td>\n",
       "      <td>1599</td>\n",
       "      <td>41125</td>\n",
       "      <td>6552</td>\n",
       "      <td>990</td>\n",
       "    </tr>\n",
       "    <tr>\n",
       "      <th>12</th>\n",
       "      <td>Testicular tumors</td>\n",
       "      <td>315</td>\n",
       "      <td>163</td>\n",
       "      <td>1923</td>\n",
       "      <td>47024</td>\n",
       "      <td>6746</td>\n",
       "      <td>1412</td>\n",
       "    </tr>\n",
       "    <tr>\n",
       "      <th>13</th>\n",
       "      <td>Prevention of cervix cancer</td>\n",
       "      <td>302</td>\n",
       "      <td>103</td>\n",
       "      <td>2058</td>\n",
       "      <td>52351</td>\n",
       "      <td>7928</td>\n",
       "      <td>1388</td>\n",
       "    </tr>\n",
       "    <tr>\n",
       "      <th>14</th>\n",
       "      <td>Renal cell carcinoma</td>\n",
       "      <td>293</td>\n",
       "      <td>131</td>\n",
       "      <td>2284</td>\n",
       "      <td>52576</td>\n",
       "      <td>8255</td>\n",
       "      <td>1507</td>\n",
       "    </tr>\n",
       "    <tr>\n",
       "      <th>15</th>\n",
       "      <td>Endometrial cancer</td>\n",
       "      <td>317</td>\n",
       "      <td>173</td>\n",
       "      <td>2005</td>\n",
       "      <td>53773</td>\n",
       "      <td>8005</td>\n",
       "      <td>1340</td>\n",
       "    </tr>\n",
       "    <tr>\n",
       "      <th>16</th>\n",
       "      <td>Stomach cancer</td>\n",
       "      <td>246</td>\n",
       "      <td>142</td>\n",
       "      <td>2282</td>\n",
       "      <td>54281</td>\n",
       "      <td>8028</td>\n",
       "      <td>1671</td>\n",
       "    </tr>\n",
       "    <tr>\n",
       "      <th>17</th>\n",
       "      <td>Adult soft tissue sarcomas</td>\n",
       "      <td>407</td>\n",
       "      <td>228</td>\n",
       "      <td>2407</td>\n",
       "      <td>56358</td>\n",
       "      <td>8785</td>\n",
       "      <td>1169</td>\n",
       "    </tr>\n",
       "    <tr>\n",
       "      <th>18</th>\n",
       "      <td>Actinic keratosis</td>\n",
       "      <td>193</td>\n",
       "      <td>74</td>\n",
       "      <td>2599</td>\n",
       "      <td>57375</td>\n",
       "      <td>6853</td>\n",
       "      <td>1278</td>\n",
       "    </tr>\n",
       "    <tr>\n",
       "      <th>19</th>\n",
       "      <td>Malignant melanoma</td>\n",
       "      <td>297</td>\n",
       "      <td>167</td>\n",
       "      <td>2746</td>\n",
       "      <td>65207</td>\n",
       "      <td>9241</td>\n",
       "      <td>1718</td>\n",
       "    </tr>\n",
       "    <tr>\n",
       "      <th>20</th>\n",
       "      <td>Cervical cancer</td>\n",
       "      <td>415</td>\n",
       "      <td>127</td>\n",
       "      <td>2829</td>\n",
       "      <td>68576</td>\n",
       "      <td>9593</td>\n",
       "      <td>1549</td>\n",
       "    </tr>\n",
       "    <tr>\n",
       "      <th>21</th>\n",
       "      <td>Colorectal cancer</td>\n",
       "      <td>546</td>\n",
       "      <td>278</td>\n",
       "      <td>3021</td>\n",
       "      <td>73389</td>\n",
       "      <td>9507</td>\n",
       "      <td>2446</td>\n",
       "    </tr>\n",
       "    <tr>\n",
       "      <th>22</th>\n",
       "      <td>Prostate cancer</td>\n",
       "      <td>351</td>\n",
       "      <td>238</td>\n",
       "      <td>3403</td>\n",
       "      <td>81899</td>\n",
       "      <td>10154</td>\n",
       "      <td>2357</td>\n",
       "    </tr>\n",
       "    <tr>\n",
       "      <th>23</th>\n",
       "      <td>Supportive therapy</td>\n",
       "      <td>819</td>\n",
       "      <td>337</td>\n",
       "      <td>4288</td>\n",
       "      <td>96734</td>\n",
       "      <td>12369</td>\n",
       "      <td>2401</td>\n",
       "    </tr>\n",
       "    <tr>\n",
       "      <th>24</th>\n",
       "      <td>Lung cancer</td>\n",
       "      <td>665</td>\n",
       "      <td>312</td>\n",
       "      <td>4302</td>\n",
       "      <td>100930</td>\n",
       "      <td>12591</td>\n",
       "      <td>2345</td>\n",
       "    </tr>\n",
       "    <tr>\n",
       "      <th>25</th>\n",
       "      <td>Breast cancer</td>\n",
       "      <td>685</td>\n",
       "      <td>362</td>\n",
       "      <td>4232</td>\n",
       "      <td>101254</td>\n",
       "      <td>12592</td>\n",
       "      <td>2831</td>\n",
       "    </tr>\n",
       "    <tr>\n",
       "      <th>26</th>\n",
       "      <td>Bladder cancer</td>\n",
       "      <td>364</td>\n",
       "      <td>230</td>\n",
       "      <td>4280</td>\n",
       "      <td>102192</td>\n",
       "      <td>11965</td>\n",
       "      <td>2631</td>\n",
       "    </tr>\n",
       "    <tr>\n",
       "      <th>27</th>\n",
       "      <td>Prevention of skin cancer</td>\n",
       "      <td>370</td>\n",
       "      <td>141</td>\n",
       "      <td>4298</td>\n",
       "      <td>106488</td>\n",
       "      <td>13817</td>\n",
       "      <td>1578</td>\n",
       "    </tr>\n",
       "    <tr>\n",
       "      <th>28</th>\n",
       "      <td>Palliative medicine</td>\n",
       "      <td>700</td>\n",
       "      <td>442</td>\n",
       "      <td>6029</td>\n",
       "      <td>145657</td>\n",
       "      <td>15806</td>\n",
       "      <td>3117</td>\n",
       "    </tr>\n",
       "    <tr>\n",
       "      <th>29</th>\n",
       "      <td>Complementary medicine</td>\n",
       "      <td>327</td>\n",
       "      <td>149</td>\n",
       "      <td>8079</td>\n",
       "      <td>184205</td>\n",
       "      <td>15622</td>\n",
       "      <td>3286</td>\n",
       "    </tr>\n",
       "    <tr>\n",
       "      <th>30</th>\n",
       "      <td>Sum</td>\n",
       "      <td>10193</td>\n",
       "      <td>5192</td>\n",
       "      <td>78090</td>\n",
       "      <td>1877100</td>\n",
       "      <td>89256</td>\n",
       "      <td>46665</td>\n",
       "    </tr>\n",
       "  </tbody>\n",
       "</table>\n",
       "</div>"
      ],
      "text/plain": [
       "                                 name  num_docs  num_recommendations  \\\n",
       "0                   Pancreatic cancer       292                  158   \n",
       "1                        Penis cancer       167                   94   \n",
       "2                     Psycho-oncology       121                   47   \n",
       "3                  Oral cavity cancer       132                   96   \n",
       "4            Malignant ovarian tumors       195                   97   \n",
       "5                         Anal cancer       216                   93   \n",
       "6        Chronic lymphocytic leukemia       285                  138   \n",
       "7                    Laryngeal cancer       189                  118   \n",
       "8                 Follicular lymphoma       296                  149   \n",
       "9                  Oesophageal cancer       172                   91   \n",
       "10                   Hodgkin lymphoma       253                  168   \n",
       "11  Hepatocellular and biliary cancer       263                  146   \n",
       "12                  Testicular tumors       315                  163   \n",
       "13        Prevention of cervix cancer       302                  103   \n",
       "14               Renal cell carcinoma       293                  131   \n",
       "15                 Endometrial cancer       317                  173   \n",
       "16                     Stomach cancer       246                  142   \n",
       "17         Adult soft tissue sarcomas       407                  228   \n",
       "18                  Actinic keratosis       193                   74   \n",
       "19                 Malignant melanoma       297                  167   \n",
       "20                    Cervical cancer       415                  127   \n",
       "21                  Colorectal cancer       546                  278   \n",
       "22                    Prostate cancer       351                  238   \n",
       "23                 Supportive therapy       819                  337   \n",
       "24                        Lung cancer       665                  312   \n",
       "25                      Breast cancer       685                  362   \n",
       "26                     Bladder cancer       364                  230   \n",
       "27          Prevention of skin cancer       370                  141   \n",
       "28                Palliative medicine       700                  442   \n",
       "29             Complementary medicine       327                  149   \n",
       "30                                Sum     10193                 5192   \n",
       "\n",
       "    num_sentences  num_tokens  num_types  num_litref  \n",
       "0             854       18901       3602        1154  \n",
       "1             960       20915       4542         561  \n",
       "2             778       21909       4113         835  \n",
       "3             763       22256       3947        1172  \n",
       "4            1103       27432       5139        1035  \n",
       "5            1248       34429       5246         724  \n",
       "6            1417       36811       5680         726  \n",
       "7            1526       37374       6812         681  \n",
       "8            1537       38206       6344         761  \n",
       "9            1530       38574       6615        1026  \n",
       "10           1710       38899       5886         976  \n",
       "11           1599       41125       6552         990  \n",
       "12           1923       47024       6746        1412  \n",
       "13           2058       52351       7928        1388  \n",
       "14           2284       52576       8255        1507  \n",
       "15           2005       53773       8005        1340  \n",
       "16           2282       54281       8028        1671  \n",
       "17           2407       56358       8785        1169  \n",
       "18           2599       57375       6853        1278  \n",
       "19           2746       65207       9241        1718  \n",
       "20           2829       68576       9593        1549  \n",
       "21           3021       73389       9507        2446  \n",
       "22           3403       81899      10154        2357  \n",
       "23           4288       96734      12369        2401  \n",
       "24           4302      100930      12591        2345  \n",
       "25           4232      101254      12592        2831  \n",
       "26           4280      102192      11965        2631  \n",
       "27           4298      106488      13817        1578  \n",
       "28           6029      145657      15806        3117  \n",
       "29           8079      184205      15622        3286  \n",
       "30          78090     1877100      89256       46665  "
      ]
     },
     "execution_count": 5,
     "metadata": {},
     "output_type": "execute_result"
    }
   ],
   "source": [
    "corpus_stats = pd.read_csv('../data/cpg-stats.csv', sep=';')\n",
    "corpus_stats.name = corpus_stats.name.map(translator_fn)\n",
    "#corpus_stats.set_index('name', inplace=True)\n",
    "corpus_stats.sort_values('num_tokens', inplace=True)\n",
    "corpus_stats.reset_index(inplace=True)\n",
    "corpus_stats[['name', 'num_docs', 'num_recommendations', 'num_sentences', 'num_tokens', 'num_types', 'num_litref' ]]"
   ]
  },
  {
   "cell_type": "markdown",
   "id": "d24f7fb7-b08e-4d51-b62c-62571de89175",
   "metadata": {},
   "source": [
    "# Annotation Statistics"
   ]
  },
  {
   "cell_type": "code",
   "execution_count": 6,
   "id": "020a95a6-2368-41e4-a136-9f51712b75d2",
   "metadata": {},
   "outputs": [],
   "source": [
    "ggponc_basepath = Path('..') / 'data' / 'annotations' / 'huggingface'"
   ]
  },
  {
   "cell_type": "code",
   "execution_count": 9,
   "id": "ed258b94-6ad4-49b6-b07e-ca663a4b6a67",
   "metadata": {},
   "outputs": [
    {
     "name": "stderr",
     "output_type": "stream",
     "text": [
      "WARNING:datasets.builder:Using custom data configuration default-f88b539936a9b6f0\n"
     ]
    },
    {
     "name": "stdout",
     "output_type": "stream",
     "text": [
      "Downloading and preparing dataset json/default to /dhc/home/florian.borchert/.cache/huggingface/datasets/json/default-f88b539936a9b6f0/0.0.0/d75ead8d5cfcbe67495df0f89bd262f0023257fbbbd94a730313295f3d756d50...\n"
     ]
    },
    {
     "data": {
      "application/vnd.jupyter.widget-view+json": {
       "model_id": "617bd1540c7946d69250ce8e787028bf",
       "version_major": 2,
       "version_minor": 0
      },
      "text/plain": [
       "  0%|          | 0/3 [00:00<?, ?it/s]"
      ]
     },
     "metadata": {},
     "output_type": "display_data"
    },
    {
     "data": {
      "application/vnd.jupyter.widget-view+json": {
       "model_id": "b8646126b74b42fe84f3c85705ba58be",
       "version_major": 2,
       "version_minor": 0
      },
      "text/plain": [
       "  0%|          | 0/3 [00:00<?, ?it/s]"
      ]
     },
     "metadata": {},
     "output_type": "display_data"
    },
    {
     "data": {
      "application/vnd.jupyter.widget-view+json": {
       "model_id": "",
       "version_major": 2,
       "version_minor": 0
      },
      "text/plain": [
       "0 tables [00:00, ? tables/s]"
      ]
     },
     "metadata": {},
     "output_type": "display_data"
    },
    {
     "data": {
      "application/vnd.jupyter.widget-view+json": {
       "model_id": "",
       "version_major": 2,
       "version_minor": 0
      },
      "text/plain": [
       "0 tables [00:00, ? tables/s]"
      ]
     },
     "metadata": {},
     "output_type": "display_data"
    },
    {
     "data": {
      "application/vnd.jupyter.widget-view+json": {
       "model_id": "",
       "version_major": 2,
       "version_minor": 0
      },
      "text/plain": [
       "0 tables [00:00, ? tables/s]"
      ]
     },
     "metadata": {},
     "output_type": "display_data"
    },
    {
     "name": "stdout",
     "output_type": "stream",
     "text": [
      "Dataset json downloaded and prepared to /dhc/home/florian.borchert/.cache/huggingface/datasets/json/default-f88b539936a9b6f0/0.0.0/d75ead8d5cfcbe67495df0f89bd262f0023257fbbbd94a730313295f3d756d50. Subsequent calls will reuse this data.\n"
     ]
    },
    {
     "data": {
      "application/vnd.jupyter.widget-view+json": {
       "model_id": "7585ca594520414989cf6954690c0d0f",
       "version_major": 2,
       "version_minor": 0
      },
      "text/plain": [
       "  0%|          | 0/3 [00:00<?, ?it/s]"
      ]
     },
     "metadata": {},
     "output_type": "display_data"
    },
    {
     "data": {
      "application/vnd.jupyter.widget-view+json": {
       "model_id": "f12d972eb0cf4240a5676eb2755c10aa",
       "version_major": 2,
       "version_minor": 0
      },
      "text/plain": [
       "  0%|          | 0/23528 [00:00<?, ?ex/s]"
      ]
     },
     "metadata": {},
     "output_type": "display_data"
    },
    {
     "data": {
      "application/vnd.jupyter.widget-view+json": {
       "model_id": "d0c38c240e14491293d9819000d0fd32",
       "version_major": 2,
       "version_minor": 0
      },
      "text/plain": [
       "  0%|          | 0/4655 [00:00<?, ?ex/s]"
      ]
     },
     "metadata": {},
     "output_type": "display_data"
    },
    {
     "data": {
      "application/vnd.jupyter.widget-view+json": {
       "model_id": "021d795efb214738b9474e74ca487063",
       "version_major": 2,
       "version_minor": 0
      },
      "text/plain": [
       "  0%|          | 0/4826 [00:00<?, ?ex/s]"
      ]
     },
     "metadata": {},
     "output_type": "display_data"
    },
    {
     "data": {
      "application/vnd.jupyter.widget-view+json": {
       "model_id": "bf320a55e0504a69b03d667481dc34e3",
       "version_major": 2,
       "version_minor": 0
      },
      "text/plain": [
       "  0%|          | 0/3 [00:00<?, ?ba/s]"
      ]
     },
     "metadata": {},
     "output_type": "display_data"
    },
    {
     "data": {
      "application/vnd.jupyter.widget-view+json": {
       "model_id": "6eb59055866e4ae3aef430e867942132",
       "version_major": 2,
       "version_minor": 0
      },
      "text/plain": [
       "  0%|          | 0/1 [00:00<?, ?ba/s]"
      ]
     },
     "metadata": {},
     "output_type": "display_data"
    },
    {
     "data": {
      "application/vnd.jupyter.widget-view+json": {
       "model_id": "e27678d914754eafb9194006cf01a973",
       "version_major": 2,
       "version_minor": 0
      },
      "text/plain": [
       "  0%|          | 0/1 [00:00<?, ?ba/s]"
      ]
     },
     "metadata": {},
     "output_type": "display_data"
    },
    {
     "name": "stderr",
     "output_type": "stream",
     "text": [
      "WARNING:datasets.builder:Using custom data configuration default-421447b3dd2b2c0c\n"
     ]
    },
    {
     "name": "stdout",
     "output_type": "stream",
     "text": [
      "Downloading and preparing dataset json/default to /dhc/home/florian.borchert/.cache/huggingface/datasets/json/default-421447b3dd2b2c0c/0.0.0/d75ead8d5cfcbe67495df0f89bd262f0023257fbbbd94a730313295f3d756d50...\n"
     ]
    },
    {
     "data": {
      "application/vnd.jupyter.widget-view+json": {
       "model_id": "21d8a52ad51143b09a73aba1527115e7",
       "version_major": 2,
       "version_minor": 0
      },
      "text/plain": [
       "  0%|          | 0/3 [00:00<?, ?it/s]"
      ]
     },
     "metadata": {},
     "output_type": "display_data"
    },
    {
     "data": {
      "application/vnd.jupyter.widget-view+json": {
       "model_id": "b0391fa5ad0c417a89ba0fee454b89cc",
       "version_major": 2,
       "version_minor": 0
      },
      "text/plain": [
       "  0%|          | 0/3 [00:00<?, ?it/s]"
      ]
     },
     "metadata": {},
     "output_type": "display_data"
    },
    {
     "data": {
      "application/vnd.jupyter.widget-view+json": {
       "model_id": "",
       "version_major": 2,
       "version_minor": 0
      },
      "text/plain": [
       "0 tables [00:00, ? tables/s]"
      ]
     },
     "metadata": {},
     "output_type": "display_data"
    },
    {
     "data": {
      "application/vnd.jupyter.widget-view+json": {
       "model_id": "",
       "version_major": 2,
       "version_minor": 0
      },
      "text/plain": [
       "0 tables [00:00, ? tables/s]"
      ]
     },
     "metadata": {},
     "output_type": "display_data"
    },
    {
     "data": {
      "application/vnd.jupyter.widget-view+json": {
       "model_id": "",
       "version_major": 2,
       "version_minor": 0
      },
      "text/plain": [
       "0 tables [00:00, ? tables/s]"
      ]
     },
     "metadata": {},
     "output_type": "display_data"
    },
    {
     "name": "stdout",
     "output_type": "stream",
     "text": [
      "Dataset json downloaded and prepared to /dhc/home/florian.borchert/.cache/huggingface/datasets/json/default-421447b3dd2b2c0c/0.0.0/d75ead8d5cfcbe67495df0f89bd262f0023257fbbbd94a730313295f3d756d50. Subsequent calls will reuse this data.\n"
     ]
    },
    {
     "data": {
      "application/vnd.jupyter.widget-view+json": {
       "model_id": "2f45a3e1da414485894a9d80f3065fb3",
       "version_major": 2,
       "version_minor": 0
      },
      "text/plain": [
       "  0%|          | 0/3 [00:00<?, ?it/s]"
      ]
     },
     "metadata": {},
     "output_type": "display_data"
    },
    {
     "data": {
      "application/vnd.jupyter.widget-view+json": {
       "model_id": "4e28045345994fa89bc3b2cca8ccff54",
       "version_major": 2,
       "version_minor": 0
      },
      "text/plain": [
       "  0%|          | 0/23528 [00:00<?, ?ex/s]"
      ]
     },
     "metadata": {},
     "output_type": "display_data"
    },
    {
     "data": {
      "application/vnd.jupyter.widget-view+json": {
       "model_id": "76770d7d755e4ec087720f4af48a877c",
       "version_major": 2,
       "version_minor": 0
      },
      "text/plain": [
       "  0%|          | 0/4655 [00:00<?, ?ex/s]"
      ]
     },
     "metadata": {},
     "output_type": "display_data"
    },
    {
     "data": {
      "application/vnd.jupyter.widget-view+json": {
       "model_id": "c695a7c9fb2a429ab45802d1256e6745",
       "version_major": 2,
       "version_minor": 0
      },
      "text/plain": [
       "  0%|          | 0/4826 [00:00<?, ?ex/s]"
      ]
     },
     "metadata": {},
     "output_type": "display_data"
    },
    {
     "data": {
      "application/vnd.jupyter.widget-view+json": {
       "model_id": "30200451b93c43f6928dd461a49e1d0a",
       "version_major": 2,
       "version_minor": 0
      },
      "text/plain": [
       "  0%|          | 0/3 [00:00<?, ?ba/s]"
      ]
     },
     "metadata": {},
     "output_type": "display_data"
    },
    {
     "data": {
      "application/vnd.jupyter.widget-view+json": {
       "model_id": "8a07e02e63d04c14a78402ae5875bd35",
       "version_major": 2,
       "version_minor": 0
      },
      "text/plain": [
       "  0%|          | 0/1 [00:00<?, ?ba/s]"
      ]
     },
     "metadata": {},
     "output_type": "display_data"
    },
    {
     "data": {
      "application/vnd.jupyter.widget-view+json": {
       "model_id": "4a6f13fa2afa4e6d89bd6881671a5834",
       "version_major": 2,
       "version_minor": 0
      },
      "text/plain": [
       "  0%|          | 0/1 [00:00<?, ?ba/s]"
      ]
     },
     "metadata": {},
     "output_type": "display_data"
    },
    {
     "name": "stderr",
     "output_type": "stream",
     "text": [
      "WARNING:datasets.builder:Using custom data configuration default-aa369a42bd5d02d6\n"
     ]
    },
    {
     "name": "stdout",
     "output_type": "stream",
     "text": [
      "Downloading and preparing dataset json/default to /dhc/home/florian.borchert/.cache/huggingface/datasets/json/default-aa369a42bd5d02d6/0.0.0/d75ead8d5cfcbe67495df0f89bd262f0023257fbbbd94a730313295f3d756d50...\n"
     ]
    },
    {
     "data": {
      "application/vnd.jupyter.widget-view+json": {
       "model_id": "462ac4b804124ce29d6a29048c12398a",
       "version_major": 2,
       "version_minor": 0
      },
      "text/plain": [
       "  0%|          | 0/3 [00:00<?, ?it/s]"
      ]
     },
     "metadata": {},
     "output_type": "display_data"
    },
    {
     "data": {
      "application/vnd.jupyter.widget-view+json": {
       "model_id": "93f4112f846b4a09b26bcd7476f88b54",
       "version_major": 2,
       "version_minor": 0
      },
      "text/plain": [
       "  0%|          | 0/3 [00:00<?, ?it/s]"
      ]
     },
     "metadata": {},
     "output_type": "display_data"
    },
    {
     "data": {
      "application/vnd.jupyter.widget-view+json": {
       "model_id": "",
       "version_major": 2,
       "version_minor": 0
      },
      "text/plain": [
       "0 tables [00:00, ? tables/s]"
      ]
     },
     "metadata": {},
     "output_type": "display_data"
    },
    {
     "data": {
      "application/vnd.jupyter.widget-view+json": {
       "model_id": "",
       "version_major": 2,
       "version_minor": 0
      },
      "text/plain": [
       "0 tables [00:00, ? tables/s]"
      ]
     },
     "metadata": {},
     "output_type": "display_data"
    },
    {
     "data": {
      "application/vnd.jupyter.widget-view+json": {
       "model_id": "",
       "version_major": 2,
       "version_minor": 0
      },
      "text/plain": [
       "0 tables [00:00, ? tables/s]"
      ]
     },
     "metadata": {},
     "output_type": "display_data"
    },
    {
     "name": "stdout",
     "output_type": "stream",
     "text": [
      "Dataset json downloaded and prepared to /dhc/home/florian.borchert/.cache/huggingface/datasets/json/default-aa369a42bd5d02d6/0.0.0/d75ead8d5cfcbe67495df0f89bd262f0023257fbbbd94a730313295f3d756d50. Subsequent calls will reuse this data.\n"
     ]
    },
    {
     "data": {
      "application/vnd.jupyter.widget-view+json": {
       "model_id": "65baa4cfbe3543df847830e5eac4df69",
       "version_major": 2,
       "version_minor": 0
      },
      "text/plain": [
       "  0%|          | 0/3 [00:00<?, ?it/s]"
      ]
     },
     "metadata": {},
     "output_type": "display_data"
    },
    {
     "data": {
      "application/vnd.jupyter.widget-view+json": {
       "model_id": "f0227f6cc4b04e7498d8a89e38ec738e",
       "version_major": 2,
       "version_minor": 0
      },
      "text/plain": [
       "  0%|          | 0/23528 [00:00<?, ?ex/s]"
      ]
     },
     "metadata": {},
     "output_type": "display_data"
    },
    {
     "data": {
      "application/vnd.jupyter.widget-view+json": {
       "model_id": "02fed4b858c147ba89fef1ef8a9082dd",
       "version_major": 2,
       "version_minor": 0
      },
      "text/plain": [
       "  0%|          | 0/4655 [00:00<?, ?ex/s]"
      ]
     },
     "metadata": {},
     "output_type": "display_data"
    },
    {
     "data": {
      "application/vnd.jupyter.widget-view+json": {
       "model_id": "38d601d88c184f408176fa63abce585a",
       "version_major": 2,
       "version_minor": 0
      },
      "text/plain": [
       "  0%|          | 0/4826 [00:00<?, ?ex/s]"
      ]
     },
     "metadata": {},
     "output_type": "display_data"
    },
    {
     "data": {
      "application/vnd.jupyter.widget-view+json": {
       "model_id": "5c822e2904f8457d880e53131641f325",
       "version_major": 2,
       "version_minor": 0
      },
      "text/plain": [
       "  0%|          | 0/3 [00:00<?, ?ba/s]"
      ]
     },
     "metadata": {},
     "output_type": "display_data"
    },
    {
     "data": {
      "application/vnd.jupyter.widget-view+json": {
       "model_id": "ee17475df9b34d518ac2ca3053ade57f",
       "version_major": 2,
       "version_minor": 0
      },
      "text/plain": [
       "  0%|          | 0/1 [00:00<?, ?ba/s]"
      ]
     },
     "metadata": {},
     "output_type": "display_data"
    },
    {
     "data": {
      "application/vnd.jupyter.widget-view+json": {
       "model_id": "03d966aaf04543e08ed793ecf880ff16",
       "version_major": 2,
       "version_minor": 0
      },
      "text/plain": [
       "  0%|          | 0/1 [00:00<?, ?ba/s]"
      ]
     },
     "metadata": {},
     "output_type": "display_data"
    },
    {
     "name": "stderr",
     "output_type": "stream",
     "text": [
      "WARNING:datasets.builder:Using custom data configuration default-e752de27ac5fb655\n"
     ]
    },
    {
     "name": "stdout",
     "output_type": "stream",
     "text": [
      "Downloading and preparing dataset json/default to /dhc/home/florian.borchert/.cache/huggingface/datasets/json/default-e752de27ac5fb655/0.0.0/d75ead8d5cfcbe67495df0f89bd262f0023257fbbbd94a730313295f3d756d50...\n"
     ]
    },
    {
     "data": {
      "application/vnd.jupyter.widget-view+json": {
       "model_id": "78393f6f3f984ed68dbde3781238c99b",
       "version_major": 2,
       "version_minor": 0
      },
      "text/plain": [
       "  0%|          | 0/3 [00:00<?, ?it/s]"
      ]
     },
     "metadata": {},
     "output_type": "display_data"
    },
    {
     "data": {
      "application/vnd.jupyter.widget-view+json": {
       "model_id": "f3aa36ea6a2446b8a0bc3e0e5f56a55f",
       "version_major": 2,
       "version_minor": 0
      },
      "text/plain": [
       "  0%|          | 0/3 [00:00<?, ?it/s]"
      ]
     },
     "metadata": {},
     "output_type": "display_data"
    },
    {
     "data": {
      "application/vnd.jupyter.widget-view+json": {
       "model_id": "",
       "version_major": 2,
       "version_minor": 0
      },
      "text/plain": [
       "0 tables [00:00, ? tables/s]"
      ]
     },
     "metadata": {},
     "output_type": "display_data"
    },
    {
     "data": {
      "application/vnd.jupyter.widget-view+json": {
       "model_id": "",
       "version_major": 2,
       "version_minor": 0
      },
      "text/plain": [
       "0 tables [00:00, ? tables/s]"
      ]
     },
     "metadata": {},
     "output_type": "display_data"
    },
    {
     "data": {
      "application/vnd.jupyter.widget-view+json": {
       "model_id": "",
       "version_major": 2,
       "version_minor": 0
      },
      "text/plain": [
       "0 tables [00:00, ? tables/s]"
      ]
     },
     "metadata": {},
     "output_type": "display_data"
    },
    {
     "name": "stdout",
     "output_type": "stream",
     "text": [
      "Dataset json downloaded and prepared to /dhc/home/florian.borchert/.cache/huggingface/datasets/json/default-e752de27ac5fb655/0.0.0/d75ead8d5cfcbe67495df0f89bd262f0023257fbbbd94a730313295f3d756d50. Subsequent calls will reuse this data.\n"
     ]
    },
    {
     "data": {
      "application/vnd.jupyter.widget-view+json": {
       "model_id": "b87e8bd7ef87465a8a20242d710065d3",
       "version_major": 2,
       "version_minor": 0
      },
      "text/plain": [
       "  0%|          | 0/3 [00:00<?, ?it/s]"
      ]
     },
     "metadata": {},
     "output_type": "display_data"
    },
    {
     "data": {
      "application/vnd.jupyter.widget-view+json": {
       "model_id": "9f1f88b7887a46638996ab28abaf82d1",
       "version_major": 2,
       "version_minor": 0
      },
      "text/plain": [
       "  0%|          | 0/23528 [00:00<?, ?ex/s]"
      ]
     },
     "metadata": {},
     "output_type": "display_data"
    },
    {
     "data": {
      "application/vnd.jupyter.widget-view+json": {
       "model_id": "f4754b9313664ae5aac859c7c4a04ba6",
       "version_major": 2,
       "version_minor": 0
      },
      "text/plain": [
       "  0%|          | 0/4655 [00:00<?, ?ex/s]"
      ]
     },
     "metadata": {},
     "output_type": "display_data"
    },
    {
     "data": {
      "application/vnd.jupyter.widget-view+json": {
       "model_id": "dde60fabb12e4c01a923a8fbd77d73b7",
       "version_major": 2,
       "version_minor": 0
      },
      "text/plain": [
       "  0%|          | 0/4826 [00:00<?, ?ex/s]"
      ]
     },
     "metadata": {},
     "output_type": "display_data"
    },
    {
     "data": {
      "application/vnd.jupyter.widget-view+json": {
       "model_id": "f9c59171f5ef49b491003ef241ef2560",
       "version_major": 2,
       "version_minor": 0
      },
      "text/plain": [
       "  0%|          | 0/3 [00:00<?, ?ba/s]"
      ]
     },
     "metadata": {},
     "output_type": "display_data"
    },
    {
     "data": {
      "application/vnd.jupyter.widget-view+json": {
       "model_id": "467e04f7f5d0406d9edc35c719185a5e",
       "version_major": 2,
       "version_minor": 0
      },
      "text/plain": [
       "  0%|          | 0/1 [00:00<?, ?ba/s]"
      ]
     },
     "metadata": {},
     "output_type": "display_data"
    },
    {
     "data": {
      "application/vnd.jupyter.widget-view+json": {
       "model_id": "1a766c43ea7b4f23b601aa0a278cfa67",
       "version_major": 2,
       "version_minor": 0
      },
      "text/plain": [
       "  0%|          | 0/1 [00:00<?, ?ba/s]"
      ]
     },
     "metadata": {},
     "output_type": "display_data"
    }
   ],
   "source": [
    "result_list = []\n",
    "\n",
    "for level in ['value', 'detail']:\n",
    "    granularity = 'fine' if level == 'detail' else 'coarse'\n",
    "    tagset = [t.replace(' ', '_') for t in entity_values[level]]\n",
    "    for spans in ['short', 'long']:\n",
    "        folder = ggponc_basepath / granularity / spans\n",
    "        train_file = folder / f'train_{granularity}_{spans}.json'\n",
    "        dev_file = folder / f'dev_{granularity}_{spans}.json'\n",
    "        test_file = folder / f'test_{granularity}_{spans}.json'\n",
    "\n",
    "        dataset, tags = load_custom_dataset(\n",
    "            train=train_file, dev=dev_file, test=test_file, tag_strings=tagset)\n",
    "\n",
    "        for split in ['train', 'dev', 'test']:\n",
    "            counts = defaultdict(lambda: 0)\n",
    "            token_counts = defaultdict(lambda: 0)\n",
    "            \n",
    "            n_sentences = len(set(list(zip(dataset[split]['fname'], dataset[split]['sentence_id']))))\n",
    "            n_files = len(set(dataset[split]['fname']))\n",
    "            \n",
    "            cur_token_length = 0\n",
    "            \n",
    "            for tags in dataset[split][\"tags\"]:\n",
    "                for tag in tags:\n",
    "                    if tag.startswith('B-'):\n",
    "                        tag_name = tag.replace('B-', '').replace('_', ' ')\n",
    "                        counts[tag_name] += 1\n",
    "                        counts['Total'] += 1\n",
    "                        if cur_token_length > 0:\n",
    "                            token_counts[tag_name] += cur_token_length\n",
    "                            token_counts['Total'] += cur_token_length\n",
    "                        cur_token_length = 1\n",
    "                    elif tag.startswith('I'):\n",
    "                        assert cur_token_length > 0\n",
    "                        cur_token_length += 1\n",
    "                    elif tag.startswith('O'):\n",
    "                        counts['O'] += 1\n",
    "                        if cur_token_length > 0:\n",
    "                            token_counts[tag_name] += cur_token_length\n",
    "                            token_counts['Total'] += cur_token_length\n",
    "                            cur_token_length = 0\n",
    "            for k, v in counts.items():\n",
    "                result_list.append(\n",
    "                    {'tag' : k, \n",
    "                     'count' : v,\n",
    "                     'token_count' : token_counts[k],\n",
    "                     'split' : split.capitalize(), \n",
    "                     'level' : granularity.capitalize(), \n",
    "                     'spans' : spans.capitalize(),\n",
    "                     'n_sentences' : n_sentences,\n",
    "                     'n_files' : n_files})"
   ]
  },
  {
   "cell_type": "code",
   "execution_count": 10,
   "id": "66fc3222-2500-4afc-86b8-a3f940e22bf7",
   "metadata": {},
   "outputs": [],
   "source": [
    "results = pd.DataFrame(result_list).set_index(['tag', 'level', 'spans', 'split'])\n",
    "results = results.unstack(['spans', 'split']).sort_index(axis=1, key=sort_fn).sort_index(axis=0, key=sort_fn)"
   ]
  },
  {
   "cell_type": "code",
   "execution_count": 11,
   "id": "8da6506f-cbd8-4e7f-9de5-a674075767d8",
   "metadata": {},
   "outputs": [],
   "source": [
    "token_lengths = results['token_count'].groupby('spans', axis=1).sum() / results['count'].groupby('spans', axis=1).sum()\n",
    "token_lengths = pd.concat({'Tokens / Mention': pd.concat({'count': token_lengths}, axis=1)}, names=['split'], axis=1)\n",
    "token_lengths.columns = token_lengths.columns.reorder_levels(results.columns.names)"
   ]
  },
  {
   "cell_type": "code",
   "execution_count": 12,
   "id": "9b982d10-ad6a-4cd4-82e1-fc1715932050",
   "metadata": {},
   "outputs": [],
   "source": [
    "results = pd.concat([token_lengths, results], axis=1).sort_index(axis=1, key=sort_fn).sort_index(axis=0, key=sort_fn)"
   ]
  },
  {
   "cell_type": "code",
   "execution_count": 13,
   "id": "8156d55a-47bf-46c7-bf98-555d08f15525",
   "metadata": {},
   "outputs": [],
   "source": [
    "entity_counts = results['count'].droplevel('level')"
   ]
  },
  {
   "cell_type": "code",
   "execution_count": 14,
   "id": "8031ab3e-a9be-407a-93d1-b0e89f9b8544",
   "metadata": {},
   "outputs": [],
   "source": [
    "pd.options.display.float_format = '{:,.1f}'.format"
   ]
  },
  {
   "cell_type": "code",
   "execution_count": 31,
   "id": "dd479d5d-091a-4990-ab64-490ca5ce5bcb",
   "metadata": {},
   "outputs": [
    {
     "data": {
      "text/html": [
       "<div>\n",
       "<style scoped>\n",
       "    .dataframe tbody tr th:only-of-type {\n",
       "        vertical-align: middle;\n",
       "    }\n",
       "\n",
       "    .dataframe tbody tr th {\n",
       "        vertical-align: top;\n",
       "    }\n",
       "\n",
       "    .dataframe thead th {\n",
       "        text-align: right;\n",
       "    }\n",
       "</style>\n",
       "<table border=\"1\" class=\"dataframe\">\n",
       "  <thead>\n",
       "    <tr style=\"text-align: right;\">\n",
       "      <th>split</th>\n",
       "      <th>Tokens / Mention</th>\n",
       "      <th>Train</th>\n",
       "      <th>Dev</th>\n",
       "      <th>Test</th>\n",
       "    </tr>\n",
       "    <tr>\n",
       "      <th>tag</th>\n",
       "      <th></th>\n",
       "      <th></th>\n",
       "      <th></th>\n",
       "      <th></th>\n",
       "    </tr>\n",
       "  </thead>\n",
       "  <tbody>\n",
       "    <tr>\n",
       "      <th>Finding</th>\n",
       "      <td>1.10</td>\n",
       "      <td>38923</td>\n",
       "      <td>7731</td>\n",
       "      <td>8196</td>\n",
       "    </tr>\n",
       "    <tr>\n",
       "      <th>Diagnosis or Pathology</th>\n",
       "      <td>1.10</td>\n",
       "      <td>23613</td>\n",
       "      <td>4604</td>\n",
       "      <td>5119</td>\n",
       "    </tr>\n",
       "    <tr>\n",
       "      <th>Other Finding</th>\n",
       "      <td>1.10</td>\n",
       "      <td>15310</td>\n",
       "      <td>3127</td>\n",
       "      <td>3077</td>\n",
       "    </tr>\n",
       "    <tr>\n",
       "      <th>Substance</th>\n",
       "      <td>1.20</td>\n",
       "      <td>5260</td>\n",
       "      <td>1254</td>\n",
       "      <td>899</td>\n",
       "    </tr>\n",
       "    <tr>\n",
       "      <th>Clinical Drug</th>\n",
       "      <td>1.17</td>\n",
       "      <td>4123</td>\n",
       "      <td>964</td>\n",
       "      <td>716</td>\n",
       "    </tr>\n",
       "    <tr>\n",
       "      <th>Nutrient or Body Substance</th>\n",
       "      <td>1.29</td>\n",
       "      <td>1002</td>\n",
       "      <td>233</td>\n",
       "      <td>149</td>\n",
       "    </tr>\n",
       "    <tr>\n",
       "      <th>External Substance</th>\n",
       "      <td>1.47</td>\n",
       "      <td>135</td>\n",
       "      <td>57</td>\n",
       "      <td>34</td>\n",
       "    </tr>\n",
       "    <tr>\n",
       "      <th>Procedure</th>\n",
       "      <td>1.06</td>\n",
       "      <td>27377</td>\n",
       "      <td>5732</td>\n",
       "      <td>5631</td>\n",
       "    </tr>\n",
       "    <tr>\n",
       "      <th>Therapeutic</th>\n",
       "      <td>1.03</td>\n",
       "      <td>17498</td>\n",
       "      <td>3273</td>\n",
       "      <td>3607</td>\n",
       "    </tr>\n",
       "    <tr>\n",
       "      <th>Diagnostic</th>\n",
       "      <td>1.12</td>\n",
       "      <td>9879</td>\n",
       "      <td>2459</td>\n",
       "      <td>2024</td>\n",
       "    </tr>\n",
       "    <tr>\n",
       "      <th>Total</th>\n",
       "      <td>1.09</td>\n",
       "      <td>71560</td>\n",
       "      <td>14717</td>\n",
       "      <td>14726</td>\n",
       "    </tr>\n",
       "    <tr>\n",
       "      <th>Total</th>\n",
       "      <td>1.09</td>\n",
       "      <td>71560</td>\n",
       "      <td>14717</td>\n",
       "      <td>14726</td>\n",
       "    </tr>\n",
       "    <tr>\n",
       "      <th>O</th>\n",
       "      <td>0.00</td>\n",
       "      <td>452064</td>\n",
       "      <td>94516</td>\n",
       "      <td>93213</td>\n",
       "    </tr>\n",
       "    <tr>\n",
       "      <th>O</th>\n",
       "      <td>0.00</td>\n",
       "      <td>452064</td>\n",
       "      <td>94516</td>\n",
       "      <td>93213</td>\n",
       "    </tr>\n",
       "  </tbody>\n",
       "</table>\n",
       "</div>"
      ],
      "text/plain": [
       "split                       Tokens / Mention   Train    Dev   Test\n",
       "tag                                                               \n",
       "Finding                                 1.10   38923   7731   8196\n",
       "Diagnosis or Pathology                  1.10   23613   4604   5119\n",
       "Other Finding                           1.10   15310   3127   3077\n",
       "Substance                               1.20    5260   1254    899\n",
       "Clinical Drug                           1.17    4123    964    716\n",
       "Nutrient or Body Substance              1.29    1002    233    149\n",
       "External Substance                      1.47     135     57     34\n",
       "Procedure                               1.06   27377   5732   5631\n",
       "Therapeutic                             1.03   17498   3273   3607\n",
       "Diagnostic                              1.12    9879   2459   2024\n",
       "Total                                   1.09   71560  14717  14726\n",
       "Total                                   1.09   71560  14717  14726\n",
       "O                                       0.00  452064  94516  93213\n",
       "O                                       0.00  452064  94516  93213"
      ]
     },
     "execution_count": 31,
     "metadata": {},
     "output_type": "execute_result"
    }
   ],
   "source": [
    "entity_counts['Short']"
   ]
  },
  {
   "cell_type": "markdown",
   "id": "f2769d74-7939-47ac-8d76-5b09530eda74",
   "metadata": {},
   "source": [
    "Total number of annotations (short)"
   ]
  },
  {
   "cell_type": "code",
   "execution_count": 40,
   "id": "d2fc0802-727f-43b3-a1ab-ee654ec19755",
   "metadata": {},
   "outputs": [
    {
     "data": {
      "text/plain": [
       "101003"
      ]
     },
     "execution_count": 40,
     "metadata": {},
     "output_type": "execute_result"
    }
   ],
   "source": [
    "entity_counts['Short'].loc['Total', ['Train', 'Dev', 'Test']].iloc[0].sum()"
   ]
  },
  {
   "cell_type": "code",
   "execution_count": null,
   "id": "a4723085-b28a-4673-8707-6a1c724bf057",
   "metadata": {},
   "outputs": [],
   "source": [
    "entity_counts['Long']"
   ]
  },
  {
   "cell_type": "markdown",
   "id": "641486e3-5253-43cf-99e1-32b7cf425686",
   "metadata": {},
   "source": [
    "Total number of annotations (long)"
   ]
  },
  {
   "cell_type": "code",
   "execution_count": 43,
   "id": "6632e767-e0f5-4d63-9061-0f6846f70f9a",
   "metadata": {},
   "outputs": [
    {
     "data": {
      "text/plain": [
       "81052"
      ]
     },
     "execution_count": 43,
     "metadata": {},
     "output_type": "execute_result"
    }
   ],
   "source": [
    "entity_counts['Long'].loc['Total', ['Train', 'Dev', 'Test']].iloc[0].sum()"
   ]
  },
  {
   "cell_type": "code",
   "execution_count": null,
   "id": "259514fd-7e80-472a-8ce8-b47c6d7c6a39",
   "metadata": {},
   "outputs": [],
   "source": [
    "entity_counts['Short'].loc['Total', ['Train', 'Dev', 'Test']].iloc[0].sum()"
   ]
  },
  {
   "cell_type": "code",
   "execution_count": 17,
   "id": "1ee22fa5-97ea-4ff6-a3de-bf4fa1ff4fb8",
   "metadata": {},
   "outputs": [
    {
     "data": {
      "text/plain": [
       "split\n",
       "Train    3350\n",
       "Dev       696\n",
       "Test      679\n",
       "Name: (Finding, Coarse), dtype: int64"
      ]
     },
     "execution_count": 17,
     "metadata": {},
     "output_type": "execute_result"
    }
   ],
   "source": [
    "# Number of files\n",
    "results['n_files'].iloc[0].loc['Short']"
   ]
  },
  {
   "cell_type": "code",
   "execution_count": 18,
   "id": "9202aad4-c0ca-4c4c-a8b3-3ef771aec837",
   "metadata": {},
   "outputs": [
    {
     "data": {
      "text/plain": [
       "split\n",
       "Train    23528\n",
       "Dev       4655\n",
       "Test      4826\n",
       "Name: (Finding, Coarse), dtype: int64"
      ]
     },
     "execution_count": 18,
     "metadata": {},
     "output_type": "execute_result"
    }
   ],
   "source": [
    "# Number of sentences\n",
    "results['n_sentences'].iloc[0].loc['Long']"
   ]
  },
  {
   "cell_type": "code",
   "execution_count": 21,
   "id": "a1b18f87-0f59-4669-bf1f-39ea9787fb94",
   "metadata": {},
   "outputs": [],
   "source": [
    "# Make sure the sums align for short spans (they cannot for long spans)\n",
    "for split in ['Train', 'Dev', 'Test']:\n",
    "    c_short = results[('count', 'Short', split)]\n",
    "    assert c_short.loc['O']['Coarse'] == c_short.loc['O']['Fine']\n",
    "    assert c_short.loc['Finding']['Coarse'] == c_short.loc['Diagnosis or Pathology']['Fine'] + c_short.loc['Other Finding']['Fine']\n",
    "    assert c_short.loc['Substance']['Coarse'] == c_short.loc['Clinical Drug']['Fine'] + c_short.loc['Nutrient or Body Substance']['Fine'] + c_short.loc['External Substance']['Fine']\n",
    "    assert c_short.loc['Procedure']['Coarse'] == c_short.loc['Therapeutic']['Fine'] + c_short.loc['Diagnostic']['Fine']"
   ]
  },
  {
   "cell_type": "markdown",
   "id": "2356b4ff-0e35-4809-a263-1850524a2d90",
   "metadata": {},
   "source": [
    "# Inter-annotator Agreement"
   ]
  },
  {
   "cell_type": "markdown",
   "id": "33b65739-b225-472e-9f1b-39dafe43f1d9",
   "metadata": {},
   "source": [
    "__Note:__ Here we just analyze the IAA results.\n",
    "\n",
    "Use `python ../gamma_agreement.py <zip file>` for the actual IAA calculation using inception-analytics and pygamma-agreement .\n",
    "\n",
    "As the calculation of gamma agreement becomes very time-consuming with increasing number of annotators, the results are provided with the release in the `data` folder.\n",
    "\n",
    "Time to compute IAA using inception-analytics and pygamma-agreement:\n",
    "- Phase 1a:    185 s =    3 min = 0.05h\n",
    "- Phase 1b: 282532 s = 4709 min = __78 h__\n",
    "- Phase 2 : 200935 s = 3349 min = 56 h\n",
    "- Phase 3 :  78419 s = 1307 min = 22 h"
   ]
  },
  {
   "cell_type": "code",
   "execution_count": 22,
   "id": "8e59f562-fce7-41d8-8db5-8cd5bc7b36e9",
   "metadata": {},
   "outputs": [],
   "source": [
    "agreement_results_path = Path('../data/annotations/agreement_sets/results/')\n",
    "agreement = pd.concat([pd.read_csv(f, index_col=0) for f in agreement_results_path.glob('*_gamma.csv')])"
   ]
  },
  {
   "cell_type": "markdown",
   "id": "61e2017c-7856-4490-9567-a4deda17912c",
   "metadata": {},
   "source": [
    "### Number of annotated sentences and docs used for IAA calculation (excluding sentences without any annotations)"
   ]
  },
  {
   "cell_type": "code",
   "execution_count": 23,
   "id": "0e91c228-4101-4f4c-82b9-12b36e4ff993",
   "metadata": {},
   "outputs": [
    {
     "data": {
      "text/html": [
       "<div>\n",
       "<style scoped>\n",
       "    .dataframe tbody tr th:only-of-type {\n",
       "        vertical-align: middle;\n",
       "    }\n",
       "\n",
       "    .dataframe tbody tr th {\n",
       "        vertical-align: top;\n",
       "    }\n",
       "\n",
       "    .dataframe thead th {\n",
       "        text-align: right;\n",
       "    }\n",
       "</style>\n",
       "<table border=\"1\" class=\"dataframe\">\n",
       "  <thead>\n",
       "    <tr style=\"text-align: right;\">\n",
       "      <th></th>\n",
       "      <th>n_docs</th>\n",
       "      <th>n_sentences</th>\n",
       "      <th>n_anno</th>\n",
       "    </tr>\n",
       "    <tr>\n",
       "      <th>file</th>\n",
       "      <th></th>\n",
       "      <th></th>\n",
       "      <th></th>\n",
       "    </tr>\n",
       "  </thead>\n",
       "  <tbody>\n",
       "    <tr>\n",
       "      <th>phase_1a.zip</th>\n",
       "      <td>5</td>\n",
       "      <td>129</td>\n",
       "      <td>3</td>\n",
       "    </tr>\n",
       "    <tr>\n",
       "      <th>phase_1b.zip</th>\n",
       "      <td>5</td>\n",
       "      <td>132</td>\n",
       "      <td>7</td>\n",
       "    </tr>\n",
       "    <tr>\n",
       "      <th>phase_2.zip</th>\n",
       "      <td>6</td>\n",
       "      <td>147</td>\n",
       "      <td>7</td>\n",
       "    </tr>\n",
       "    <tr>\n",
       "      <th>phase_3.zip</th>\n",
       "      <td>3</td>\n",
       "      <td>61</td>\n",
       "      <td>7</td>\n",
       "    </tr>\n",
       "  </tbody>\n",
       "</table>\n",
       "</div>"
      ],
      "text/plain": [
       "              n_docs  n_sentences  n_anno\n",
       "file                                     \n",
       "phase_1a.zip       5          129       3\n",
       "phase_1b.zip       5          132       7\n",
       "phase_2.zip        6          147       7\n",
       "phase_3.zip        3           61       7"
      ]
     },
     "execution_count": 23,
     "metadata": {},
     "output_type": "execute_result"
    }
   ],
   "source": [
    "agreement.groupby('file')[['n_docs', 'n_sentences', 'n_anno']].max()"
   ]
  },
  {
   "cell_type": "markdown",
   "id": "c117316f-5fac-4e6d-a196-75e15b926e25",
   "metadata": {},
   "source": [
    "### Total number of sentences and docs:"
   ]
  },
  {
   "cell_type": "code",
   "execution_count": 6,
   "id": "9885eb1b-f475-4490-9ec7-6c91db37e58f",
   "metadata": {},
   "outputs": [
    {
     "name": "stdout",
     "output_type": "stream",
     "text": [
      "Collecting de-core-news-sm==3.2.0\n",
      "  Downloading https://github.com/explosion/spacy-models/releases/download/de_core_news_sm-3.2.0/de_core_news_sm-3.2.0-py3-none-any.whl (19.1 MB)\n",
      "\u001b[K     |████████████████████████████████| 19.1 MB 3.4 MB/s eta 0:00:01\n",
      "\u001b[?25hRequirement already satisfied: spacy<3.3.0,>=3.2.0 in /dhc/home/florian.borchert/conda3/envs/ggponc/lib/python3.9/site-packages (from de-core-news-sm==3.2.0) (3.2.0)\n",
      "Requirement already satisfied: wasabi<1.1.0,>=0.8.1 in /dhc/home/florian.borchert/conda3/envs/ggponc/lib/python3.9/site-packages (from spacy<3.3.0,>=3.2.0->de-core-news-sm==3.2.0) (0.8.2)\n",
      "Requirement already satisfied: requests<3.0.0,>=2.13.0 in /dhc/home/florian.borchert/conda3/envs/ggponc/lib/python3.9/site-packages (from spacy<3.3.0,>=3.2.0->de-core-news-sm==3.2.0) (2.26.0)\n",
      "Requirement already satisfied: cymem<2.1.0,>=2.0.2 in /dhc/home/florian.borchert/conda3/envs/ggponc/lib/python3.9/site-packages (from spacy<3.3.0,>=3.2.0->de-core-news-sm==3.2.0) (2.0.6)\n",
      "Requirement already satisfied: spacy-loggers<2.0.0,>=1.0.0 in /dhc/home/florian.borchert/conda3/envs/ggponc/lib/python3.9/site-packages (from spacy<3.3.0,>=3.2.0->de-core-news-sm==3.2.0) (1.0.1)\n",
      "Requirement already satisfied: typer<0.5.0,>=0.3.0 in /dhc/home/florian.borchert/conda3/envs/ggponc/lib/python3.9/site-packages (from spacy<3.3.0,>=3.2.0->de-core-news-sm==3.2.0) (0.4.0)\n",
      "Requirement already satisfied: tqdm<5.0.0,>=4.38.0 in /dhc/home/florian.borchert/conda3/envs/ggponc/lib/python3.9/site-packages (from spacy<3.3.0,>=3.2.0->de-core-news-sm==3.2.0) (4.62.3)\n",
      "Requirement already satisfied: pathy>=0.3.5 in /dhc/home/florian.borchert/conda3/envs/ggponc/lib/python3.9/site-packages (from spacy<3.3.0,>=3.2.0->de-core-news-sm==3.2.0) (0.6.1)\n",
      "Requirement already satisfied: jinja2 in /dhc/home/florian.borchert/conda3/envs/ggponc/lib/python3.9/site-packages (from spacy<3.3.0,>=3.2.0->de-core-news-sm==3.2.0) (3.0.2)\n",
      "Requirement already satisfied: numpy>=1.15.0 in /dhc/home/florian.borchert/conda3/envs/ggponc/lib/python3.9/site-packages (from spacy<3.3.0,>=3.2.0->de-core-news-sm==3.2.0) (1.20.0)\n",
      "Requirement already satisfied: setuptools in /dhc/home/florian.borchert/conda3/envs/ggponc/lib/python3.9/site-packages (from spacy<3.3.0,>=3.2.0->de-core-news-sm==3.2.0) (58.0.4)\n",
      "Requirement already satisfied: langcodes<4.0.0,>=3.2.0 in /dhc/home/florian.borchert/conda3/envs/ggponc/lib/python3.9/site-packages (from spacy<3.3.0,>=3.2.0->de-core-news-sm==3.2.0) (3.3.0)\n",
      "Requirement already satisfied: spacy-legacy<3.1.0,>=3.0.8 in /dhc/home/florian.borchert/conda3/envs/ggponc/lib/python3.9/site-packages (from spacy<3.3.0,>=3.2.0->de-core-news-sm==3.2.0) (3.0.8)\n",
      "Requirement already satisfied: blis<0.8.0,>=0.4.0 in /dhc/home/florian.borchert/conda3/envs/ggponc/lib/python3.9/site-packages (from spacy<3.3.0,>=3.2.0->de-core-news-sm==3.2.0) (0.7.5)\n",
      "Requirement already satisfied: packaging>=20.0 in /dhc/home/florian.borchert/conda3/envs/ggponc/lib/python3.9/site-packages (from spacy<3.3.0,>=3.2.0->de-core-news-sm==3.2.0) (21.3)\n",
      "Requirement already satisfied: murmurhash<1.1.0,>=0.28.0 in /dhc/home/florian.borchert/conda3/envs/ggponc/lib/python3.9/site-packages (from spacy<3.3.0,>=3.2.0->de-core-news-sm==3.2.0) (1.0.6)\n",
      "Requirement already satisfied: thinc<8.1.0,>=8.0.12 in /dhc/home/florian.borchert/conda3/envs/ggponc/lib/python3.9/site-packages (from spacy<3.3.0,>=3.2.0->de-core-news-sm==3.2.0) (8.0.13)\n",
      "Requirement already satisfied: pydantic!=1.8,!=1.8.1,<1.9.0,>=1.7.4 in /dhc/home/florian.borchert/conda3/envs/ggponc/lib/python3.9/site-packages (from spacy<3.3.0,>=3.2.0->de-core-news-sm==3.2.0) (1.8.2)\n",
      "Requirement already satisfied: preshed<3.1.0,>=3.0.2 in /dhc/home/florian.borchert/conda3/envs/ggponc/lib/python3.9/site-packages (from spacy<3.3.0,>=3.2.0->de-core-news-sm==3.2.0) (3.0.6)\n",
      "Requirement already satisfied: catalogue<2.1.0,>=2.0.6 in /dhc/home/florian.borchert/conda3/envs/ggponc/lib/python3.9/site-packages (from spacy<3.3.0,>=3.2.0->de-core-news-sm==3.2.0) (2.0.6)\n",
      "Requirement already satisfied: srsly<3.0.0,>=2.4.1 in /dhc/home/florian.borchert/conda3/envs/ggponc/lib/python3.9/site-packages (from spacy<3.3.0,>=3.2.0->de-core-news-sm==3.2.0) (2.4.2)\n",
      "Requirement already satisfied: pyparsing!=3.0.5,>=2.0.2 in /dhc/home/florian.borchert/conda3/envs/ggponc/lib/python3.9/site-packages (from packaging>=20.0->spacy<3.3.0,>=3.2.0->de-core-news-sm==3.2.0) (3.0.4)\n",
      "Requirement already satisfied: smart-open<6.0.0,>=5.0.0 in /dhc/home/florian.borchert/conda3/envs/ggponc/lib/python3.9/site-packages (from pathy>=0.3.5->spacy<3.3.0,>=3.2.0->de-core-news-sm==3.2.0) (5.2.1)\n",
      "Requirement already satisfied: typing-extensions>=3.7.4.3 in /dhc/home/florian.borchert/conda3/envs/ggponc/lib/python3.9/site-packages (from pydantic!=1.8,!=1.8.1,<1.9.0,>=1.7.4->spacy<3.3.0,>=3.2.0->de-core-news-sm==3.2.0) (4.0.0)\n",
      "Requirement already satisfied: idna<4,>=2.5 in /dhc/home/florian.borchert/conda3/envs/ggponc/lib/python3.9/site-packages (from requests<3.0.0,>=2.13.0->spacy<3.3.0,>=3.2.0->de-core-news-sm==3.2.0) (3.2)\n",
      "Requirement already satisfied: certifi>=2017.4.17 in /dhc/home/florian.borchert/conda3/envs/ggponc/lib/python3.9/site-packages (from requests<3.0.0,>=2.13.0->spacy<3.3.0,>=3.2.0->de-core-news-sm==3.2.0) (2021.10.8)\n",
      "Requirement already satisfied: charset-normalizer~=2.0.0 in /dhc/home/florian.borchert/conda3/envs/ggponc/lib/python3.9/site-packages (from requests<3.0.0,>=2.13.0->spacy<3.3.0,>=3.2.0->de-core-news-sm==3.2.0) (2.0.4)\n",
      "Requirement already satisfied: urllib3<1.27,>=1.21.1 in /dhc/home/florian.borchert/conda3/envs/ggponc/lib/python3.9/site-packages (from requests<3.0.0,>=2.13.0->spacy<3.3.0,>=3.2.0->de-core-news-sm==3.2.0) (1.26.7)\n",
      "Requirement already satisfied: click<9.0.0,>=7.1.1 in /dhc/home/florian.borchert/conda3/envs/ggponc/lib/python3.9/site-packages (from typer<0.5.0,>=0.3.0->spacy<3.3.0,>=3.2.0->de-core-news-sm==3.2.0) (7.1.2)\n",
      "Requirement already satisfied: MarkupSafe>=2.0 in /dhc/home/florian.borchert/conda3/envs/ggponc/lib/python3.9/site-packages (from jinja2->spacy<3.3.0,>=3.2.0->de-core-news-sm==3.2.0) (2.0.1)\n",
      "\u001b[38;5;2m✔ Download and installation successful\u001b[0m\n",
      "You can now load the package via spacy.load('de_core_news_sm')\n"
     ]
    }
   ],
   "source": [
    "!python -m spacy download de_core_news_sm"
   ]
  },
  {
   "cell_type": "code",
   "execution_count": 24,
   "id": "5f10bacb-a5b1-46c7-b278-56c8b0777cf3",
   "metadata": {},
   "outputs": [],
   "source": [
    "nlp = spacy.load('de_core_news_sm')"
   ]
  },
  {
   "cell_type": "code",
   "execution_count": 25,
   "id": "3cfd702d-2593-441f-866b-c790d18c35b8",
   "metadata": {},
   "outputs": [
    {
     "data": {
      "text/html": [
       "<div>\n",
       "<style scoped>\n",
       "    .dataframe tbody tr th:only-of-type {\n",
       "        vertical-align: middle;\n",
       "    }\n",
       "\n",
       "    .dataframe tbody tr th {\n",
       "        vertical-align: top;\n",
       "    }\n",
       "\n",
       "    .dataframe thead th {\n",
       "        text-align: right;\n",
       "    }\n",
       "</style>\n",
       "<table border=\"1\" class=\"dataframe\">\n",
       "  <thead>\n",
       "    <tr style=\"text-align: right;\">\n",
       "      <th></th>\n",
       "      <th>n_docs</th>\n",
       "      <th>n_sentences_total</th>\n",
       "      <th>n_tokens_total</th>\n",
       "    </tr>\n",
       "    <tr>\n",
       "      <th>file</th>\n",
       "      <th></th>\n",
       "      <th></th>\n",
       "      <th></th>\n",
       "    </tr>\n",
       "  </thead>\n",
       "  <tbody>\n",
       "    <tr>\n",
       "      <th>phase_1</th>\n",
       "      <td>5</td>\n",
       "      <td>149</td>\n",
       "      <td>4206</td>\n",
       "    </tr>\n",
       "    <tr>\n",
       "      <th>phase_2</th>\n",
       "      <td>6</td>\n",
       "      <td>158</td>\n",
       "      <td>3725</td>\n",
       "    </tr>\n",
       "    <tr>\n",
       "      <th>phase_3</th>\n",
       "      <td>3</td>\n",
       "      <td>67</td>\n",
       "      <td>1814</td>\n",
       "    </tr>\n",
       "  </tbody>\n",
       "</table>\n",
       "</div>"
      ],
      "text/plain": [
       "         n_docs  n_sentences_total  n_tokens_total\n",
       "file                                              \n",
       "phase_1       5                149            4206\n",
       "phase_2       6                158            3725\n",
       "phase_3       3                 67            1814"
      ]
     },
     "execution_count": 25,
     "metadata": {},
     "output_type": "execute_result"
    }
   ],
   "source": [
    "stats = []\n",
    "\n",
    "for folder in Path('../data/annotations/agreement_sets/input/').glob(r'phase_?'):\n",
    "    txt_files = list(folder.glob('*.txt'))\n",
    "    n_sentences = 0\n",
    "    n_tokens = 0\n",
    "    for f in txt_files:\n",
    "        with open(f) as txt_file:\n",
    "            sentences = txt_file.readlines()\n",
    "            n_sentences += len(sentences)\n",
    "            n_tokens += sum([len(nlp(s)) for s in sentences])\n",
    "    \n",
    "    stats.append({\n",
    "        'file' : folder.name,\n",
    "        'n_docs': len(txt_files),\n",
    "        'n_sentences_total': n_sentences,\n",
    "        'n_tokens_total': n_tokens\n",
    "    })\n",
    "stats = pd.DataFrame(stats).set_index('file').sort_index()\n",
    "stats"
   ]
  },
  {
   "cell_type": "markdown",
   "id": "fd7679c8-f2b4-4f16-aea2-b61178319d4c",
   "metadata": {},
   "source": [
    "IAA results"
   ]
  },
  {
   "cell_type": "code",
   "execution_count": 30,
   "id": "15d7cea9-154b-4183-a1a2-1f4a39e2198a",
   "metadata": {},
   "outputs": [
    {
     "data": {
      "text/html": [
       "<div>\n",
       "<style scoped>\n",
       "    .dataframe tbody tr th:only-of-type {\n",
       "        vertical-align: middle;\n",
       "    }\n",
       "\n",
       "    .dataframe tbody tr th {\n",
       "        vertical-align: top;\n",
       "    }\n",
       "\n",
       "    .dataframe thead th {\n",
       "        text-align: right;\n",
       "    }\n",
       "</style>\n",
       "<table border=\"1\" class=\"dataframe\">\n",
       "  <thead>\n",
       "    <tr style=\"text-align: right;\">\n",
       "      <th></th>\n",
       "      <th>file</th>\n",
       "      <th>phase_1a.zip</th>\n",
       "      <th>phase_1b.zip</th>\n",
       "      <th>phase_2.zip</th>\n",
       "      <th>phase_3.zip</th>\n",
       "    </tr>\n",
       "    <tr>\n",
       "      <th>feature</th>\n",
       "      <th>label</th>\n",
       "      <th></th>\n",
       "      <th></th>\n",
       "      <th></th>\n",
       "      <th></th>\n",
       "    </tr>\n",
       "  </thead>\n",
       "  <tbody>\n",
       "    <tr>\n",
       "      <th rowspan=\"5\" valign=\"top\">coarse</th>\n",
       "      <th>all</th>\n",
       "      <td>0.75</td>\n",
       "      <td>0.89</td>\n",
       "      <td>0.93</td>\n",
       "      <td>0.94</td>\n",
       "    </tr>\n",
       "    <tr>\n",
       "      <th>Finding</th>\n",
       "      <td>0.82</td>\n",
       "      <td>0.93</td>\n",
       "      <td>0.95</td>\n",
       "      <td>0.97</td>\n",
       "    </tr>\n",
       "    <tr>\n",
       "      <th>Substance</th>\n",
       "      <td>0.92</td>\n",
       "      <td>0.99</td>\n",
       "      <td>0.98</td>\n",
       "      <td>0.99</td>\n",
       "    </tr>\n",
       "    <tr>\n",
       "      <th>Procedure</th>\n",
       "      <td>0.82</td>\n",
       "      <td>0.93</td>\n",
       "      <td>0.96</td>\n",
       "      <td>0.96</td>\n",
       "    </tr>\n",
       "    <tr>\n",
       "      <th>Specification</th>\n",
       "      <td>0.71</td>\n",
       "      <td>0.87</td>\n",
       "      <td>0.91</td>\n",
       "      <td>0.89</td>\n",
       "    </tr>\n",
       "    <tr>\n",
       "      <th rowspan=\"8\" valign=\"top\">fine</th>\n",
       "      <th>all</th>\n",
       "      <td>-</td>\n",
       "      <td>0.88</td>\n",
       "      <td>0.92</td>\n",
       "      <td>0.93</td>\n",
       "    </tr>\n",
       "    <tr>\n",
       "      <th>Diagnosis or Pathology</th>\n",
       "      <td>-</td>\n",
       "      <td>0.91</td>\n",
       "      <td>0.94</td>\n",
       "      <td>0.96</td>\n",
       "    </tr>\n",
       "    <tr>\n",
       "      <th>Other Finding</th>\n",
       "      <td>-</td>\n",
       "      <td>0.85</td>\n",
       "      <td>0.87</td>\n",
       "      <td>0.91</td>\n",
       "    </tr>\n",
       "    <tr>\n",
       "      <th>Clinical Drug</th>\n",
       "      <td>-</td>\n",
       "      <td>0.97</td>\n",
       "      <td>0.98</td>\n",
       "      <td>1.00</td>\n",
       "    </tr>\n",
       "    <tr>\n",
       "      <th>Nutrient or Body Substance</th>\n",
       "      <td>-</td>\n",
       "      <td>0.99</td>\n",
       "      <td>0.99</td>\n",
       "      <td>0.98</td>\n",
       "    </tr>\n",
       "    <tr>\n",
       "      <th>External Substance</th>\n",
       "      <td>-</td>\n",
       "      <td>0.96</td>\n",
       "      <td>-</td>\n",
       "      <td>1.00</td>\n",
       "    </tr>\n",
       "    <tr>\n",
       "      <th>Therapeutic</th>\n",
       "      <td>-</td>\n",
       "      <td>0.95</td>\n",
       "      <td>0.96</td>\n",
       "      <td>0.96</td>\n",
       "    </tr>\n",
       "    <tr>\n",
       "      <th>Diagnostic</th>\n",
       "      <td>-</td>\n",
       "      <td>0.89</td>\n",
       "      <td>0.98</td>\n",
       "      <td>0.93</td>\n",
       "    </tr>\n",
       "  </tbody>\n",
       "</table>\n",
       "</div>"
      ],
      "text/plain": [
       "file                               phase_1a.zip  phase_1b.zip phase_2.zip  \\\n",
       "feature label                                                               \n",
       "coarse  all                                0.75          0.89        0.93   \n",
       "        Finding                            0.82          0.93        0.95   \n",
       "        Substance                          0.92          0.99        0.98   \n",
       "        Procedure                          0.82          0.93        0.96   \n",
       "        Specification                      0.71          0.87        0.91   \n",
       "fine    all                                   -          0.88        0.92   \n",
       "        Diagnosis or Pathology                -          0.91        0.94   \n",
       "        Other Finding                         -          0.85        0.87   \n",
       "        Clinical Drug                         -          0.97        0.98   \n",
       "        Nutrient or Body Substance            -          0.99        0.99   \n",
       "        External Substance                    -          0.96           -   \n",
       "        Therapeutic                           -          0.95        0.96   \n",
       "        Diagnostic                            -          0.89        0.98   \n",
       "\n",
       "file                                phase_3.zip  \n",
       "feature label                                    \n",
       "coarse  all                                0.94  \n",
       "        Finding                            0.97  \n",
       "        Substance                          0.99  \n",
       "        Procedure                          0.96  \n",
       "        Specification                      0.89  \n",
       "fine    all                                0.93  \n",
       "        Diagnosis or Pathology             0.96  \n",
       "        Other Finding                      0.91  \n",
       "        Clinical Drug                      1.00  \n",
       "        Nutrient or Body Substance         0.98  \n",
       "        External Substance                 1.00  \n",
       "        Therapeutic                        0.96  \n",
       "        Diagnostic                         0.93  "
      ]
     },
     "execution_count": 30,
     "metadata": {},
     "output_type": "execute_result"
    }
   ],
   "source": [
    "pd.options.display.float_format = '{:,.2f}'.format\n",
    "agreement.replace({'detail' : 'fine', 'value' : 'coarse'}).set_index(['file', 'feature', 'label']).unstack('file').gamma.sort_index(ascending=True, key=sort_fn).fillna('-')"
   ]
  }
 ],
 "metadata": {
  "kernelspec": {
   "display_name": "Python 3 (ipykernel)",
   "language": "python",
   "name": "python3"
  },
  "language_info": {
   "codemirror_mode": {
    "name": "ipython",
    "version": 3
   },
   "file_extension": ".py",
   "mimetype": "text/x-python",
   "name": "python",
   "nbconvert_exporter": "python",
   "pygments_lexer": "ipython3",
   "version": "3.9.7"
  }
 },
 "nbformat": 4,
 "nbformat_minor": 5
}
