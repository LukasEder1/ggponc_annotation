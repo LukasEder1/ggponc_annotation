{
 "cells": [
  {
   "cell_type": "code",
   "execution_count": 1,
   "id": "913b4e3a-7ffc-4ce9-b5b5-222eda1f7d98",
   "metadata": {},
   "outputs": [],
   "source": [
    "%load_ext autoreload\n",
    "%autoreload 2"
   ]
  },
  {
   "cell_type": "code",
   "execution_count": 2,
   "id": "c560a8e4-64e1-4485-b8d4-ea93deae7944",
   "metadata": {},
   "outputs": [],
   "source": [
    "import sys\n",
    "sys.path.append('../util')\n",
    "sys.path.append('../experiments')"
   ]
  },
  {
   "cell_type": "code",
   "execution_count": 3,
   "id": "335b3d72-c0aa-4649-a287-a9876afec5a8",
   "metadata": {},
   "outputs": [],
   "source": [
    "from convert_annotations import read_webanno, resolve_ellipses, webanno_to_iob_df, EMPTY_REGEX\n",
    "from pathlib import Path\n",
    "from datetime import datetime\n",
    "import pandas as pd"
   ]
  },
  {
   "cell_type": "code",
   "execution_count": 4,
   "id": "c25f7538-b7b3-4577-b55f-63eeb6377faf",
   "metadata": {},
   "outputs": [],
   "source": [
    "ignore_documents = [\n",
    "    '00_mundhoehlenkarzinom_0059.tsv',\n",
    "    '00_mundhoehlenkarzinom_0071.tsv'\n",
    "]"
   ]
  },
  {
   "cell_type": "code",
   "execution_count": 5,
   "id": "769c4a32-6ced-4472-acc8-e5c55b3d52ab",
   "metadata": {},
   "outputs": [
    {
     "name": "stdout",
     "output_type": "stream",
     "text": [
      "CPU times: user 10.3 s, sys: 631 ms, total: 10.9 s\n",
      "Wall time: 13.1 s\n"
     ]
    }
   ],
   "source": [
    "%%time\n",
    "tsv_folder = '../../data_ggponc/output_ellipses/'\n",
    "#tsv_folder = '../../ggponc_v2_annotation/other_layers/ellipses_dev'\n",
    "\n",
    "webanno_df, sentences = read_webanno([f for f in Path(tsv_folder).glob('*.tsv') if not f.name in ignore_documents])"
   ]
  },
  {
   "cell_type": "code",
   "execution_count": 6,
   "id": "6de6b66a-e5b6-441e-997a-9c9a8a89e296",
   "metadata": {},
   "outputs": [
    {
     "name": "stderr",
     "output_type": "stream",
     "text": [
      " 13%|███████████████████▌                                                                                                                                       | 6286/49720 [02:15<20:27, 35.40it/s]WARNING:convert_annotations:Duplicate annotation: Procedure[28]|Procedure[29]\n",
      "WARNING:convert_annotations:Duplicate annotation: Therapeutic[28]|Diagnostic[29]\n",
      " 14%|██████████████████████                                                                                                                                     | 7086/49720 [02:33<15:12, 46.71it/s]WARNING:convert_annotations:Duplicate annotation: Procedure[3]|Procedure[4]\n",
      "WARNING:convert_annotations:Duplicate annotation: Diagnostic[3]|Therapeutic[4]\n",
      " 31%|███████████████████████████████████████████████▏                                                                                                          | 15220/49720 [05:26<10:01, 57.35it/s]WARNING:convert_annotations:Duplicate annotation: Finding[1]|Finding[3]\n",
      "WARNING:convert_annotations:Duplicate annotation: Other Finding[1]|Other Finding[3]\n",
      " 39%|████████████████████████████████████████████████████████████▎                                                                                             | 19486/49720 [07:00<10:03, 50.10it/s]WARNING:convert_annotations:Duplicate annotation: Procedure[180]|Procedure[181]\n",
      "WARNING:convert_annotations:Duplicate annotation: Diagnostic[180]|Therapeutic[181]\n",
      " 46%|██████████████████████████████████████████████████████████████████████▍                                                                                   | 22749/49720 [08:14<09:19, 48.18it/s]WARNING:convert_annotations:Duplicate annotation: Procedure[13]|Procedure[14]\n",
      "WARNING:convert_annotations:Duplicate annotation: Therapeutic[13]|Diagnostic[14]\n",
      " 46%|███████████████████████████████████████████████████████████████████████                                                                                   | 22930/49720 [08:18<09:08, 48.85it/s]WARNING:convert_annotations:Duplicate annotation: Procedure[5]|Procedure[6]\n",
      "WARNING:convert_annotations:Duplicate annotation: Diagnostic[5]|Therapeutic[6]\n",
      " 66%|█████████████████████████████████████████████████████████████████████████████████████████████████████▉                                                    | 32903/49720 [12:00<05:23, 52.04it/s]WARNING:convert_annotations:Duplicate annotation: Substance[109]|Substance[110]\n",
      "WARNING:convert_annotations:Duplicate annotation: Substance[112]|Substance[113]\n",
      "WARNING:convert_annotations:Duplicate annotation: Clinical Drug[109]|Clinical Drug[110]\n",
      "WARNING:convert_annotations:Duplicate annotation: Clinical Drug[112]|Clinical Drug[113]\n",
      " 69%|██████████████████████████████████████████████████████████████████████████████████████████████████████████▎                                               | 34323/49720 [12:32<05:41, 45.10it/s]WARNING:convert_annotations:Duplicate annotation: Procedure[1]|Procedure[2]\n",
      "WARNING:convert_annotations:Duplicate annotation: Therapeutic[1]|Diagnostic[2]\n",
      " 69%|██████████████████████████████████████████████████████████████████████████████████████████████████████████▌                                               | 34414/49720 [12:34<05:18, 48.03it/s]WARNING:convert_annotations:Duplicate annotation: Procedure[1]|Procedure[2]\n",
      "WARNING:convert_annotations:Duplicate annotation: Diagnostic[1]|Therapeutic[2]\n",
      " 70%|████████████████████████████████████████████████████████████████████████████████████████████████████████████                                              | 34905/49720 [12:45<07:07, 34.66it/s]WARNING:convert_annotations:Duplicate annotation: Specification[40]|Procedure[43]|Procedure[44]\n",
      "WARNING:convert_annotations:Duplicate annotation: *[40]|Therapeutic[43]|Diagnostic[44]\n",
      " 71%|█████████████████████████████████████████████████████████████████████████████████████████████████████████████▋                                            | 35426/49720 [12:57<04:22, 54.42it/s]WARNING:convert_annotations:Duplicate annotation: Procedure[34]|Procedure[35]\n",
      "WARNING:convert_annotations:Duplicate annotation: Therapeutic[34]|Diagnostic[35]\n",
      " 72%|███████████████████████████████████████████████████████████████████████████████████████████████████████████████▏                                          | 35894/49720 [13:07<03:48, 60.48it/s]WARNING:convert_annotations:Duplicate annotation: Procedure[45]|Procedure[46]\n",
      "WARNING:convert_annotations:Duplicate annotation: Therapeutic[45]|Diagnostic[46]\n",
      "100%|██████████████████████████████████████████████████████████████████████████████████████████████████████████████████████████████████████████████████████████| 49720/49720 [18:11<00:00, 45.55it/s]\n"
     ]
    },
    {
     "name": "stdout",
     "output_type": "stream",
     "text": [
      "CPU times: user 18min 20s, sys: 9.56 s, total: 18min 30s\n",
      "Wall time: 18min 28s\n"
     ]
    }
   ],
   "source": [
    "%%time\n",
    "\n",
    "import warnings\n",
    "\n",
    "with warnings.catch_warnings():\n",
    "    warnings.simplefilter(\"ignore\")\n",
    "    iob_df = webanno_to_iob_df(webanno_df, 'detail', True, debug=False, collect_errors=False, skip_errors=True, all_columns=True)\n",
    "    iob_df['id'] = iob_df.entity_id.where(~iob_df.entity_id.isna(), iob_df.spec_id)"
   ]
  },
  {
   "cell_type": "code",
   "execution_count": 7,
   "id": "7cc0056f-018e-4ddf-8499-6f709568de0e",
   "metadata": {},
   "outputs": [],
   "source": [
    "# Anything containing a prefix, suffix or fragment is potentially an elliptical construct\n",
    "ellipses = iob_df[~iob_df.prefix.str.match(EMPTY_REGEX) | ~iob_df.suffix.str.match(EMPTY_REGEX) | ~iob_df.fragment.str.match(EMPTY_REGEX)].copy()"
   ]
  },
  {
   "cell_type": "code",
   "execution_count": 9,
   "id": "248fdafe-6aa0-4e9b-ba78-80b2471f318d",
   "metadata": {},
   "outputs": [
    {
     "name": "stderr",
     "output_type": "stream",
     "text": [
      "../util/convert_annotations.py:166: PerformanceWarning: indexing past lexsort depth may impact performance.\n",
      "  sentence = ellipses.loc[idx]\n",
      "../util/convert_annotations.py:168: PerformanceWarning: indexing past lexsort depth may impact performance.\n",
      "  full_sentence = iob_df.loc[idx]\n"
     ]
    },
    {
     "name": "stdout",
     "output_type": "stream",
     "text": [
      "CPU times: user 2min 7s, sys: 1.1 s, total: 2min 8s\n",
      "Wall time: 2min 8s\n"
     ]
    }
   ],
   "source": [
    "%%time\n",
    "results = resolve_ellipses(ellipses, iob_df)"
   ]
  },
  {
   "cell_type": "markdown",
   "id": "6dd8dcbd-1125-44b4-b9df-c5399ef4d666",
   "metadata": {},
   "source": [
    "### Adding resolved sentences and metadata"
   ]
  },
  {
   "cell_type": "code",
   "execution_count": null,
   "id": "60fd8d90-47f6-4d10-a761-6a84d13e7b33",
   "metadata": {},
   "outputs": [],
   "source": [
    "#idx = results[(results.file == '01_magenkarzinom_0090.tsv') & (results.sentence_id == 22)].index\n",
    "#assert len(idx) == 1\n",
    "#results.at[idx[0], 'resolution'] = ['Stadium', '2', 'und', 'Stadium 3']"
   ]
  },
  {
   "cell_type": "code",
   "execution_count": 10,
   "id": "17304be2-216c-4971-8501-f8c6c64daa6d",
   "metadata": {},
   "outputs": [],
   "source": [
    "sentence_idx = pd.DataFrame(sentences, columns=['raw_sentence'], index=webanno_df.index.drop_duplicates())"
   ]
  },
  {
   "cell_type": "code",
   "execution_count": 11,
   "id": "f1982627-75d4-495e-adfa-8cac9f5b6c6a",
   "metadata": {},
   "outputs": [],
   "source": [
    "import math\n",
    "clean_results = results.merge(right=sentence_idx, left_on=['file', 'sentence_id'], right_index=True)\n",
    "clean_results['outer'] = math.nan"
   ]
  },
  {
   "cell_type": "code",
   "execution_count": 12,
   "id": "290456ec-0555-4cd1-808a-d7386e04de8c",
   "metadata": {},
   "outputs": [],
   "source": [
    "for _, k in clean_results[clean_results.duplicated(['file', 'sentence_id'])][['file', 'sentence_id']].iterrows():\n",
    "    f = k['file']\n",
    "    s = k['sentence_id']\n",
    "    dups = clean_results[(clean_results.file == f) & (clean_results.sentence_id == s)]\n",
    "    \n",
    "    for i, inner in dups.iterrows():\n",
    "        for j, outer in dups.iterrows():\n",
    "            if i != j and inner.span_index_start >= outer.span_index_start and inner.span_index_end <= outer.span_index_end:\n",
    "                if not (clean_results.loc[j, 'outer'] == i):\n",
    "                    clean_results.loc[i, 'outer'] = j"
   ]
  },
  {
   "cell_type": "code",
   "execution_count": 13,
   "id": "eaa7bffe-dd56-4629-a3d0-b7a5a98461ab",
   "metadata": {},
   "outputs": [
    {
     "data": {
      "text/html": [
       "<div>\n",
       "<style scoped>\n",
       "    .dataframe tbody tr th:only-of-type {\n",
       "        vertical-align: middle;\n",
       "    }\n",
       "\n",
       "    .dataframe tbody tr th {\n",
       "        vertical-align: top;\n",
       "    }\n",
       "\n",
       "    .dataframe thead th {\n",
       "        text-align: right;\n",
       "    }\n",
       "</style>\n",
       "<table border=\"1\" class=\"dataframe\">\n",
       "  <thead>\n",
       "    <tr style=\"text-align: right;\">\n",
       "      <th></th>\n",
       "      <th>file</th>\n",
       "      <th>sentence_id</th>\n",
       "      <th>full_sentence</th>\n",
       "      <th>span_index_start</th>\n",
       "      <th>span_index_end</th>\n",
       "      <th>full_span</th>\n",
       "      <th>offsets</th>\n",
       "      <th>resolution</th>\n",
       "      <th>fragment</th>\n",
       "      <th>missing_prefix</th>\n",
       "      <th>missing_suffix</th>\n",
       "      <th>raw_sentence</th>\n",
       "      <th>outer</th>\n",
       "    </tr>\n",
       "  </thead>\n",
       "  <tbody>\n",
       "    <tr>\n",
       "      <th>913</th>\n",
       "      <td>04_praevention-zervixkarzinom_0255.tsv</td>\n",
       "      <td>12</td>\n",
       "      <td>[Ein, positiver, Absetzungsrand, zeigt, vergli...</td>\n",
       "      <td>18</td>\n",
       "      <td>22</td>\n",
       "      <td>[CIN, 2, /, 3, Läsion]</td>\n",
       "      <td>[[116, 119], [120, 121], [121, 122], [122, 123...</td>\n",
       "      <td>[CIN, 2 Läsion, /, CIN 3, Läsion]</td>\n",
       "      <td>True</td>\n",
       "      <td>True</td>\n",
       "      <td>True</td>\n",
       "      <td>Ein positiver Absetzungsrand zeigt verglichen ...</td>\n",
       "      <td>914.0</td>\n",
       "    </tr>\n",
       "    <tr>\n",
       "      <th>914</th>\n",
       "      <td>04_praevention-zervixkarzinom_0255.tsv</td>\n",
       "      <td>12</td>\n",
       "      <td>[Ein, positiver, Absetzungsrand, zeigt, vergli...</td>\n",
       "      <td>18</td>\n",
       "      <td>22</td>\n",
       "      <td>[CIN, 2, /, 3, Läsion]</td>\n",
       "      <td>[[116, 119], [120, 121], [121, 122], [122, 123...</td>\n",
       "      <td>[CIN, 2 Läsion, /, CIN 3, Läsion]</td>\n",
       "      <td>True</td>\n",
       "      <td>True</td>\n",
       "      <td>True</td>\n",
       "      <td>Ein positiver Absetzungsrand zeigt verglichen ...</td>\n",
       "      <td>NaN</td>\n",
       "    </tr>\n",
       "  </tbody>\n",
       "</table>\n",
       "</div>"
      ],
      "text/plain": [
       "                                       file  sentence_id  \\\n",
       "913  04_praevention-zervixkarzinom_0255.tsv           12   \n",
       "914  04_praevention-zervixkarzinom_0255.tsv           12   \n",
       "\n",
       "                                         full_sentence  span_index_start  \\\n",
       "913  [Ein, positiver, Absetzungsrand, zeigt, vergli...                18   \n",
       "914  [Ein, positiver, Absetzungsrand, zeigt, vergli...                18   \n",
       "\n",
       "     span_index_end               full_span  \\\n",
       "913              22  [CIN, 2, /, 3, Läsion]   \n",
       "914              22  [CIN, 2, /, 3, Läsion]   \n",
       "\n",
       "                                               offsets  \\\n",
       "913  [[116, 119], [120, 121], [121, 122], [122, 123...   \n",
       "914  [[116, 119], [120, 121], [121, 122], [122, 123...   \n",
       "\n",
       "                            resolution  fragment  missing_prefix  \\\n",
       "913  [CIN, 2 Läsion, /, CIN 3, Läsion]      True            True   \n",
       "914  [CIN, 2 Läsion, /, CIN 3, Läsion]      True            True   \n",
       "\n",
       "     missing_suffix                                       raw_sentence  outer  \n",
       "913            True  Ein positiver Absetzungsrand zeigt verglichen ...  914.0  \n",
       "914            True  Ein positiver Absetzungsrand zeigt verglichen ...    NaN  "
      ]
     },
     "execution_count": 13,
     "metadata": {},
     "output_type": "execute_result"
    }
   ],
   "source": [
    "clean_results[(clean_results.file == '04_praevention-zervixkarzinom_0255.tsv') & (clean_results.sentence_id == 12)]"
   ]
  },
  {
   "cell_type": "code",
   "execution_count": 14,
   "id": "27eb9931-73c7-4f05-8743-13143d6bb67c",
   "metadata": {},
   "outputs": [],
   "source": [
    "clean_results = clean_results[clean_results.outer.isna()]"
   ]
  },
  {
   "cell_type": "code",
   "execution_count": 15,
   "id": "fd44f110-3835-42c0-84df-2994c93be800",
   "metadata": {},
   "outputs": [],
   "source": [
    "def resolve(row):\n",
    "    out = {}\n",
    "    for c in row.index:\n",
    "        val = row.loc[c]\n",
    "        if len(val) == 1:\n",
    "            out['multi'] = False\n",
    "            out[c] = val[0]\n",
    "        else:\n",
    "            out['multi'] = True\n",
    "            if val.count(val[0]) == len(val) and c in ['full_sentence', 'raw_sentence']:\n",
    "                out[c] = val[0]\n",
    "            elif c in ['fragment', 'missing_prefix', 'missing_suffix']:\n",
    "                out[c] = max(val)\n",
    "            else:\n",
    "                out[c] = val\n",
    "    return pd.Series(out)"
   ]
  },
  {
   "cell_type": "code",
   "execution_count": 16,
   "id": "17ac6f73-ab5a-4d39-ad1c-acb7e43461d0",
   "metadata": {},
   "outputs": [],
   "source": [
    "clean_results = clean_results.groupby(['file', 'sentence_id', 'fragment']).aggregate(tuple).applymap(list).apply(resolve, axis=1)[list(clean_results.columns.drop(['outer', 'file', 'sentence_id', 'fragment'])) + ['multi']].reset_index()"
   ]
  },
  {
   "cell_type": "code",
   "execution_count": 17,
   "id": "876208e8-5f74-4c2d-a3ad-6ee814c33bec",
   "metadata": {},
   "outputs": [],
   "source": [
    "def get_full_res(row):\n",
    "    sent = row.raw_sentence\n",
    "    if row.multi:\n",
    "        spans = [o for p in row.offsets for o in p]\n",
    "        resolution = [r for p in row.resolution for r in p]\n",
    "    else:\n",
    "        spans = row.offsets\n",
    "        resolution = row.resolution\n",
    "    assert len(spans) == len(resolution), (spans, resolution)\n",
    "    j = 0\n",
    "    for span, res in zip(spans, resolution):\n",
    "        start, end = span\n",
    "        start += j\n",
    "        end += j\n",
    "        sent = sent[:start] + res + sent[end:]\n",
    "        j += (start - end + len(res))\n",
    "    return sent"
   ]
  },
  {
   "cell_type": "code",
   "execution_count": 18,
   "id": "6d47f2ea-2d6c-4905-bc02-ca471804f23a",
   "metadata": {},
   "outputs": [],
   "source": [
    "clean_results['full_resolution'] = clean_results.apply(get_full_res, axis=1)"
   ]
  },
  {
   "cell_type": "code",
   "execution_count": 19,
   "id": "9fad4f6f-bb96-494f-ac2c-445c60d66429",
   "metadata": {},
   "outputs": [],
   "source": [
    "import numpy as np"
   ]
  },
  {
   "cell_type": "code",
   "execution_count": 20,
   "id": "91243145-1b4c-43e4-92fd-2561be2813b4",
   "metadata": {},
   "outputs": [
    {
     "data": {
      "text/plain": [
       "(4609, 78090, 0.059021641695479576)"
      ]
     },
     "execution_count": 20,
     "metadata": {},
     "output_type": "execute_result"
    }
   ],
   "source": [
    "ellipses_sentence_count = len(results[['file', 'sentence_id']].drop_duplicates())\n",
    "sentence_count = 78090\n",
    "ellipses_sentence_count, sentence_count, ellipses_sentence_count / sentence_count"
   ]
  },
  {
   "cell_type": "code",
   "execution_count": 21,
   "id": "f5f6e9b8-395d-4b71-b540-6c24c7939632",
   "metadata": {},
   "outputs": [
    {
     "name": "stdout",
     "output_type": "stream",
     "text": [
      "Ellipses 5187\n",
      "Forward ellipses 1929 829\n",
      "Backward ellipses 2955 2745\n",
      "Complex ellipses 270 189\n"
     ]
    }
   ],
   "source": [
    "print('Ellipses', len(results))\n",
    "print('Forward ellipses', len(results[results.missing_prefix & ~results.missing_suffix]), len(results[results.fragment & results.missing_prefix & ~results.missing_suffix]))\n",
    "print('Backward ellipses', len(results[~results.missing_prefix & results.missing_suffix]), len(results[results.fragment & ~results.missing_prefix & results.missing_suffix]))\n",
    "print('Complex ellipses', len(results[results.missing_prefix & results.missing_suffix]), len(results[results.fragment & results.missing_prefix & results.missing_suffix]))"
   ]
  },
  {
   "cell_type": "code",
   "execution_count": 22,
   "id": "6f00d151-cdb8-4f02-a0eb-9ae6eeafc620",
   "metadata": {},
   "outputs": [],
   "source": [
    "import random\n",
    "\n",
    "def show_random(df):\n",
    "    i = random.randint(0, len(df) - 1)\n",
    "    item = df.iloc[i]    \n",
    "    assert len(item.full_span) == len(item.resolution)\n",
    "    spans = []\n",
    "    solutions = []\n",
    "    marker = []\n",
    "    if not item.multi:\n",
    "        for span, res in zip(item.full_span, item.resolution):\n",
    "            if span == res:\n",
    "                marker.append(' ' * len(span))\n",
    "            else:\n",
    "                marker.append('^' * len(res))\n",
    "            start_index = res.find(span)\n",
    "            spans.append(span.rjust(start_index + len(span)).ljust(len(res) - start_index))\n",
    "            solutions.append(res)\n",
    "        print(' '.join(spans))\n",
    "        print(' '.join(solutions))\n",
    "        print(' '.join(marker))\n",
    "        print(f'{item.file};{item.sentence_id};{\" \".join(item.full_span)}', 'fragment:', item.fragment)\n",
    "    else:\n",
    "         print(f'{item.file};{item.sentence_id}')\n",
    "    print(item.raw_sentence)\n",
    "    print(item.full_resolution)\n",
    "    print('...........')\n",
    "    print('')"
   ]
  },
  {
   "cell_type": "code",
   "execution_count": 23,
   "id": "f007194a-61f5-463e-9b6c-21b00d9fea95",
   "metadata": {},
   "outputs": [
    {
     "name": "stdout",
     "output_type": "stream",
     "text": [
      "27_supportive-therapie_0273.tsv;5\n",
      "Rash und Dermatitis treten bei beiden EGFR-Antikörpern in gerundet 70 % Grad 1/2 bzw. in gerundet 10 % Grad 3/4 auf.\n",
      "Rash und Dermatitis treten bei beiden EGFR-Antikörpern in gerundet 70 % Grad 1/Grad 2 bzw. in gerundet 10 % Grad 3/Grad 4 auf.\n",
      "...........\n",
      "\n",
      "09_mammakarzinom_0200.tsv;76\n",
      "„Bei Frauen mit einem ER-/PgR-positiven, HER2-negativen, nodal-positiven (1-3 befallene Lymphknoten) primären invasiven Mammakarzinom, kann ein methodisch standardisierter und klinisch validierter Multigentest bei der Entscheidung gegen eine (neo-)adjuvante Chemotherapie herangezogen werden, wenn dieser ein niedriges Rückfallrisiko vorhersagt.“ Für dieses Statement fand sich allerdings keine Mehrheit, so dass es nur hier im Hintergrundtext dargestellt wird und für die nodal-positive Situation somit keine konsentierte Empfehlung formuliert werden kann.\n",
      "„Bei Frauen mit einem ER-positiven/PgR-positiven, HER2-negativen, nodal-positiven (1-3 befallene Lymphknoten) primären invasiven Mammakarzinom, kann ein methodisch standardisierter und klinisch validierter Multigentest bei der Entscheidung gegen eine (neoadjuvante)adjuvante Chemotherapie herangezogen werden, wenn dieser ein niedriges Rückfallrisiko vorhersagt.“ Für dieses Statement fand sich allerdings keine Mehrheit, so dass es nur hier im Hintergrundtext dargestellt wird und für die nodal-positive Situation somit keine konsentierte Empfehlung formuliert werden kann.\n",
      "...........\n",
      "\n",
      "16_maligne-ovarialtumoren_0105.tsv;7\n",
      "Für die niedrig bis mittleren Risikokollektive (Stadium IA G2, IB G1/2) gibt es Hinweise aus einer Subgruppenanalyse, dass diese bzgl. des Gesamtüberlebens weniger von der Therapie profitieren [REF].\n",
      "Für die niedrig bis mittleren Risikokollektive (Stadium IA G2, Stadium IB G1/G2) gibt es Hinweise aus einer Subgruppenanalyse, dass diese bzgl. des Gesamtüberlebens weniger von der Therapie profitieren [REF].\n",
      "...........\n",
      "\n",
      "08_aktinische-keratose-und-plattenepithelkarzinom-der-haut_0158.tsv;1\n",
      "Falls sich im Verlauf der Resektion eine nicht weiter resektable R1- bzw. R2-Situation ergibt, sollte eine Nachbestrahlung an der R1- bzw. R2-Lokalisation erfolgen (siehe Kapitel 6.5 Strahlentherapie und postoperative Radiatio).\n",
      "Falls sich im Verlauf der Resektion eine nicht weiter resektable R1-Situation bzw. R2-Situation ergibt, sollte eine Nachbestrahlung an der R1-Lokalisation bzw. R2-Lokalisation erfolgen (siehe Kapitel 6.5 Strahlentherapie und postoperative Radiatio).\n",
      "...........\n",
      "\n",
      "28_komplementaermedizin_0187.tsv;30\n",
      "1x Anämie in Placebogruppe, Leukopenie in 3x in Interventions- und 2x in Placebogrupe; Dermatitis 2x Interventionsgruppe; trockener Mund 2x Placebogruppe; Dysgeusie 2x Interventions- und 1x Placebogruppe; Odyno-/dysphagie 1x Interventions- und 2x Placebogruppe; orale-/Halsschmerzen 2x Placebogruppe; Schleim/ Auswurf:\n",
      "1x Anämie in Placebogruppe, Leukopenie in 3x in Interventions- und 2x in Placebogrupe; Dermatitis 2x Interventionsgruppe; trockener Mund 2x Placebogruppe; Dysgeusie 2x Interventions- und 1x Placebogruppe; Odynophagie/dysphagie 1x Interventions- und 2x Placebogruppe; orale-Schmerzen/Halsschmerzen 2x Placebogruppe; Schleim/ Auswurf:\n",
      "...........\n",
      "\n",
      "13_oesophaguskarzinom_0060.tsv;9\n",
      "Bei gering differenzierten oder undifferenzierten (G 3/4) Tumoren soll unter diesem Aspekt eine immunhistologische Phänotypisierung erfolgen, weiterhin auch zur Identifizierung seltener Karzinomtypen, wie dem neuroendokrinen Karzinom sowie der Abgrenzung gegenüber einer sekundären Infiltration (p63, CK5/6, CK7, CK8/18, Synaptophysin, Chromogranin, TTF-1 etc.).\n",
      "Bei gering differenzierten oder undifferenzierten (G 3/G4) Tumoren soll unter diesem Aspekt eine immunhistologische Phänotypisierung erfolgen, weiterhin auch zur Identifizierung seltener Karzinomtypen, wie dem neuroendokrinen Karzinom sowie der Abgrenzung gegenüber einer sekundären Infiltration (p63, CK5/CK6, CK7, CK8/CK18, Synaptophysin, Chromogranin, TTF-1 etc.).\n",
      "...........\n",
      "\n",
      "27_supportive-therapie_0661.tsv;1\n",
      "Vitamine A/E/C\n",
      "Vitamin Vitamine A/Vitamin Vitamin E/C\n",
      "...........\n",
      "\n",
      "04_praevention-zervixkarzinom_0035.tsv;13\n",
      "Eine teilweise Kreuzprotektion über die Impfgenotypen HPV16 und 18 hinaus konnte für nahe verwandte Genotypen HPV31 und 45 in der Phase-II-Studie mit dem bivalenten Impfstoff belegt werden [REF].\n",
      "Eine teilweise Kreuzprotektion über die Impfgenotypen HPV16 und HPV18 hinaus konnte für nahe verwandte Genotypen HPV31 und HPV45 in der Phase-II-Studie mit dem bivalenten Impfstoff belegt werden [REF].\n",
      "...........\n",
      "\n",
      "29_adulte-weichgewebesarkome_0330.tsv;13\n",
      "Patienten-/Selbsthilfegruppen bieten Betroffenen und Begleitern (Angehörigen) meist kostenlose Beratung sowie Informations- und Hilfsangebote.\n",
      "Patientengruppen/Selbsthilfegruppen bieten Betroffenen und Begleitern (Angehörigen) meist kostenlose Beratung sowie Informationsangebote und Hilfsangebote.\n",
      "...........\n",
      "\n",
      "28_komplementaermedizin_0055.tsv;23\n",
      "373 Krebspatienten mit verschiedenen Karzinomen erhielten zusätzlich zur Chemo- oder Radiotherapie entweder eine individuelle homöopathische Behandlung mit Globuli und Dilutionen oder nur Chemo- oder Radiotherapie.\n",
      "373 Krebspatienten mit verschiedenen Karzinomen erhielten zusätzlich zur Chemotherapie oder Radiotherapie entweder eine individuelle homöopathische Behandlung mit Globuli und Dilutionen oder nur Chemotherapie oder Radiotherapie.\n",
      "...........\n",
      "\n"
     ]
    }
   ],
   "source": [
    "for _ in range(0, 10):\n",
    "    show_random(clean_results[clean_results.multi & clean_results.fragment])"
   ]
  },
  {
   "cell_type": "code",
   "execution_count": 24,
   "id": "37712c8a-f2cd-4093-8a7f-4ea388d67d27",
   "metadata": {},
   "outputs": [
    {
     "name": "stdout",
     "output_type": "stream",
     "text": [
      "Bauch          - / Rektalschmerzen\n",
      "Bauchschmerzen  / Rektalschmerzen\n",
      "^^^^^^^^^^^^^^                   \n",
      "28_komplementaermedizin_0251.tsv;13;Bauch - / Rektalschmerzen fragment: True\n",
      "Blutungen und Bauch-/Rektalschmerzen verbesserten sich nicht signifikant.\n",
      "Blutungen und Bauchschmerzen/Rektalschmerzen verbesserten sich nicht signifikant.\n",
      "...........\n",
      "\n",
      "Radio         - bzw . Radiochemotherapie\n",
      "Radiotherapie  bzw . Radiochemotherapie\n",
      "^^^^^^^^^^^^^                          \n",
      "14_larynxkarzinom_0065.tsv;1;Radio - bzw . Radiochemotherapie fragment: True\n",
      "Eine neoadjuvante Chemotherapie vor geplanter definitiver Radio-oder Radiochemotherapie soll nicht durchgeführt werden, außer zum Zweck der Selektion zwischen Laryngektomie und Radio- bzw. Radiochemotherapie.\n",
      "Eine neoadjuvante Chemotherapie vor geplanter definitiver Radio-oder Radiochemotherapie soll nicht durchgeführt werden, außer zum Zweck der Selektion zwischen Laryngektomie und Radiotherapie bzw. Radiochemotherapie.\n",
      "...........\n",
      "\n",
      "FIGO                - bzw . TNM-Klassifikation\n",
      "FIGO-Klassifikation  bzw . TNM-Klassifikation\n",
      "^^^^^^^^^^^^^^^^^^^                          \n",
      "15_endometriumkarzinom_0098.tsv;19;FIGO - bzw . TNM-Klassifikation fragment: True\n",
      "Seit der letzten Revision der FIGO- bzw. TNM-Klassifikation [REF], [REF] ist der Status der Peritonealzytologie nicht mehr stagingrelevant, soll jedoch im histopathologischen Befundbericht erwähnt werden.\n",
      "Seit der letzten Revision der FIGO-Klassifikation bzw. TNM-Klassifikation [REF], [REF] ist der Status der Peritonealzytologie nicht mehr stagingrelevant, soll jedoch im histopathologischen Befundbericht erwähnt werden.\n",
      "...........\n",
      "\n",
      "10        - und 15 - Jahres tumorfreie Überleben\n",
      "10-Jahres  und 15 - Jahres tumorfreie Überleben\n",
      "^^^^^^^^^                                      \n",
      "20_harnblasenkarzinom_0205.tsv;74;10 - und 15 - Jahres tumorfreie Überleben fragment: True\n",
      "Das 10- und 15-Jahres tumorfreie Überleben lag in dieser Serie bei 66% und 66%, vergleichbar mit den in der Literatur beschriebenen Ergebnissen mit anderen Harnableitungen.\n",
      "Das 10-Jahres und 15-Jahres tumorfreie Überleben lag in dieser Serie bei 66% und 66%, vergleichbar mit den in der Literatur beschriebenen Ergebnissen mit anderen Harnableitungen.\n",
      "...........\n",
      "\n",
      "Ösophagus          - , Magen          - , Gallenwegs          und kolorektale Karzinome\n",
      "Ösophaguskarzinome  , Magenkarzinome  , Gallenwegskarzinome und kolorektale Karzinome\n",
      "^^^^^^^^^^^^^^^^^^    ^^^^^^^^^^^^^^    ^^^^^^^^^^^^^^^^^^^                          \n",
      "13_oesophaguskarzinom_0024.tsv;11;Ösophagus - , Magen - , Gallenwegs und kolorektale Karzinome fragment: True\n",
      "In Fall-Kontroll-Studien war die regelmäßige Einnahme von ASS mit einer Risikominderung von 38 % für Ösophagus-, Magen-, Gallenwegs und kolorektale Karzinome assoziiert, wobei dies mit den Daten randomisierter Studien gut übereinstimmte.\n",
      "In Fall-Kontroll-Studien war die regelmäßige Einnahme von ASS mit einer Risikominderung von 38 % für Ösophaguskarzinome, Magenkarzinome, Gallenwegskarzinome und kolorektale Karzinome assoziiert, wobei dies mit den Daten randomisierter Studien gut übereinstimmte.\n",
      "...........\n",
      "\n",
      "Magen-und      Darmkrebs\n",
      "Magen-undkrebs Darmkrebs\n",
      "^^^^^^^^^^^^^^          \n",
      "28_komplementaermedizin_0037.tsv;9;Magen-und Darmkrebs fragment: True\n",
      "Zudem liegen Daten [1 MA mit 2 RCTs] zum Einfluss von Akupressur auf Postoperativen Ileus bei Patienten mit Magen-und Darmkrebs, sowie Daten [2 RCTs] zum Einfluss auf Übelkeit und Erbrechen, postoperativen Schmerz und Diarrhoe bei Patienten mit Magenkrebs vor.\n",
      "Zudem liegen Daten [1 MA mit 2 RCTs] zum Einfluss von Akupressur auf Postoperativen Ileus bei Patienten mit Magen-undkrebs Darmkrebs, sowie Daten [2 RCTs] zum Einfluss auf Übelkeit und Erbrechen, postoperativen Schmerz und Diarrhoe bei Patienten mit Magenkrebs vor.\n",
      "...........\n",
      "\n",
      "Ein                - und Durchschlafstörungen\n",
      "Einschlafstörungen  und Durchschlafstörungen\n",
      "^^^^^^^^^^^^^^^^^^                          \n",
      "28_komplementaermedizin_0027.tsv;1;Ein - und Durchschlafstörungen fragment: True\n",
      "Ein- und Durchschlafstörungen (zu Empfehlung 4.10)\n",
      "Einschlafstörungen und Durchschlafstörungen (zu Empfehlung 4.10)\n",
      "...........\n",
      "\n",
      "mediane progressionsfreie           und Gesamtüberleben\n",
      "mediane progressionsfreie Überleben und Gesamtüberleben\n",
      "        ^^^^^^^^^^^^^^^^^^^^^^^^^^^                    \n",
      "21_hodentumoren_0218.tsv;11;mediane progressionsfreie und Gesamtüberleben fragment: True\n",
      "Auch das mediane progressionsfreie und Gesamtüberleben war nach Hochdosis-Chemotherapie länger als nach konventioneller Therapie mit neun versus fünf Monaten (p < 0,01) bzw. 18 versus 13 Monaten (p = 0,078).\n",
      "Auch das mediane progressionsfreie Überleben und Gesamtüberleben war nach Hochdosis-Chemotherapie länger als nach konventioneller Therapie mit neun versus fünf Monaten (p < 0,01) bzw. 18 versus 13 Monaten (p = 0,078).\n",
      "...........\n",
      "\n",
      "28_komplementaermedizin_0061.tsv;3\n",
      "Bis zum Erscheinen der Leitlinie „Sport- und Bewegungstherapie“ wurden in diese Leitlinie ausgewählte Formen der Sport- und Bewegungstherapie eingeschlossen.\n",
      "Bis zum Erscheinen der Leitlinie „Sporttherapie und Bewegungstherapie“ wurden in diese Leitlinie ausgewählte Formen der Sporttherapie und Bewegungstherapie eingeschlossen.\n",
      "...........\n",
      "\n",
      "Krebsfrüherkennungs       - und -      registergesetz\n",
      "Krebsfrüherkennungsgesetz  und  Krebsregistergesetz\n",
      "^^^^^^^^^^^^^^^^^^^^^^^^^       ^^^^^^^^^^^^^^^^^^^\n",
      "06_hautkrebspraevention_0222.tsv;7;Krebsfrüherkennungs - und - registergesetz fragment: True\n",
      "- Gesetz zur Weiterentwicklung der Krebsfrüherkennung und zur Qualitätssicherung durch klinische Krebsregister (Krebsfrüherkennungs- und -registergesetz [KFRG]), in Kraft getreten April 2013. Mittelpunkt des Gesetzes ist die Schaffung der rechtlichen und finanziellen Rahmenbedingungen für die Errichtung und den Betrieb flächendeckender klinischer Krebsregister.\n",
      "- Gesetz zur Weiterentwicklung der Krebsfrüherkennung und zur Qualitätssicherung durch klinische Krebsregister (Krebsfrüherkennungsgesetz und Krebsregistergesetz [KFRG]), in Kraft getreten April 2013. Mittelpunkt des Gesetzes ist die Schaffung der rechtlichen und finanziellen Rahmenbedingungen für die Errichtung und den Betrieb flächendeckender klinischer Krebsregister.\n",
      "...........\n",
      "\n"
     ]
    }
   ],
   "source": [
    "for _ in range(0, 10):\n",
    "    show_random(clean_results[clean_results.fragment])"
   ]
  },
  {
   "cell_type": "code",
   "execution_count": 25,
   "id": "cf744831-67e5-4b6f-acfe-09b74aff2718",
   "metadata": {},
   "outputs": [],
   "source": [
    "ss = clean_results[~clean_results.fragment][clean_results[~clean_results.fragment].resolution.map(lambda r: any([t for t in r if '-' in t]))]"
   ]
  },
  {
   "cell_type": "code",
   "execution_count": null,
   "id": "fcec4da8-bb0a-4edf-a80c-c17ca792b65d",
   "metadata": {},
   "outputs": [],
   "source": [
    "for _ in range(0, 10):\n",
    "    show_random(ss)"
   ]
  },
  {
   "cell_type": "code",
   "execution_count": null,
   "id": "edf9dfa2-082d-4dd2-9b43-d169f2e7f120",
   "metadata": {},
   "outputs": [],
   "source": [
    "for _ in range(0, 10):\n",
    "    show_random(clean_results[~clean_results.fragment])"
   ]
  },
  {
   "cell_type": "code",
   "execution_count": null,
   "id": "18d9448a-f3fa-41f4-85ff-fa9b01be0758",
   "metadata": {},
   "outputs": [],
   "source": [
    "show_random(clean_results[(clean_results.file == '01_magenkarzinom_0033.tsv') & (clean_results.sentence_id == 4) & clean_results.fragment])"
   ]
  },
  {
   "cell_type": "code",
   "execution_count": 62,
   "id": "373a8cf2-1630-4c51-bbb7-c5557508f088",
   "metadata": {},
   "outputs": [],
   "source": [
    "def create_export(subset):\n",
    "    subset = subset.copy()\n",
    "    join_fn = lambda x: ' '.join(x) if type(x[0]) == str else '; '.join([' '.join(y) for y in x])\n",
    "    subset['text'] = subset.full_span.map(join_fn)\n",
    "    subset['resolved'] = subset.resolution.map(join_fn)\n",
    "    return subset[['file', 'sentence_id', 'text', 'resolved', 'raw_sentence', 'full_resolution']]\n",
    "\n",
    "create_export(clean_results[clean_results.fragment]).to_excel('ellipses_fragment.xlsx', index=False)"
   ]
  },
  {
   "cell_type": "code",
   "execution_count": null,
   "id": "fcd96883-20f7-4507-8957-73cd832ea01d",
   "metadata": {},
   "outputs": [],
   "source": [
    "date = datetime.now().strftime(\"%Y%m%d_%H%M%S\")"
   ]
  },
  {
   "cell_type": "code",
   "execution_count": null,
   "id": "ece375fd-01a5-4a2a-96da-e3a743a50eff",
   "metadata": {},
   "outputs": [],
   "source": [
    "date"
   ]
  },
  {
   "cell_type": "code",
   "execution_count": null,
   "id": "816881e3-a2ab-49d3-8989-67d47bc5e413",
   "metadata": {},
   "outputs": [],
   "source": [
    "clean_results.to_excel(f'ellipses_nodup_{date}.xlsx')"
   ]
  },
  {
   "cell_type": "code",
   "execution_count": null,
   "id": "a17862ee-9d45-484a-b3b1-25e32b5333ea",
   "metadata": {},
   "outputs": [],
   "source": []
  }
 ],
 "metadata": {
  "kernelspec": {
   "display_name": "Python 3 (ipykernel)",
   "language": "python",
   "name": "python3"
  },
  "language_info": {
   "codemirror_mode": {
    "name": "ipython",
    "version": 3
   },
   "file_extension": ".py",
   "mimetype": "text/x-python",
   "name": "python",
   "nbconvert_exporter": "python",
   "pygments_lexer": "ipython3",
   "version": "3.8.0"
  }
 },
 "nbformat": 4,
 "nbformat_minor": 5
}
