{
 "cells": [
  {
   "cell_type": "code",
   "execution_count": 1,
   "id": "913b4e3a-7ffc-4ce9-b5b5-222eda1f7d98",
   "metadata": {},
   "outputs": [],
   "source": [
    "%load_ext autoreload\n",
    "%autoreload 2"
   ]
  },
  {
   "cell_type": "code",
   "execution_count": 2,
   "id": "c560a8e4-64e1-4485-b8d4-ea93deae7944",
   "metadata": {},
   "outputs": [],
   "source": [
    "import sys\n",
    "sys.path.append('../util')\n",
    "sys.path.append('../experiments')"
   ]
  },
  {
   "cell_type": "code",
   "execution_count": 3,
   "id": "335b3d72-c0aa-4649-a287-a9876afec5a8",
   "metadata": {},
   "outputs": [],
   "source": [
    "from convert_annotations import read_webanno, resolve_ellipses, webanno_to_iob_df, EMPTY_REGEX\n",
    "from pathlib import Path\n",
    "from datetime import datetime"
   ]
  },
  {
   "cell_type": "code",
   "execution_count": 93,
   "id": "769c4a32-6ced-4472-acc8-e5c55b3d52ab",
   "metadata": {},
   "outputs": [
    {
     "name": "stdout",
     "output_type": "stream",
     "text": [
      "CPU times: user 11.5 s, sys: 480 ms, total: 12 s\n",
      "Wall time: 17.9 s\n"
     ]
    }
   ],
   "source": [
    "%%time\n",
    "tsv_folder = '../../data_ggponc/output_ellipses/'\n",
    "\n",
    "webanno_df, _ = read_webanno(list(Path(tsv_folder).glob('*.tsv')))"
   ]
  },
  {
   "cell_type": "code",
   "execution_count": 94,
   "id": "6de6b66a-e5b6-441e-997a-9c9a8a89e296",
   "metadata": {},
   "outputs": [
    {
     "name": "stderr",
     "output_type": "stream",
     "text": [
      " 13%|█████████████████████████▏                                                                                                                                                                          | 6392/49821 [01:47<12:27, 58.14it/s]WARNING:convert_annotations:Duplicate annotation: Procedure[28]|Procedure[29]\n",
      "WARNING:convert_annotations:Duplicate annotation: Therapeutic[28]|Diagnostic[29]\n",
      " 14%|████████████████████████████▎                                                                                                                                                                       | 7195/49821 [02:00<12:24, 57.22it/s]WARNING:convert_annotations:Duplicate annotation: Procedure[3]|Procedure[4]\n",
      "WARNING:convert_annotations:Duplicate annotation: Diagnostic[3]|Therapeutic[4]\n",
      " 31%|███████████████████████████████████████████████████████████▉                                                                                                                                       | 15323/49821 [04:09<08:50, 65.06it/s]WARNING:convert_annotations:Duplicate annotation: Finding[1]|Finding[3]\n",
      "WARNING:convert_annotations:Duplicate annotation: Other Finding[1]|Other Finding[3]\n",
      " 39%|████████████████████████████████████████████████████████████████████████████▋                                                                                                                      | 19595/49821 [05:19<07:55, 63.54it/s]WARNING:convert_annotations:Duplicate annotation: Procedure[180]|Procedure[181]\n",
      "WARNING:convert_annotations:Duplicate annotation: Diagnostic[180]|Therapeutic[181]\n",
      " 46%|█████████████████████████████████████████████████████████████████████████████████████████▍                                                                                                         | 22855/49821 [06:12<07:47, 57.73it/s]WARNING:convert_annotations:Duplicate annotation: Procedure[13]|Procedure[14]\n",
      "WARNING:convert_annotations:Duplicate annotation: Therapeutic[13]|Diagnostic[14]\n",
      " 46%|██████████████████████████████████████████████████████████████████████████████████████████▏                                                                                                        | 23033/49821 [06:15<07:59, 55.85it/s]WARNING:convert_annotations:Duplicate annotation: Procedure[5]|Procedure[6]\n",
      "WARNING:convert_annotations:Duplicate annotation: Diagnostic[5]|Therapeutic[6]\n",
      " 66%|█████████████████████████████████████████████████████████████████████████████████████████████████████████████████████████████████▏                                                                 | 33013/49821 [08:58<04:28, 62.71it/s]WARNING:convert_annotations:Duplicate annotation: Substance[109]|Substance[110]\n",
      "WARNING:convert_annotations:Duplicate annotation: Substance[112]|Substance[113]\n",
      "WARNING:convert_annotations:Duplicate annotation: Clinical Drug[109]|Clinical Drug[110]\n",
      "WARNING:convert_annotations:Duplicate annotation: Clinical Drug[112]|Clinical Drug[113]\n",
      " 69%|██████████████████████████████████████████████████████████████████████████████████████████████████████████████████████████████████████▋                                                            | 34426/49821 [09:20<04:57, 51.83it/s]WARNING:convert_annotations:Duplicate annotation: Procedure[1]|Procedure[2]\n",
      "WARNING:convert_annotations:Duplicate annotation: Therapeutic[1]|Diagnostic[2]\n",
      " 69%|███████████████████████████████████████████████████████████████████████████████████████████████████████████████████████████████████████                                                            | 34522/49821 [09:22<04:43, 54.01it/s]WARNING:convert_annotations:Duplicate annotation: Procedure[1]|Procedure[2]\n",
      "WARNING:convert_annotations:Duplicate annotation: Diagnostic[1]|Therapeutic[2]\n",
      " 70%|█████████████████████████████████████████████████████████████████████████████████████████████████████████████████████████████████████████                                                          | 35010/49821 [09:30<04:09, 59.38it/s]WARNING:convert_annotations:Duplicate annotation: Specification[40]|Procedure[43]|Procedure[44]\n",
      "WARNING:convert_annotations:Duplicate annotation: *[40]|Therapeutic[43]|Diagnostic[44]\n",
      " 71%|███████████████████████████████████████████████████████████████████████████████████████████████████████████████████████████████████████████                                                        | 35530/49821 [09:39<03:36, 66.10it/s]WARNING:convert_annotations:Duplicate annotation: Procedure[34]|Procedure[35]\n",
      "WARNING:convert_annotations:Duplicate annotation: Therapeutic[34]|Diagnostic[35]\n",
      " 72%|████████████████████████████████████████████████████████████████████████████████████████████████████████████████████████████████████████████▉                                                      | 36004/49821 [09:46<03:16, 70.20it/s]WARNING:convert_annotations:Duplicate annotation: Procedure[45]|Procedure[46]\n",
      "WARNING:convert_annotations:Duplicate annotation: Therapeutic[45]|Diagnostic[46]\n",
      "100%|███████████████████████████████████████████████████████████████████████████████████████████████████████████████████████████████████████████████████████████████████████████████████████████████████| 49821/49821 [13:26<00:00, 61.78it/s]\n"
     ]
    },
    {
     "name": "stdout",
     "output_type": "stream",
     "text": [
      "CPU times: user 13min 35s, sys: 8.43 s, total: 13min 43s\n",
      "Wall time: 13min 42s\n"
     ]
    }
   ],
   "source": [
    "%%time\n",
    "\n",
    "import warnings\n",
    "\n",
    "with warnings.catch_warnings():\n",
    "    warnings.simplefilter(\"ignore\")\n",
    "    iob_df = webanno_to_iob_df(webanno_df, 'detail', True, debug=False, collect_errors=False, skip_errors=True, all_columns=True)\n",
    "    iob_df['id'] = iob_df.entity_id.where(~iob_df.entity_id.isna(), iob_df.spec_id)"
   ]
  },
  {
   "cell_type": "code",
   "execution_count": 101,
   "id": "7cc0056f-018e-4ddf-8499-6f709568de0e",
   "metadata": {},
   "outputs": [],
   "source": [
    "# Anything containing a prefix, suffix or fragment is potentially an elliptical construct\n",
    "ellipses = iob_df[~iob_df.prefix.str.match(EMPTY_REGEX) | ~iob_df.suffix.str.match(EMPTY_REGEX) | ~iob_df.fragment.str.match(EMPTY_REGEX)].copy()"
   ]
  },
  {
   "cell_type": "code",
   "execution_count": 102,
   "id": "5c65d9c4-2ddf-4392-9837-748b37e81da5",
   "metadata": {},
   "outputs": [
    {
     "data": {
      "text/plain": [
       "7418"
      ]
     },
     "execution_count": 102,
     "metadata": {},
     "output_type": "execute_result"
    }
   ],
   "source": [
    "len(ellipses)"
   ]
  },
  {
   "cell_type": "code",
   "execution_count": 103,
   "id": "248fdafe-6aa0-4e9b-ba78-80b2471f318d",
   "metadata": {},
   "outputs": [
    {
     "name": "stderr",
     "output_type": "stream",
     "text": [
      "/mnt/nfs/home/Florian.Borchert/workspace/ggponc_annotation/notebooks/../util/convert_annotations.py:166: PerformanceWarning: indexing past lexsort depth may impact performance.\n",
      "  sentence = ellipses.loc[idx]\n",
      "/mnt/nfs/home/Florian.Borchert/workspace/ggponc_annotation/notebooks/../util/convert_annotations.py:168: PerformanceWarning: indexing past lexsort depth may impact performance.\n",
      "  full_sentence = iob_df.loc[idx]\n"
     ]
    },
    {
     "name": "stdout",
     "output_type": "stream",
     "text": [
      "CPU times: user 1min 19s, sys: 1.02 s, total: 1min 20s\n",
      "Wall time: 1min 20s\n"
     ]
    }
   ],
   "source": [
    "%%time\n",
    "results = resolve_ellipses(ellipses, iob_df)"
   ]
  },
  {
   "cell_type": "code",
   "execution_count": 104,
   "id": "91243145-1b4c-43e4-92fd-2561be2813b4",
   "metadata": {},
   "outputs": [
    {
     "data": {
      "text/plain": [
       "(4626, 78090, 0.05923933922397234)"
      ]
     },
     "execution_count": 104,
     "metadata": {},
     "output_type": "execute_result"
    }
   ],
   "source": [
    "ellipses_sentence_count = len(results[['file', 'sentence_id']].drop_duplicates())\n",
    "sentence_count = 78090\n",
    "ellipses_sentence_count, sentence_count, ellipses_sentence_count / sentence_count"
   ]
  },
  {
   "cell_type": "code",
   "execution_count": 105,
   "id": "de6f24c9-aaa3-4008-ab23-215ecf08af5e",
   "metadata": {},
   "outputs": [
    {
     "name": "stdout",
     "output_type": "stream",
     "text": [
      "Ellipses 5202\n",
      "Forward ellipses 1945 831\n",
      "Backward ellipses 2955 2718\n",
      "Complex ellipses 263 180\n"
     ]
    }
   ],
   "source": [
    "print('Ellipses', len(results))\n",
    "print('Forward ellipses', len(results[results.missing_prefix & ~results.missing_suffix]), len(results[results.fragment & results.missing_prefix & ~results.missing_suffix]))\n",
    "print('Backward ellipses', len(results[~results.missing_prefix & results.missing_suffix]), len(results[results.fragment & ~results.missing_prefix & results.missing_suffix]))\n",
    "print('Complex ellipses', len(results[results.missing_prefix & results.missing_suffix]), len(results[results.fragment & results.missing_prefix & results.missing_suffix]))"
   ]
  },
  {
   "cell_type": "code",
   "execution_count": 106,
   "id": "6f00d151-cdb8-4f02-a0eb-9ae6eeafc620",
   "metadata": {},
   "outputs": [],
   "source": [
    "import random\n",
    "\n",
    "def show_random(df):\n",
    "    i = random.randint(0, len(df))\n",
    "    item = df.iloc[i]    \n",
    "    assert len(item.full_span) == len(item.resolution)\n",
    "    spans = []\n",
    "    solutions = []\n",
    "    marker = []\n",
    "    for span, res in zip(item.full_span, item.resolution):\n",
    "        if span == res:\n",
    "            marker.append(' ' * len(span))\n",
    "        else:\n",
    "            marker.append('^' * len(res))\n",
    "        start_index = res.find(span)\n",
    "        spans.append(span.rjust(start_index + len(span)).ljust(len(res) - start_index))\n",
    "        solutions.append(res)\n",
    "    print(' '.join(spans))\n",
    "    print(' '.join(solutions))\n",
    "    print(' '.join(marker))\n",
    "    print(item.file, item.sentence_id, 'fragment:', item.fragment)\n",
    "    print('...........')\n",
    "    print('')"
   ]
  },
  {
   "cell_type": "code",
   "execution_count": 107,
   "id": "37712c8a-f2cd-4093-8a7f-4ea388d67d27",
   "metadata": {},
   "outputs": [
    {
     "name": "stdout",
     "output_type": "stream",
     "text": [
      "R1           - bzw . R2 - Situation\n",
      "R1-Situation  bzw . R2 - Situation\n",
      "^^^^^^^^^^^^                      \n",
      "07_malignes-melanom_0027.tsv 13 fragment: True\n",
      "...........\n",
      "\n",
      "WHO                - und der TNM-Klassifikation der UICC\n",
      "WHO-Klassifikation  und der TNM-Klassifikation der UICC\n",
      "^^^^^^^^^^^^^^^^^^                                     \n",
      "13_oesophaguskarzinom_0061.tsv 1 fragment: True\n",
      "...........\n",
      "\n",
      "Grad 3 /      4 Toxizitäten\n",
      "Grad 3 / Grad 4 Toxizitäten\n",
      "         ^^^^^^            \n",
      "20_harnblasenkarzinom_0283.tsv 29 fragment: True\n",
      "...........\n",
      "\n",
      "klinische T1c           - oder T2a-Kategorie\n",
      "klinische T1c-Kategorie  oder T2a-Kategorie\n",
      "          ^^^^^^^^^^^^^                    \n",
      "22_prostatakarzinom_0232.tsv 6 fragment: True\n",
      "...........\n",
      "\n",
      "Anpassungs          - und depressive Störungen\n",
      "Anpassungsstörungen  und depressive Störungen\n",
      "^^^^^^^^^^^^^^^^^^^                          \n",
      "21_hodentumoren_0312.tsv 19 fragment: True\n",
      "...........\n",
      "\n",
      "Pouch                - vs . Roux-Y-Rekonstruktion\n",
      "Pouch-Rekonstruktion  vs . Roux-Y-Rekonstruktion\n",
      "^^^^^^^^^^^^^^^^^^^^                            \n",
      "01_magenkarzinom_0094.tsv 7 fragment: True\n",
      "...........\n",
      "\n",
      "Grad 1         oder      2 Tumoren\n",
      "Grad 1 Tumoren oder Grad 2 Tumoren\n",
      "     ^^^^^^^^^      ^^^^^^        \n",
      "23_peniskarzinom_0083.tsv 5 fragment: True\n",
      "...........\n",
      "\n",
      "Schluck         - und Sprechvermögen\n",
      "Schluckvermögen  und Sprechvermögen\n",
      "^^^^^^^^^^^^^^^                    \n",
      "00_mundhoehlenkarzinom_0127.tsv 13 fragment: True\n",
      "...........\n",
      "\n",
      "5FU          - oder CDDP-basierte Chemotherapien\n",
      "5FU-basierte  oder CDDP-basierte Chemotherapien\n",
      "^^^^^^^^^^^^                                   \n",
      "24_analkarzinom_0178.tsv 2 fragment: True\n",
      "...........\n",
      "\n",
      "Nieren       - und Leberenzyme\n",
      "Nierenenzyme  und Leberenzyme\n",
      "^^^^^^^^^^^^                 \n",
      "28_komplementaermedizin_0324.tsv 136 fragment: True\n",
      "...........\n",
      "\n"
     ]
    }
   ],
   "source": [
    "for _ in range(0, 10):\n",
    "    show_random(results[results.fragment])"
   ]
  },
  {
   "cell_type": "code",
   "execution_count": 109,
   "id": "edf9dfa2-082d-4dd2-9b43-d169f2e7f120",
   "metadata": {},
   "outputs": [
    {
     "name": "stdout",
     "output_type": "stream",
     "text": [
      "geringer mütterlicher und          neonataler Morbidität\n",
      "geringer mütterlicher und geringer neonataler Morbidität\n",
      "                          ^^^^^^^^^^^^^^^^^^^           \n",
      "05_zervixkarzinom_0386.tsv 16 fragment: False\n",
      "...........\n",
      "\n",
      "krankheits            - und therapieassoziierte Morbidität\n",
      "krankheitsassoziierte  und therapieassoziierte Morbidität\n",
      "^^^^^^^^^^^^^^^^^^^^^                                    \n",
      "28_komplementaermedizin_0303.tsv 1 fragment: False\n",
      "...........\n",
      "\n",
      "Senkung von erektilen Dysfunktionen oder     urologischen Symptomen\n",
      "Senkung von erektilen Dysfunktionen oder von urologischen Symptomen\n",
      "                                         ^^^^^^^^^^^^^^^^          \n",
      "28_komplementaermedizin_0147.tsv 2 fragment: False\n",
      "...........\n",
      "\n",
      "erhöhtes Risiko für Fernmetastasen bei Invasion perikolischer Venen [ REF ] , [ REF ] ,     angiolymphatischer Invasion [ REF ] , [ REF ] ,     G3 / G4 Tumoren oder     pT2 - Tumoren\n",
      "erhöhtes Risiko für Fernmetastasen bei Invasion perikolischer Venen [ REF ] , [ REF ] , bei angiolymphatischer Invasion [ REF ] , [ REF ] , bei G3 / G4 Tumoren oder bei pT2 - Tumoren\n",
      "                                                                                        ^^^^^^^^^^^^^^^^^^^^^^                              ^^^^^^                   ^^^^^^^          \n",
      "02_kolorektales-karzinom_0498.tsv 6 fragment: False\n",
      "...........\n",
      "\n",
      "Prophylaxe von verzögerter Übelkeit und     Erbrechen unter medikamentöser Tumortherapie\n",
      "Prophylaxe von verzögerter Übelkeit und von Erbrechen unter medikamentöser Tumortherapie\n",
      "                                        ^^^^^^^^^^^^^                                   \n",
      "27_supportive-therapie_0135.tsv 1 fragment: False\n",
      "...........\n",
      "\n",
      "Bestrahlungsdosen im Bereich der Haut und            der viszeralen Organe\n",
      "Bestrahlungsdosen im Bereich der Haut und im Bereich der viszeralen Organe\n",
      "                                          ^^^^^^^^^^^^^^                  \n",
      "07_malignes-melanom_0230.tsv 24 fragment: False\n",
      "...........\n",
      "\n",
      "           chemotherapie\n",
      "Zweitlinienchemotherapie\n",
      "^^^^^^^^^^^^^^^^^^^^^^^^\n",
      "24_analkarzinom_0178.tsv 69 fragment: False\n",
      "...........\n",
      "\n",
      "Wiedereingliederung in den Alltag und / oder    das berufliche Leben\n",
      "Wiedereingliederung in den Alltag und / oder in das berufliche Leben\n",
      "                                             ^^^^^^                 \n",
      "24_analkarzinom_0210.tsv 7 fragment: False\n",
      "...........\n",
      "\n",
      "Hämatombildung bei zellulären                     oder     humoralen Gerinnungsstörungen\n",
      "Hämatombildung bei zellulären Gerinnungsstörungen oder bei humoralen Gerinnungsstörungen\n",
      "                   ^^^^^^^^^^^^^^^^^^^^^^^^^^^^^^      ^^^^^^^^^^^^^                    \n",
      "05_zervixkarzinom_0367.tsv 5 fragment: False\n",
      "...........\n",
      "\n",
      "therapeutisch induzierten         \n",
      "therapeutisch induzierten Effekten\n",
      "              ^^^^^^^^^^^^^^^^^^^^\n",
      "01_magenkarzinom_0128.tsv 15 fragment: False\n",
      "...........\n",
      "\n"
     ]
    }
   ],
   "source": [
    "for _ in range(0, 10):\n",
    "    show_random(results[~results.fragment])"
   ]
  },
  {
   "cell_type": "code",
   "execution_count": 110,
   "id": "58a84bd5-c6cb-4448-b4ce-ee88ac582fde",
   "metadata": {},
   "outputs": [
    {
     "name": "stdout",
     "output_type": "stream",
     "text": [
      "Virtuellen Koloskopie ( bei stenosierenden Tumoren und     inkompletter Koloskopie\n",
      "Virtuellen Koloskopie ( bei stenosierenden Tumoren und bei inkompletter Koloskopie\n",
      "                                                       ^^^^^^^^^^^^^^^^           \n",
      "02_kolorektales-karzinom_0197.tsv 1 fragment: False\n",
      "...........\n",
      "\n",
      "neuen Behandlungsoptionen der letzten Dekade mit Immun - und     zielgerichteten Therapien\n",
      "neuen Behandlungsoptionen der letzten Dekade mit Immun - und mit zielgerichteten Therapien\n",
      "                                                             ^^^^^^^^^^^^^^^^^^^          \n",
      "07_malignes-melanom_0238.tsv 39 fragment: False\n",
      "...........\n",
      "\n",
      "        II\n",
      "Stadium II\n",
      "^^^^^^^^^^\n",
      "08_aktinische-keratose-und-plattenepithelkarzinom-der-haut_0174.tsv 8 fragment: False\n",
      "...........\n",
      "\n",
      "adäquater Sicherheitssäume für Organbeweglichkeit und     Lagerungsungenauigkeit sowie     Patientinnenbeweglichkeit\n",
      "adäquater Sicherheitssäume für Organbeweglichkeit und für Lagerungsungenauigkeit sowie für Patientinnenbeweglichkeit\n",
      "                                                      ^^^^^^^^^^^^^^^^^^^^^^^^^^       ^^^^^^^^^^^^^^^^^^^^^^^^^^^^^\n",
      "05_zervixkarzinom_0185.tsv 21 fragment: False\n",
      "...........\n",
      "\n",
      "Tumoren in Kopf        - ,    Hals     - und    Rachenbereich\n",
      "Tumoren in Kopfbereich  , in Halsbereich  und in Rachenbereich\n",
      "           ^^^^^^^^^^^    ^^^^^^^^^^^^^^      ^^^^^^^^^^^^^^^^\n",
      "28_komplementaermedizin_0242.tsv 36 fragment: False\n",
      "...........\n",
      "\n",
      "mindestens 5 AK auf Gesicht ,     der Kopfhaut oder     den Händen\n",
      "mindestens 5 AK auf Gesicht , auf der Kopfhaut oder auf den Händen\n",
      "                              ^^^^^^^               ^^^^^^^       \n",
      "08_aktinische-keratose-und-plattenepithelkarzinom-der-haut_0086.tsv 98 fragment: False\n",
      "...........\n",
      "\n",
      "3 - Jahres PFS der PET / CT-positiven Patienten im Stadium III +         IV\n",
      "3 - Jahres PFS der PET / CT-positiven Patienten im Stadium III + Stadium IV\n",
      "                                                                 ^^^^^^^^^^\n",
      "18_hodgkin-lymphom_0070.tsv 13 fragment: False\n",
      "...........\n",
      "\n",
      "hochsignifikante Verlängerung von     PFS und OS\n",
      "hochsignifikante Verlängerung von von PFS und OS\n",
      "                              ^^^^^^^           \n",
      "02_kolorektales-karzinom_0437.tsv 10 fragment: False\n",
      "...........\n",
      "\n",
      "klinische Verhalten von adulten Weichgewebesarkomen des Körperstamms /     Thorax\n",
      "klinische Verhalten von adulten Weichgewebesarkomen des Körperstamms / des Thorax\n",
      "                                                                       ^^^^^^^^^^\n",
      "29_adulte-weichgewebesarkome_0117.tsv 3 fragment: False\n",
      "...........\n",
      "\n",
      "Interventions      \n",
      "Interventionsgruppw\n",
      "^^^^^^^^^^^^^^^^^^^\n",
      "28_komplementaermedizin_0242.tsv 468 fragment: False\n",
      "...........\n",
      "\n"
     ]
    }
   ],
   "source": [
    "for _ in range(0, 10):\n",
    "    show_random(results[~results.fragment])"
   ]
  },
  {
   "cell_type": "code",
   "execution_count": 111,
   "id": "fcd96883-20f7-4507-8957-73cd832ea01d",
   "metadata": {},
   "outputs": [],
   "source": [
    "date = datetime.now().strftime(\"%Y%m%d_%H%M%S\")"
   ]
  },
  {
   "cell_type": "code",
   "execution_count": 112,
   "id": "ece375fd-01a5-4a2a-96da-e3a743a50eff",
   "metadata": {},
   "outputs": [
    {
     "data": {
      "text/plain": [
       "'20220512_130813'"
      ]
     },
     "execution_count": 112,
     "metadata": {},
     "output_type": "execute_result"
    }
   ],
   "source": [
    "date"
   ]
  },
  {
   "cell_type": "code",
   "execution_count": 113,
   "id": "816881e3-a2ab-49d3-8989-67d47bc5e413",
   "metadata": {},
   "outputs": [],
   "source": [
    "results.to_excel(f'ellipses_no_hyphens_{date}.xlsx')"
   ]
  },
  {
   "cell_type": "code",
   "execution_count": null,
   "id": "a17862ee-9d45-484a-b3b1-25e32b5333ea",
   "metadata": {},
   "outputs": [],
   "source": []
  }
 ],
 "metadata": {
  "kernelspec": {
   "display_name": "Python 3 (ipykernel)",
   "language": "python",
   "name": "python3"
  },
  "language_info": {
   "codemirror_mode": {
    "name": "ipython",
    "version": 3
   },
   "file_extension": ".py",
   "mimetype": "text/x-python",
   "name": "python",
   "nbconvert_exporter": "python",
   "pygments_lexer": "ipython3",
   "version": "3.8.12"
  }
 },
 "nbformat": 4,
 "nbformat_minor": 5
}
