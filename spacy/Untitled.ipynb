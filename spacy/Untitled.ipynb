{
 "cells": [
  {
   "cell_type": "markdown",
   "id": "f7a15720-d623-44e9-9194-dacbf38f0aa1",
   "metadata": {},
   "source": [
    "https://spacy.io/api/spancategorizer"
   ]
  },
  {
   "cell_type": "code",
   "execution_count": 52,
   "id": "32b4afc0-33fd-4eb2-8df9-6321b940631b",
   "metadata": {},
   "outputs": [],
   "source": [
    "import spacy\n",
    "import pandas as pd"
   ]
  },
  {
   "cell_type": "code",
   "execution_count": 55,
   "id": "fe2819c2-2522-4a33-a493-9535f8139601",
   "metadata": {},
   "outputs": [],
   "source": [
    "nlp = spacy.load('./training/model-best/')\n",
    "def extract_snomed(string):\n",
    "    print(string)\n",
    "    doc_p = nlp(string)\n",
    "    res = []\n",
    "    for s in sorted(doc_p.spans['snomed'], key=lambda x: x.start):\n",
    "        res.append({'start' : s.start, 'end' : s.end, 'mention' : s.text, 'label' : s.label_})\n",
    "    return pd.DataFrame(res)"
   ]
  },
  {
   "cell_type": "code",
   "execution_count": 44,
   "id": "e651675b-4453-41b5-a97f-7e1d49db552c",
   "metadata": {},
   "outputs": [],
   "source": [
    "s = \"\"\"Die operative Therapie und Behandlung eines retroperitonealen Sarkoms mit Sotorasub soll in einem Sarkomzentrum mit spezieller Expertise in der Chirurgie von RPS erfolgen\"\"\""
   ]
  },
  {
   "cell_type": "code",
   "execution_count": 56,
   "id": "71e7b4b9-f04c-46bb-a6eb-7f1e59892f7b",
   "metadata": {},
   "outputs": [
    {
     "name": "stdout",
     "output_type": "stream",
     "text": [
      "Die operative Therapie und Behandlung eines retroperitonealen Sarkoms mit Sotorasub soll in einem Sarkomzentrum mit spezieller Expertise in der Chirurgie von RPS erfolgen\n"
     ]
    },
    {
     "data": {
      "text/html": [
       "<div>\n",
       "<style scoped>\n",
       "    .dataframe tbody tr th:only-of-type {\n",
       "        vertical-align: middle;\n",
       "    }\n",
       "\n",
       "    .dataframe tbody tr th {\n",
       "        vertical-align: top;\n",
       "    }\n",
       "\n",
       "    .dataframe thead th {\n",
       "        text-align: right;\n",
       "    }\n",
       "</style>\n",
       "<table border=\"1\" class=\"dataframe\">\n",
       "  <thead>\n",
       "    <tr style=\"text-align: right;\">\n",
       "      <th></th>\n",
       "      <th>start</th>\n",
       "      <th>end</th>\n",
       "      <th>mention</th>\n",
       "      <th>label</th>\n",
       "    </tr>\n",
       "  </thead>\n",
       "  <tbody>\n",
       "    <tr>\n",
       "      <th>0</th>\n",
       "      <td>1</td>\n",
       "      <td>3</td>\n",
       "      <td>operative Therapie</td>\n",
       "      <td>Therapeutic</td>\n",
       "    </tr>\n",
       "    <tr>\n",
       "      <th>1</th>\n",
       "      <td>6</td>\n",
       "      <td>8</td>\n",
       "      <td>retroperitonealen Sarkoms</td>\n",
       "      <td>Diagnosis_or_Pathology</td>\n",
       "    </tr>\n",
       "    <tr>\n",
       "      <th>2</th>\n",
       "      <td>9</td>\n",
       "      <td>10</td>\n",
       "      <td>Sotorasub</td>\n",
       "      <td>Clinical_Drug</td>\n",
       "    </tr>\n",
       "    <tr>\n",
       "      <th>3</th>\n",
       "      <td>13</td>\n",
       "      <td>14</td>\n",
       "      <td>Sarkomzentrum</td>\n",
       "      <td>Diagnosis_or_Pathology</td>\n",
       "    </tr>\n",
       "    <tr>\n",
       "      <th>4</th>\n",
       "      <td>19</td>\n",
       "      <td>22</td>\n",
       "      <td>Chirurgie von RPS</td>\n",
       "      <td>Therapeutic</td>\n",
       "    </tr>\n",
       "    <tr>\n",
       "      <th>5</th>\n",
       "      <td>21</td>\n",
       "      <td>22</td>\n",
       "      <td>RPS</td>\n",
       "      <td>Diagnosis_or_Pathology</td>\n",
       "    </tr>\n",
       "  </tbody>\n",
       "</table>\n",
       "</div>"
      ],
      "text/plain": [
       "   start  end                    mention                   label\n",
       "0      1    3         operative Therapie             Therapeutic\n",
       "1      6    8  retroperitonealen Sarkoms  Diagnosis_or_Pathology\n",
       "2      9   10                  Sotorasub           Clinical_Drug\n",
       "3     13   14              Sarkomzentrum  Diagnosis_or_Pathology\n",
       "4     19   22          Chirurgie von RPS             Therapeutic\n",
       "5     21   22                        RPS  Diagnosis_or_Pathology"
      ]
     },
     "execution_count": 56,
     "metadata": {},
     "output_type": "execute_result"
    }
   ],
   "source": [
    "extract_snomed(s)"
   ]
  },
  {
   "cell_type": "code",
   "execution_count": 49,
   "id": "2bba005f-5beb-4515-9852-60470df57b8f",
   "metadata": {},
   "outputs": [],
   "source": [
    "s1 = \"\"\"Als Alternative empfiehlt die ASCCP bei zytologischem Verdacht auf CIN 1/2 die sofortige Kolposkopie.\"\"\""
   ]
  },
  {
   "cell_type": "code",
   "execution_count": 57,
   "id": "f887763e-81b8-4535-9891-e4fb4ad18e45",
   "metadata": {},
   "outputs": [
    {
     "name": "stdout",
     "output_type": "stream",
     "text": [
      "Als Alternative empfiehlt die ASCCP bei zytologischem Verdacht auf CIN 1/2 die sofortige Kolposkopie.\n"
     ]
    },
    {
     "data": {
      "text/html": [
       "<div>\n",
       "<style scoped>\n",
       "    .dataframe tbody tr th:only-of-type {\n",
       "        vertical-align: middle;\n",
       "    }\n",
       "\n",
       "    .dataframe tbody tr th {\n",
       "        vertical-align: top;\n",
       "    }\n",
       "\n",
       "    .dataframe thead th {\n",
       "        text-align: right;\n",
       "    }\n",
       "</style>\n",
       "<table border=\"1\" class=\"dataframe\">\n",
       "  <thead>\n",
       "    <tr style=\"text-align: right;\">\n",
       "      <th></th>\n",
       "      <th>start</th>\n",
       "      <th>end</th>\n",
       "      <th>mention</th>\n",
       "      <th>label</th>\n",
       "    </tr>\n",
       "  </thead>\n",
       "  <tbody>\n",
       "    <tr>\n",
       "      <th>0</th>\n",
       "      <td>6</td>\n",
       "      <td>13</td>\n",
       "      <td>zytologischem Verdacht auf CIN 1/2</td>\n",
       "      <td>Other_Finding</td>\n",
       "    </tr>\n",
       "    <tr>\n",
       "      <th>1</th>\n",
       "      <td>9</td>\n",
       "      <td>13</td>\n",
       "      <td>CIN 1/2</td>\n",
       "      <td>Diagnosis_or_Pathology</td>\n",
       "    </tr>\n",
       "    <tr>\n",
       "      <th>2</th>\n",
       "      <td>14</td>\n",
       "      <td>16</td>\n",
       "      <td>sofortige Kolposkopie</td>\n",
       "      <td>Diagnostic</td>\n",
       "    </tr>\n",
       "  </tbody>\n",
       "</table>\n",
       "</div>"
      ],
      "text/plain": [
       "   start  end                             mention                   label\n",
       "0      6   13  zytologischem Verdacht auf CIN 1/2           Other_Finding\n",
       "1      9   13                             CIN 1/2  Diagnosis_or_Pathology\n",
       "2     14   16               sofortige Kolposkopie              Diagnostic"
      ]
     },
     "execution_count": 57,
     "metadata": {},
     "output_type": "execute_result"
    }
   ],
   "source": [
    "extract_snomed(s1)"
   ]
  },
  {
   "cell_type": "code",
   "execution_count": 58,
   "id": "2c726e28-c536-4a6f-a472-16fabe22bc61",
   "metadata": {},
   "outputs": [],
   "source": [
    "s2 = \"\"\"Antibiose fortsetzen (s. o.), Abstrich erfragen, ggf. Umstellung der Antibiose. Thromboseprophylaxe bis zur sicheren Mobilität.\"\"\""
   ]
  },
  {
   "cell_type": "code",
   "execution_count": 59,
   "id": "213202e6-ea7e-48d9-89d1-a225f679dff0",
   "metadata": {},
   "outputs": [
    {
     "name": "stdout",
     "output_type": "stream",
     "text": [
      "Antibiose fortsetzen (s. o.), Abstrich erfragen, ggf. Umstellung der Antibiose. Thromboseprophylaxe bis zur sicheren Mobilität.\n"
     ]
    },
    {
     "data": {
      "text/html": [
       "<div>\n",
       "<style scoped>\n",
       "    .dataframe tbody tr th:only-of-type {\n",
       "        vertical-align: middle;\n",
       "    }\n",
       "\n",
       "    .dataframe tbody tr th {\n",
       "        vertical-align: top;\n",
       "    }\n",
       "\n",
       "    .dataframe thead th {\n",
       "        text-align: right;\n",
       "    }\n",
       "</style>\n",
       "<table border=\"1\" class=\"dataframe\">\n",
       "  <thead>\n",
       "    <tr style=\"text-align: right;\">\n",
       "      <th></th>\n",
       "      <th>start</th>\n",
       "      <th>end</th>\n",
       "      <th>mention</th>\n",
       "      <th>label</th>\n",
       "    </tr>\n",
       "  </thead>\n",
       "  <tbody>\n",
       "    <tr>\n",
       "      <th>0</th>\n",
       "      <td>7</td>\n",
       "      <td>8</td>\n",
       "      <td>Abstrich</td>\n",
       "      <td>Diagnostic</td>\n",
       "    </tr>\n",
       "    <tr>\n",
       "      <th>1</th>\n",
       "      <td>11</td>\n",
       "      <td>14</td>\n",
       "      <td>Umstellung der Antibiose</td>\n",
       "      <td>Therapeutic</td>\n",
       "    </tr>\n",
       "    <tr>\n",
       "      <th>2</th>\n",
       "      <td>15</td>\n",
       "      <td>16</td>\n",
       "      <td>Thromboseprophylaxe</td>\n",
       "      <td>Therapeutic</td>\n",
       "    </tr>\n",
       "    <tr>\n",
       "      <th>3</th>\n",
       "      <td>18</td>\n",
       "      <td>20</td>\n",
       "      <td>sicheren Mobilität</td>\n",
       "      <td>Other_Finding</td>\n",
       "    </tr>\n",
       "  </tbody>\n",
       "</table>\n",
       "</div>"
      ],
      "text/plain": [
       "   start  end                   mention          label\n",
       "0      7    8                  Abstrich     Diagnostic\n",
       "1     11   14  Umstellung der Antibiose    Therapeutic\n",
       "2     15   16       Thromboseprophylaxe    Therapeutic\n",
       "3     18   20        sicheren Mobilität  Other_Finding"
      ]
     },
     "execution_count": 59,
     "metadata": {},
     "output_type": "execute_result"
    }
   ],
   "source": [
    "extract_snomed(s2)"
   ]
  },
  {
   "cell_type": "code",
   "execution_count": null,
   "id": "0e464c27-da4f-45f2-b206-a37dcde2c97c",
   "metadata": {},
   "outputs": [],
   "source": []
  }
 ],
 "metadata": {
  "kernelspec": {
   "display_name": "Python [conda env:spacy]",
   "language": "python",
   "name": "conda-env-spacy-py"
  },
  "language_info": {
   "codemirror_mode": {
    "name": "ipython",
    "version": 3
   },
   "file_extension": ".py",
   "mimetype": "text/x-python",
   "name": "python",
   "nbconvert_exporter": "python",
   "pygments_lexer": "ipython3",
   "version": "3.9.7"
  }
 },
 "nbformat": 4,
 "nbformat_minor": 5
}
